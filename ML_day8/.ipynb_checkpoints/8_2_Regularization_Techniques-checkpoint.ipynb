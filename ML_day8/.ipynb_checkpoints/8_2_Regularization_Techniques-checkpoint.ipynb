{
 "cells": [
  {
   "cell_type": "markdown",
   "metadata": {},
   "source": [
    "# Regularization Techniques"
   ]
  },
  {
   "cell_type": "markdown",
   "metadata": {},
   "source": [
    "Ref:    \n",
    "* https://pytorch.org/tutorials/beginner/basics/data_tutorial.html\n",
    "* https://yceffort.kr/2019/02/13/pytorch-fashion-MNIST"
   ]
  },
  {
   "cell_type": "markdown",
   "metadata": {},
   "source": [
    "본 실습에서는 FashionMNIST data를 활용하였습니다."
   ]
  },
  {
   "cell_type": "markdown",
   "metadata": {},
   "source": [
    "<a href=\"https://colab.research.google.com/github/SLCFLAB/Fintech2023/blob/main/ML_day8/8_2_Regularization_Techniques.ipynb\" target=\"_parent\"><img src=\"https://colab.research.google.com/assets/colab-badge.svg\" alt=\"Open In Colab\"/></a>"
   ]
  },
  {
   "cell_type": "markdown",
   "metadata": {},
   "source": [
    "## Import Libraries"
   ]
  },
  {
   "cell_type": "code",
   "execution_count": 1,
   "metadata": {},
   "outputs": [],
   "source": [
    "import numpy as np\n",
    "import matplotlib.pyplot as plt\n",
    "%matplotlib inline\n",
    "\n",
    "import torch\n",
    "import torch.nn as nn\n",
    "import torch.nn.functional as F\n",
    "import torch.optim as optim\n",
    "\n",
    "from torch.utils.data import DataLoader\n",
    "\n",
    "from torchvision import datasets, transforms\n",
    "\n",
    "from torchsummary import summary"
   ]
  },
  {
   "cell_type": "markdown",
   "metadata": {},
   "source": [
    "## Load Data (FashionMNIST)"
   ]
  },
  {
   "cell_type": "code",
   "execution_count": 2,
   "metadata": {},
   "outputs": [],
   "source": [
    "training_data = datasets.FashionMNIST(\n",
    "    root=\"data\",\n",
    "    train=True,\n",
    "    download=True,\n",
    "    transform=transforms.ToTensor()\n",
    ")\n",
    "\n",
    "test_data = datasets.FashionMNIST(\n",
    "    root=\"data\",\n",
    "    train=False,\n",
    "    download=True,\n",
    "    transform=transforms.ToTensor()\n",
    ")"
   ]
  },
  {
   "cell_type": "code",
   "execution_count": 3,
   "metadata": {},
   "outputs": [
    {
     "data": {
      "image/png": "[encoded data removed]",
      "text/plain": [
       "<Figure size 576x576 with 9 Axes>"
      ]
     },
     "metadata": {
      "needs_background": "light"
     },
     "output_type": "display_data"
    }
   ],
   "source": [
    "labels_map = {\n",
    "    0: \"T-Shirt\",\n",
    "    1: \"Trouser\",\n",
    "    2: \"Pullover\",\n",
    "    3: \"Dress\",\n",
    "    4: \"Coat\",\n",
    "    5: \"Sandal\",\n",
    "    6: \"Shirt\",\n",
    "    7: \"Sneaker\",\n",
    "    8: \"Bag\",\n",
    "    9: \"Ankle Boot\",\n",
    "}\n",
    "figure = plt.figure(figsize=(8, 8))\n",
    "cols, rows = 3, 3\n",
    "for i in range(1, cols * rows + 1):\n",
    "    sample_idx = torch.randint(len(training_data), size=(1,)).item()\n",
    "    img, label = training_data[sample_idx]\n",
    "    figure.add_subplot(rows, cols, i)\n",
    "    plt.title(labels_map[label])\n",
    "    plt.axis(\"off\")\n",
    "    plt.imshow(img.squeeze(), cmap=\"gray\")\n",
    "plt.show()"
   ]
  },
  {
   "cell_type": "code",
   "execution_count": 4,
   "metadata": {},
   "outputs": [],
   "source": [
    "batch_size = 32"
   ]
  },
  {
   "cell_type": "code",
   "execution_count": 5,
   "metadata": {},
   "outputs": [],
   "source": [
    "train_dataloader = DataLoader(\n",
    "    training_data, \n",
    "    batch_size=batch_size, \n",
    "    shuffle=True\n",
    ")\n",
    "\n",
    "test_dataloader = DataLoader(\n",
    "    test_data, \n",
    "    batch_size=batch_size, \n",
    "    shuffle=True\n",
    ")"
   ]
  },
  {
   "cell_type": "code",
   "execution_count": 6,
   "metadata": {},
   "outputs": [
    {
     "name": "stdout",
     "output_type": "stream",
     "text": [
      "Feature batch shape: torch.Size([32, 1, 28, 28])\n",
      "Labels batch shape: torch.Size([32])\n"
     ]
    },
    {
     "data": {
      "image/png": "[encoded data removed]",
      "text/plain": [
       "<Figure size 432x288 with 1 Axes>"
      ]
     },
     "metadata": {
      "needs_background": "light"
     },
     "output_type": "display_data"
    },
    {
     "name": "stdout",
     "output_type": "stream",
     "text": [
      "Label: 5 (labels_map[int(label)])\n"
     ]
    }
   ],
   "source": [
    "# Display image and label.\n",
    "train_features, train_labels = next(iter(train_dataloader))\n",
    "print(f\"Feature batch shape: {train_features.size()}\")\n",
    "print(f\"Labels batch shape: {train_labels.size()}\")\n",
    "img = train_features[0].squeeze()\n",
    "label = train_labels[0]\n",
    "plt.imshow(img, cmap=\"gray\")\n",
    "plt.show()\n",
    "print(f\"Label: {label} (labels_map[int(label)])\")"
   ]
  },
  {
   "cell_type": "code",
   "execution_count": 7,
   "metadata": {},
   "outputs": [
    {
     "data": {
      "text/plain": [
       "60000"
      ]
     },
     "execution_count": 7,
     "metadata": {},
     "output_type": "execute_result"
    }
   ],
   "source": [
    "len(training_data)"
   ]
  },
  {
   "cell_type": "code",
   "execution_count": 8,
   "metadata": {},
   "outputs": [
    {
     "data": {
      "text/plain": [
       "1875"
      ]
     },
     "execution_count": 8,
     "metadata": {},
     "output_type": "execute_result"
    }
   ],
   "source": [
    "len(train_dataloader)"
   ]
  },
  {
   "cell_type": "markdown",
   "metadata": {},
   "source": [
    "## Build Neural Network with Regularization & Normalization Techniques"
   ]
  },
  {
   "cell_type": "markdown",
   "metadata": {},
   "source": [
    "Prominent Techniques\n",
    "* Batch Normalization: **Internal Covariance Shift** 방지\n",
    "* Dropout: **Overfitting** 방지"
   ]
  },
  {
   "cell_type": "code",
   "execution_count": 9,
   "metadata": {},
   "outputs": [],
   "source": [
    "class Net(nn.Module):\n",
    "    def __init__(self):\n",
    "        super().__init__()\n",
    "        self.fc1 = nn.Linear(28 * 28, 2**8)\n",
    "        self.fc2 = nn.Linear(2**8, 2**6)\n",
    "        self.fc3 = nn.Linear(2**6, 2**5)\n",
    "        self.fc4 = nn.Linear(2**5, 10)\n",
    "        \n",
    "    def forward(self, x):\n",
    "        x = torch.flatten(x, 1)\n",
    "        x = F.relu(self.fc1(x))\n",
    "        x = F.relu(self.fc2(x))\n",
    "        x = F.relu(self.fc3(x))\n",
    "        x = self.fc4(x)\n",
    "        x = F.softmax(x, dim=1)\n",
    "        return x"
   ]
  },
  {
   "cell_type": "code",
   "execution_count": 10,
   "metadata": {},
   "outputs": [],
   "source": [
    "class NetBN(nn.Module):\n",
    "    def __init__(self):\n",
    "        super().__init__()\n",
    "        self.fc1 = nn.Linear(28 * 28, 2**8)\n",
    "        self.bn1 = nn.BatchNorm1d(2**8)\n",
    "        self.fc2 = nn.Linear(2**8, 2**6)\n",
    "        self.bn2 = nn.BatchNorm1d(2**6)\n",
    "        self.fc3 = nn.Linear(2**6, 2**5)\n",
    "        self.fc4 = nn.Linear(2**5, 10)\n",
    "        \n",
    "    def forward(self, x):\n",
    "        # same as torch.flatten(x,1)\n",
    "        x = x.view(x.size(0), -1)\n",
    "        x = F.relu(self.bn1(self.fc1(x)))\n",
    "        x = F.relu(self.bn2(self.fc2(x)))\n",
    "        x = F.relu(self.fc3(x))\n",
    "        x = self.fc4(x)\n",
    "        x = F.softmax(x, dim=1)\n",
    "        return x"
   ]
  },
  {
   "cell_type": "code",
   "execution_count": 11,
   "metadata": {},
   "outputs": [],
   "source": [
    "class NetDO(nn.Module):\n",
    "    def __init__(self):\n",
    "        super().__init__()\n",
    "        self.fc1 = nn.Linear(28 * 28, 2**8)\n",
    "        self.fc2 = nn.Linear(2**8, 2**6)\n",
    "        self.fc3 = nn.Linear(2**6, 2**5)\n",
    "        self.fc4 = nn.Linear(2**5, 10)\n",
    "        self.dropout1 = nn.Dropout(p=0.8)\n",
    "        self.dropout2 = nn.Dropout(p=0.5)\n",
    "        \n",
    "    def forward(self, x):\n",
    "        # same as x.view(x.size(0), -1)\n",
    "        x = x.view(x.shape[0], -1)\n",
    "        x = F.relu(self.fc1(x))\n",
    "        x = self.dropout1(x)\n",
    "        x = F.relu(self.fc2(x))\n",
    "        x = self.dropout2(x)\n",
    "        x = F.relu(self.fc3(x))\n",
    "        x = self.fc4(x)\n",
    "        x = F.softmax(x, dim=1)\n",
    "        return x"
   ]
  },
  {
   "cell_type": "markdown",
   "metadata": {},
   "source": [
    "## Train the Network"
   ]
  },
  {
   "cell_type": "markdown",
   "metadata": {},
   "source": [
    "### Select loss function, optimizer, learning rate scheduler"
   ]
  },
  {
   "cell_type": "code",
   "execution_count": 12,
   "metadata": {},
   "outputs": [],
   "source": [
    "num_epochs = 20"
   ]
  },
  {
   "cell_type": "code",
   "execution_count": 13,
   "metadata": {},
   "outputs": [],
   "source": [
    "device = torch.device('cuda:0' if torch.cuda.is_available() else 'cpu')"
   ]
  },
  {
   "cell_type": "code",
   "execution_count": 14,
   "metadata": {},
   "outputs": [],
   "source": [
    "net_nn = Net()\n",
    "net_bn = NetBN()\n",
    "net_do = NetDO()"
   ]
  },
  {
   "cell_type": "code",
   "execution_count": 15,
   "metadata": {},
   "outputs": [],
   "source": [
    "criterion = nn.CrossEntropyLoss()"
   ]
  },
  {
   "cell_type": "code",
   "execution_count": 16,
   "metadata": {},
   "outputs": [],
   "source": [
    "optimizer_nn = optim.Adam(\n",
    "    net_nn.parameters(), \n",
    "    lr=0.001, \n",
    ")"
   ]
  },
  {
   "cell_type": "code",
   "execution_count": 17,
   "metadata": {},
   "outputs": [],
   "source": [
    "optimizer_bn = optim.Adam(\n",
    "    net_bn.parameters(), \n",
    "    lr=0.001, \n",
    ")"
   ]
  },
  {
   "cell_type": "code",
   "execution_count": 18,
   "metadata": {},
   "outputs": [],
   "source": [
    "optimizer_do = optim.Adam(\n",
    "    net_do.parameters(), \n",
    "    lr=0.001, \n",
    ")"
   ]
  },
  {
   "cell_type": "markdown",
   "metadata": {},
   "source": [
    "`torch.optim.lr_scheduler.StepLR()`: step_size마다 gamma의 비율로 learning_rate 감소"
   ]
  },
  {
   "cell_type": "code",
   "execution_count": 19,
   "metadata": {},
   "outputs": [],
   "source": [
    "scheduler_nn = torch.optim.lr_scheduler.StepLR(optimizer_nn, step_size= 5, gamma=0.8)"
   ]
  },
  {
   "cell_type": "code",
   "execution_count": 20,
   "metadata": {},
   "outputs": [],
   "source": [
    "scheduler_bn = torch.optim.lr_scheduler.StepLR(optimizer_bn, step_size= 5, gamma=0.8)"
   ]
  },
  {
   "cell_type": "code",
   "execution_count": 21,
   "metadata": {},
   "outputs": [],
   "source": [
    "scheduler_do = torch.optim.lr_scheduler.StepLR(optimizer_do, step_size= 5, gamma=0.8)"
   ]
  },
  {
   "cell_type": "markdown",
   "metadata": {},
   "source": [
    "### Define `train(net, optimizer, scheduler, path_name)` Function"
   ]
  },
  {
   "cell_type": "code",
   "execution_count": 22,
   "metadata": {},
   "outputs": [],
   "source": [
    "def train(net, optimizer, scheduler, path_name):\n",
    "    \n",
    "    train_losses, test_losses = [], []\n",
    "\n",
    "    for epoch in range(num_epochs):  # loop over the dataset multiple times\n",
    "\n",
    "        # set train mode\n",
    "        net.train()\n",
    "        \n",
    "        # training\n",
    "        running_loss = 0.0\n",
    "\n",
    "        for inputs, labels in train_dataloader:\n",
    "\n",
    "            inputs, labels = inputs.to(device), labels.to(device)\n",
    "\n",
    "            # zero the parameter gradients\n",
    "            optimizer.zero_grad()\n",
    "\n",
    "            outputs = net(inputs)\n",
    "\n",
    "            loss = criterion(outputs, labels)\n",
    "\n",
    "            loss.backward()\n",
    "\n",
    "            optimizer.step()\n",
    "\n",
    "            running_loss += loss.item()\n",
    "\n",
    "        # adjust learning rate with scheduler\n",
    "        scheduler.step()\n",
    "\n",
    "\n",
    "        # evaluation(validation)\n",
    "        test_loss = 0.0\n",
    "        accuracy = 0.0\n",
    "\n",
    "        # turn off grardients for validation\n",
    "        with torch.no_grad():\n",
    "            \n",
    "            # set evaluation (test) mode\n",
    "            net.eval()\n",
    "            \n",
    "            for inputs, labels in test_dataloader:\n",
    "\n",
    "                inputs, labels = inputs.to(device), labels.to(device)\n",
    "\n",
    "                outputs = net(inputs)\n",
    "\n",
    "                test_loss += criterion(outputs, labels)\n",
    "\n",
    "                # 로그 확률에 지수 적용\n",
    "                ps = torch.exp(outputs)\n",
    "\n",
    "                # topk는 k번째로 큰 숫자를 찾아내는 것\n",
    "                # dim=1 는 dimension을 의미\n",
    "                top_p, top_class = ps.topk(1, dim=1)\n",
    "\n",
    "\n",
    "                # labels를 top_class와 똑같은 형태로 만든다음에, 얼마나 같은게 있는지 확인한다.\n",
    "                equals = top_class == labels.view(*top_class.shape)\n",
    "\n",
    "\n",
    "                # equals를 float으로 바꾸고 평균 정확도를 구한다.\n",
    "                accuracy += torch.mean(equals.type(torch.FloatTensor))\n",
    "\n",
    "\n",
    "        test_accuracy = accuracy / len(test_dataloader)\n",
    "\n",
    "        current_train_loss = running_loss / len(train_dataloader)\n",
    "        current_test_loss = test_loss / len(test_dataloader)\n",
    "\n",
    "        train_losses.append(current_train_loss)\n",
    "        test_losses.append(current_test_loss.detach().cpu().numpy())\n",
    "\n",
    "        print(\n",
    "            f\"Epoch: {epoch+1} / {num_epochs}..\", \n",
    "            \"Training Loss: {:.5f}..  \".format(current_train_loss),\n",
    "            \"Test Loss: {:.5f}..  \".format(current_test_loss),        \n",
    "            \"Test Accuracy: {:.3f}\".format(test_accuracy)\n",
    "\n",
    "        )\n",
    "        \n",
    "    # save trained model\n",
    "    PATH = f'./{path_name}.pth'\n",
    "    torch.save(net.state_dict(), PATH)\n",
    "        \n",
    "    return train_losses, test_losses"
   ]
  },
  {
   "cell_type": "markdown",
   "metadata": {},
   "source": [
    "### Näive Neural Net"
   ]
  },
  {
   "cell_type": "code",
   "execution_count": 23,
   "metadata": {},
   "outputs": [],
   "source": [
    "net = net_nn\n",
    "optimizer = optimizer_nn\n",
    "scheduler = scheduler_nn"
   ]
  },
  {
   "cell_type": "code",
   "execution_count": 24,
   "metadata": {},
   "outputs": [],
   "source": [
    "net = net.to(device)"
   ]
  },
  {
   "cell_type": "code",
   "execution_count": 25,
   "metadata": {},
   "outputs": [
    {
     "name": "stdout",
     "output_type": "stream",
     "text": [
      "----------------------------------------------------------------\n",
      "        Layer (type)               Output Shape         Param #\n",
      "================================================================\n",
      "            Linear-1                  [32, 256]         200,960\n",
      "            Linear-2                   [32, 64]          16,448\n",
      "            Linear-3                   [32, 32]           2,080\n",
      "            Linear-4                   [32, 10]             330\n",
      "================================================================\n",
      "Total params: 219,818\n",
      "Trainable params: 219,818\n",
      "Non-trainable params: 0\n",
      "----------------------------------------------------------------\n",
      "Input size (MB): 0.10\n",
      "Forward/backward pass size (MB): 0.09\n",
      "Params size (MB): 0.84\n",
      "Estimated Total Size (MB): 1.02\n",
      "----------------------------------------------------------------\n"
     ]
    }
   ],
   "source": [
    "summary(net, (1,28,28), batch_size = batch_size)"
   ]
  },
  {
   "cell_type": "code",
   "execution_count": 26,
   "metadata": {},
   "outputs": [
    {
     "name": "stdout",
     "output_type": "stream",
     "text": [
      "Epoch: 1 / 20.. Training Loss: 1.72980..   Test Loss: 1.64891..   Test Accuracy: 0.813\n",
      "Epoch: 2 / 20.. Training Loss: 1.63554..   Test Loss: 1.63418..   Test Accuracy: 0.826\n",
      "Epoch: 3 / 20.. Training Loss: 1.62488..   Test Loss: 1.63681..   Test Accuracy: 0.824\n",
      "Epoch: 4 / 20.. Training Loss: 1.61790..   Test Loss: 1.62438..   Test Accuracy: 0.837\n",
      "Epoch: 5 / 20.. Training Loss: 1.60923..   Test Loss: 1.62167..   Test Accuracy: 0.839\n",
      "Epoch: 6 / 20.. Training Loss: 1.59880..   Test Loss: 1.60256..   Test Accuracy: 0.858\n",
      "Epoch: 7 / 20.. Training Loss: 1.59542..   Test Loss: 1.62646..   Test Accuracy: 0.835\n",
      "Epoch: 8 / 20.. Training Loss: 1.59117..   Test Loss: 1.60231..   Test Accuracy: 0.859\n",
      "Epoch: 9 / 20.. Training Loss: 1.58847..   Test Loss: 1.60077..   Test Accuracy: 0.859\n",
      "Epoch: 10 / 20.. Training Loss: 1.58656..   Test Loss: 1.62299..   Test Accuracy: 0.838\n",
      "Epoch: 11 / 20.. Training Loss: 1.58328..   Test Loss: 1.60648..   Test Accuracy: 0.853\n",
      "Epoch: 12 / 20.. Training Loss: 1.57943..   Test Loss: 1.59789..   Test Accuracy: 0.862\n",
      "Epoch: 13 / 20.. Training Loss: 1.57981..   Test Loss: 1.59819..   Test Accuracy: 0.862\n",
      "Epoch: 14 / 20.. Training Loss: 1.57859..   Test Loss: 1.59490..   Test Accuracy: 0.866\n",
      "Epoch: 15 / 20.. Training Loss: 1.57840..   Test Loss: 1.60575..   Test Accuracy: 0.855\n",
      "Epoch: 16 / 20.. Training Loss: 1.57456..   Test Loss: 1.59259..   Test Accuracy: 0.868\n",
      "Epoch: 17 / 20.. Training Loss: 1.57215..   Test Loss: 1.59714..   Test Accuracy: 0.863\n",
      "Epoch: 18 / 20.. Training Loss: 1.57324..   Test Loss: 1.59305..   Test Accuracy: 0.868\n",
      "Epoch: 19 / 20.. Training Loss: 1.57007..   Test Loss: 1.59325..   Test Accuracy: 0.867\n",
      "Epoch: 20 / 20.. Training Loss: 1.57060..   Test Loss: 1.59618..   Test Accuracy: 0.864\n"
     ]
    }
   ],
   "source": [
    "train_loss_list_nn, test_loss_list_nn = train(net=net, optimizer=optimizer, scheduler=scheduler, path_name='FMNIST_nn_naive')"
   ]
  },
  {
   "cell_type": "code",
   "execution_count": 27,
   "metadata": {},
   "outputs": [
    {
     "data": {
      "image/png": "[encoded data removed]",
      "text/plain": [
       "<Figure size 432x288 with 1 Axes>"
      ]
     },
     "metadata": {
      "needs_background": "light"
     },
     "output_type": "display_data"
    }
   ],
   "source": [
    "plt.plot(train_loss_list_nn, label='Training loss')\n",
    "plt.plot(test_loss_list_nn, label='Validation loss')\n",
    "plt.legend()\n",
    "plt.title('Training and Validation loss for Näive Neural Net')\n",
    "plt.show()"
   ]
  },
  {
   "cell_type": "markdown",
   "metadata": {},
   "source": [
    "### Neural Network with Batch Normalization"
   ]
  },
  {
   "cell_type": "code",
   "execution_count": 28,
   "metadata": {},
   "outputs": [],
   "source": [
    "net = net_bn\n",
    "optimizer = optimizer_bn\n",
    "scheduler = scheduler_bn"
   ]
  },
  {
   "cell_type": "code",
   "execution_count": 29,
   "metadata": {},
   "outputs": [],
   "source": [
    "net = net.to(device)"
   ]
  },
  {
   "cell_type": "code",
   "execution_count": 30,
   "metadata": {},
   "outputs": [
    {
     "name": "stdout",
     "output_type": "stream",
     "text": [
      "----------------------------------------------------------------\n",
      "        Layer (type)               Output Shape         Param #\n",
      "================================================================\n",
      "            Linear-1                  [32, 256]         200,960\n",
      "       BatchNorm1d-2                  [32, 256]             512\n",
      "            Linear-3                   [32, 64]          16,448\n",
      "       BatchNorm1d-4                   [32, 64]             128\n",
      "            Linear-5                   [32, 32]           2,080\n",
      "            Linear-6                   [32, 10]             330\n",
      "================================================================\n",
      "Total params: 220,458\n",
      "Trainable params: 220,458\n",
      "Non-trainable params: 0\n",
      "----------------------------------------------------------------\n",
      "Input size (MB): 0.10\n",
      "Forward/backward pass size (MB): 0.17\n",
      "Params size (MB): 0.84\n",
      "Estimated Total Size (MB): 1.10\n",
      "----------------------------------------------------------------\n"
     ]
    }
   ],
   "source": [
    "summary(net, (1,28,28), batch_size = batch_size)"
   ]
  },
  {
   "cell_type": "code",
   "execution_count": 31,
   "metadata": {},
   "outputs": [
    {
     "name": "stdout",
     "output_type": "stream",
     "text": [
      "Epoch: 1 / 20.. Training Loss: 1.67360..   Test Loss: 1.63202..   Test Accuracy: 0.830\n",
      "Epoch: 2 / 20.. Training Loss: 1.61582..   Test Loss: 1.61599..   Test Accuracy: 0.846\n",
      "Epoch: 3 / 20.. Training Loss: 1.60493..   Test Loss: 1.60451..   Test Accuracy: 0.856\n",
      "Epoch: 4 / 20.. Training Loss: 1.59697..   Test Loss: 1.60549..   Test Accuracy: 0.855\n",
      "Epoch: 5 / 20.. Training Loss: 1.59365..   Test Loss: 1.60372..   Test Accuracy: 0.857\n",
      "Epoch: 6 / 20.. Training Loss: 1.58578..   Test Loss: 1.59332..   Test Accuracy: 0.867\n",
      "Epoch: 7 / 20.. Training Loss: 1.58141..   Test Loss: 1.59300..   Test Accuracy: 0.867\n",
      "Epoch: 8 / 20.. Training Loss: 1.57885..   Test Loss: 1.58869..   Test Accuracy: 0.872\n",
      "Epoch: 9 / 20.. Training Loss: 1.57672..   Test Loss: 1.58757..   Test Accuracy: 0.874\n",
      "Epoch: 10 / 20.. Training Loss: 1.57339..   Test Loss: 1.59034..   Test Accuracy: 0.871\n",
      "Epoch: 11 / 20.. Training Loss: 1.56967..   Test Loss: 1.58383..   Test Accuracy: 0.877\n",
      "Epoch: 12 / 20.. Training Loss: 1.56722..   Test Loss: 1.58994..   Test Accuracy: 0.870\n",
      "Epoch: 13 / 20.. Training Loss: 1.56317..   Test Loss: 1.58304..   Test Accuracy: 0.878\n",
      "Epoch: 14 / 20.. Training Loss: 1.56305..   Test Loss: 1.58266..   Test Accuracy: 0.877\n",
      "Epoch: 15 / 20.. Training Loss: 1.56069..   Test Loss: 1.58448..   Test Accuracy: 0.876\n",
      "Epoch: 16 / 20.. Training Loss: 1.55653..   Test Loss: 1.57487..   Test Accuracy: 0.887\n",
      "Epoch: 17 / 20.. Training Loss: 1.55549..   Test Loss: 1.57826..   Test Accuracy: 0.883\n",
      "Epoch: 18 / 20.. Training Loss: 1.55508..   Test Loss: 1.57874..   Test Accuracy: 0.882\n",
      "Epoch: 19 / 20.. Training Loss: 1.55228..   Test Loss: 1.57639..   Test Accuracy: 0.883\n",
      "Epoch: 20 / 20.. Training Loss: 1.55047..   Test Loss: 1.57690..   Test Accuracy: 0.883\n"
     ]
    }
   ],
   "source": [
    "train_loss_list_bn, test_loss_list_bn = train(net=net, optimizer=optimizer, scheduler=scheduler, path_name='FMNIST_nn_batchnorm')"
   ]
  },
  {
   "cell_type": "code",
   "execution_count": 32,
   "metadata": {},
   "outputs": [
    {
     "data": {
      "image/png": "[encoded data removed]",
      "text/plain": [
       "<Figure size 432x288 with 1 Axes>"
      ]
     },
     "metadata": {
      "needs_background": "light"
     },
     "output_type": "display_data"
    }
   ],
   "source": [
    "plt.plot(train_loss_list_bn, label='Training loss')\n",
    "plt.plot(test_loss_list_bn, label='Validation loss')\n",
    "plt.legend()\n",
    "plt.title('Training and Validation loss for Neural Net with Batch Normalization')\n",
    "plt.show()"
   ]
  },
  {
   "cell_type": "markdown",
   "metadata": {},
   "source": [
    "### Neural Network with Dropout"
   ]
  },
  {
   "cell_type": "code",
   "execution_count": 33,
   "metadata": {},
   "outputs": [],
   "source": [
    "net = net_do\n",
    "optimizer = optimizer_do\n",
    "scheduler = scheduler_do"
   ]
  },
  {
   "cell_type": "code",
   "execution_count": 34,
   "metadata": {},
   "outputs": [],
   "source": [
    "net = net.to(device)"
   ]
  },
  {
   "cell_type": "code",
   "execution_count": 35,
   "metadata": {},
   "outputs": [
    {
     "name": "stdout",
     "output_type": "stream",
     "text": [
      "----------------------------------------------------------------\n",
      "        Layer (type)               Output Shape         Param #\n",
      "================================================================\n",
      "            Linear-1                  [32, 256]         200,960\n",
      "           Dropout-2                  [32, 256]               0\n",
      "            Linear-3                   [32, 64]          16,448\n",
      "           Dropout-4                   [32, 64]               0\n",
      "            Linear-5                   [32, 32]           2,080\n",
      "            Linear-6                   [32, 10]             330\n",
      "================================================================\n",
      "Total params: 219,818\n",
      "Trainable params: 219,818\n",
      "Non-trainable params: 0\n",
      "----------------------------------------------------------------\n",
      "Input size (MB): 0.10\n",
      "Forward/backward pass size (MB): 0.17\n",
      "Params size (MB): 0.84\n",
      "Estimated Total Size (MB): 1.10\n",
      "----------------------------------------------------------------\n"
     ]
    }
   ],
   "source": [
    "summary(net, (1,28,28), batch_size = batch_size)"
   ]
  },
  {
   "cell_type": "code",
   "execution_count": 36,
   "metadata": {},
   "outputs": [
    {
     "name": "stdout",
     "output_type": "stream",
     "text": [
      "Epoch: 1 / 20.. Training Loss: 1.87135..   Test Loss: 1.70771..   Test Accuracy: 0.754\n",
      "Epoch: 2 / 20.. Training Loss: 1.75211..   Test Loss: 1.68554..   Test Accuracy: 0.773\n",
      "Epoch: 3 / 20.. Training Loss: 1.73276..   Test Loss: 1.67975..   Test Accuracy: 0.780\n",
      "Epoch: 4 / 20.. Training Loss: 1.72664..   Test Loss: 1.66982..   Test Accuracy: 0.791\n",
      "Epoch: 5 / 20.. Training Loss: 1.72041..   Test Loss: 1.67574..   Test Accuracy: 0.784\n",
      "Epoch: 6 / 20.. Training Loss: 1.70826..   Test Loss: 1.66333..   Test Accuracy: 0.796\n",
      "Epoch: 7 / 20.. Training Loss: 1.70550..   Test Loss: 1.66376..   Test Accuracy: 0.797\n",
      "Epoch: 8 / 20.. Training Loss: 1.70002..   Test Loss: 1.65696..   Test Accuracy: 0.803\n",
      "Epoch: 9 / 20.. Training Loss: 1.69501..   Test Loss: 1.65327..   Test Accuracy: 0.807\n",
      "Epoch: 10 / 20.. Training Loss: 1.69896..   Test Loss: 1.65069..   Test Accuracy: 0.810\n",
      "Epoch: 11 / 20.. Training Loss: 1.68915..   Test Loss: 1.64552..   Test Accuracy: 0.815\n",
      "Epoch: 12 / 20.. Training Loss: 1.68689..   Test Loss: 1.64436..   Test Accuracy: 0.816\n",
      "Epoch: 13 / 20.. Training Loss: 1.68638..   Test Loss: 1.64330..   Test Accuracy: 0.817\n",
      "Epoch: 14 / 20.. Training Loss: 1.68185..   Test Loss: 1.64384..   Test Accuracy: 0.817\n",
      "Epoch: 15 / 20.. Training Loss: 1.67960..   Test Loss: 1.64224..   Test Accuracy: 0.818\n",
      "Epoch: 16 / 20.. Training Loss: 1.67642..   Test Loss: 1.64375..   Test Accuracy: 0.816\n",
      "Epoch: 17 / 20.. Training Loss: 1.67366..   Test Loss: 1.64080..   Test Accuracy: 0.820\n",
      "Epoch: 18 / 20.. Training Loss: 1.67645..   Test Loss: 1.63987..   Test Accuracy: 0.821\n",
      "Epoch: 19 / 20.. Training Loss: 1.67333..   Test Loss: 1.63972..   Test Accuracy: 0.821\n",
      "Epoch: 20 / 20.. Training Loss: 1.66943..   Test Loss: 1.64225..   Test Accuracy: 0.818\n"
     ]
    }
   ],
   "source": [
    "train_loss_list_do, test_loss_list_do = train(net=net, optimizer=optimizer, scheduler=scheduler, path_name='FMNIST_nn_dropout')"
   ]
  },
  {
   "cell_type": "code",
   "execution_count": 37,
   "metadata": {},
   "outputs": [
    {
     "data": {
      "image/png": "[encoded data removed]",
      "text/plain": [
       "<Figure size 432x288 with 1 Axes>"
      ]
     },
     "metadata": {
      "needs_background": "light"
     },
     "output_type": "display_data"
    }
   ],
   "source": [
    "plt.plot(train_loss_list_do, label='Training loss')\n",
    "plt.plot(test_loss_list_do, label='Validation loss')\n",
    "plt.legend()\n",
    "plt.title('Training and Validation loss for Neural Net with Dropout')\n",
    "plt.show()"
   ]
  }
 ],
 "metadata": {
  "kernelspec": {
   "display_name": "seungju_env",
   "language": "python",
   "name": "seungju_env"
  },
  "language_info": {
   "codemirror_mode": {
    "name": "ipython",
    "version": 3
   },
   "file_extension": ".py",
   "mimetype": "text/x-python",
   "name": "python",
   "nbconvert_exporter": "python",
   "pygments_lexer": "ipython3",
   "version": "3.7.11"
  }
 },
 "nbformat": 4,
 "nbformat_minor": 2
}
