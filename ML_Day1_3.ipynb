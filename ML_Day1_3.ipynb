{
 "cells": [
  {
   "cell_type": "markdown",
   "metadata": {
    "id": "Ax95_BUc0rka"
   },
   "source": [
    "# ML_Day1_3"
   ]
  },
  {
   "cell_type": "markdown",
   "metadata": {},
   "source": [
    "본 노트북 파일은 Hands-on Machine Learning with Scikit-Learn & TensorFlow의 Chapter 2 (End-to-end Machine Learning Project)의 실습 코드를 참고하였습니다."
   ]
  },
  {
   "cell_type": "markdown",
   "metadata": {
    "id": "9wj6KRyI0oWt"
   },
   "source": [
    "# Colab에서 실행하기"
   ]
  },
  {
   "cell_type": "markdown",
   "metadata": {
    "id": "1skWW5Ak0l5r"
   },
   "source": [
    "<a href=\"https://colab.research.google.com/github/SLCFLAB/Fintech2023/blob/main/ML_Day1_3.ipynb\" target=\"_parent\"><img src=\"https://colab.research.google.com/assets/colab-badge.svg\" alt=\"Open In Colab\"/></a>"
   ]
  },
  {
   "cell_type": "code",
   "execution_count": 1,
   "metadata": {
    "id": "MQXmqljnyMVx"
   },
   "outputs": [],
   "source": [
    "import numpy as np\n",
    "import matplotlib as mpl\n",
    "import matplotlib.pyplot as plt\n",
    "import pandas as pd"
   ]
  },
  {
   "cell_type": "markdown",
   "metadata": {
    "id": "1TP2gVKf6kTR"
   },
   "source": [
    "### 데이터 특성 살펴보기"
   ]
  },
  {
   "cell_type": "code",
   "execution_count": 2,
   "metadata": {
    "colab": {
     "base_uri": "https://localhost:8080/",
     "height": 270
    },
    "id": "HDLGIClNyVhA",
    "outputId": "9a6c22e1-c44f-4745-c0ea-b4195839bf25"
   },
   "outputs": [
    {
     "data": {
      "text/html": [
       "<div>\n",
       "<style scoped>\n",
       "    .dataframe tbody tr th:only-of-type {\n",
       "        vertical-align: middle;\n",
       "    }\n",
       "\n",
       "    .dataframe tbody tr th {\n",
       "        vertical-align: top;\n",
       "    }\n",
       "\n",
       "    .dataframe thead th {\n",
       "        text-align: right;\n",
       "    }\n",
       "</style>\n",
       "<table border=\"1\" class=\"dataframe\">\n",
       "  <thead>\n",
       "    <tr style=\"text-align: right;\">\n",
       "      <th></th>\n",
       "      <th>longitude</th>\n",
       "      <th>latitude</th>\n",
       "      <th>housing_median_age</th>\n",
       "      <th>total_rooms</th>\n",
       "      <th>total_bedrooms</th>\n",
       "      <th>population</th>\n",
       "      <th>households</th>\n",
       "      <th>median_income</th>\n",
       "      <th>median_house_value</th>\n",
       "      <th>ocean_proximity</th>\n",
       "    </tr>\n",
       "  </thead>\n",
       "  <tbody>\n",
       "    <tr>\n",
       "      <th>0</th>\n",
       "      <td>-122.23</td>\n",
       "      <td>37.88</td>\n",
       "      <td>41.0</td>\n",
       "      <td>880.0</td>\n",
       "      <td>129.0</td>\n",
       "      <td>322.0</td>\n",
       "      <td>126.0</td>\n",
       "      <td>8.3252</td>\n",
       "      <td>452600.0</td>\n",
       "      <td>NEAR BAY</td>\n",
       "    </tr>\n",
       "    <tr>\n",
       "      <th>1</th>\n",
       "      <td>-122.22</td>\n",
       "      <td>37.86</td>\n",
       "      <td>21.0</td>\n",
       "      <td>7099.0</td>\n",
       "      <td>1106.0</td>\n",
       "      <td>2401.0</td>\n",
       "      <td>1138.0</td>\n",
       "      <td>8.3014</td>\n",
       "      <td>358500.0</td>\n",
       "      <td>NEAR BAY</td>\n",
       "    </tr>\n",
       "    <tr>\n",
       "      <th>2</th>\n",
       "      <td>-122.24</td>\n",
       "      <td>37.85</td>\n",
       "      <td>52.0</td>\n",
       "      <td>1467.0</td>\n",
       "      <td>190.0</td>\n",
       "      <td>496.0</td>\n",
       "      <td>177.0</td>\n",
       "      <td>7.2574</td>\n",
       "      <td>352100.0</td>\n",
       "      <td>NEAR BAY</td>\n",
       "    </tr>\n",
       "    <tr>\n",
       "      <th>3</th>\n",
       "      <td>-122.25</td>\n",
       "      <td>37.85</td>\n",
       "      <td>52.0</td>\n",
       "      <td>1274.0</td>\n",
       "      <td>235.0</td>\n",
       "      <td>558.0</td>\n",
       "      <td>219.0</td>\n",
       "      <td>5.6431</td>\n",
       "      <td>341300.0</td>\n",
       "      <td>NEAR BAY</td>\n",
       "    </tr>\n",
       "    <tr>\n",
       "      <th>4</th>\n",
       "      <td>-122.25</td>\n",
       "      <td>37.85</td>\n",
       "      <td>52.0</td>\n",
       "      <td>1627.0</td>\n",
       "      <td>280.0</td>\n",
       "      <td>565.0</td>\n",
       "      <td>259.0</td>\n",
       "      <td>3.8462</td>\n",
       "      <td>342200.0</td>\n",
       "      <td>NEAR BAY</td>\n",
       "    </tr>\n",
       "  </tbody>\n",
       "</table>\n",
       "</div>"
      ],
      "text/plain": [
       "   longitude  latitude  housing_median_age  total_rooms  total_bedrooms  \\\n",
       "0    -122.23     37.88                41.0        880.0           129.0   \n",
       "1    -122.22     37.86                21.0       7099.0          1106.0   \n",
       "2    -122.24     37.85                52.0       1467.0           190.0   \n",
       "3    -122.25     37.85                52.0       1274.0           235.0   \n",
       "4    -122.25     37.85                52.0       1627.0           280.0   \n",
       "\n",
       "   population  households  median_income  median_house_value ocean_proximity  \n",
       "0       322.0       126.0         8.3252            452600.0        NEAR BAY  \n",
       "1      2401.0      1138.0         8.3014            358500.0        NEAR BAY  \n",
       "2       496.0       177.0         7.2574            352100.0        NEAR BAY  \n",
       "3       558.0       219.0         5.6431            341300.0        NEAR BAY  \n",
       "4       565.0       259.0         3.8462            342200.0        NEAR BAY  "
      ]
     },
     "execution_count": 2,
     "metadata": {},
     "output_type": "execute_result"
    }
   ],
   "source": [
    "housing_url = 'https://raw.githubusercontent.com/SLCFLAB/Math4DS/main/data/housing.csv'\n",
    "housing = pd.read_csv(housing_url, header=None)\n",
    "housing.head()"
   ]
  },
  {
   "cell_type": "code",
   "execution_count": 3,
   "metadata": {
    "colab": {
     "base_uri": "https://localhost:8080/"
    },
    "id": "b_Km3H-Cypaw",
    "outputId": "96ccf695-0039-47ab-bf1c-be8ae188e08f"
   },
   "outputs": [
    {
     "data": {
      "text/plain": [
       "<1H OCEAN     9136\n",
       "INLAND        6551\n",
       "NEAR OCEAN    2658\n",
       "NEAR BAY      2290\n",
       "ISLAND           5\n",
       "Name: ocean_proximity, dtype: int64"
      ]
     },
     "execution_count": 3,
     "metadata": {},
     "output_type": "execute_result"
    }
   ],
   "source": [
    "housing[\"ocean_proximity\"].value_counts()"
   ]
  },
  {
   "cell_type": "code",
   "execution_count": 4,
   "metadata": {
    "colab": {
     "base_uri": "https://localhost:8080/",
     "height": 364
    },
    "id": "iq_vHB09yrL4",
    "outputId": "d60bbdcb-2a6e-4669-a788-41c006dc9883"
   },
   "outputs": [
    {
     "data": {
      "text/html": [
       "<div>\n",
       "<style scoped>\n",
       "    .dataframe tbody tr th:only-of-type {\n",
       "        vertical-align: middle;\n",
       "    }\n",
       "\n",
       "    .dataframe tbody tr th {\n",
       "        vertical-align: top;\n",
       "    }\n",
       "\n",
       "    .dataframe thead th {\n",
       "        text-align: right;\n",
       "    }\n",
       "</style>\n",
       "<table border=\"1\" class=\"dataframe\">\n",
       "  <thead>\n",
       "    <tr style=\"text-align: right;\">\n",
       "      <th></th>\n",
       "      <th>longitude</th>\n",
       "      <th>latitude</th>\n",
       "      <th>housing_median_age</th>\n",
       "      <th>total_rooms</th>\n",
       "      <th>total_bedrooms</th>\n",
       "      <th>population</th>\n",
       "      <th>households</th>\n",
       "      <th>median_income</th>\n",
       "      <th>median_house_value</th>\n",
       "    </tr>\n",
       "  </thead>\n",
       "  <tbody>\n",
       "    <tr>\n",
       "      <th>count</th>\n",
       "      <td>20640.000000</td>\n",
       "      <td>20640.000000</td>\n",
       "      <td>20640.000000</td>\n",
       "      <td>20640.000000</td>\n",
       "      <td>20433.000000</td>\n",
       "      <td>20640.000000</td>\n",
       "      <td>20640.000000</td>\n",
       "      <td>20640.000000</td>\n",
       "      <td>20640.000000</td>\n",
       "    </tr>\n",
       "    <tr>\n",
       "      <th>mean</th>\n",
       "      <td>-119.569704</td>\n",
       "      <td>35.631861</td>\n",
       "      <td>28.639486</td>\n",
       "      <td>2635.763081</td>\n",
       "      <td>537.870553</td>\n",
       "      <td>1425.476744</td>\n",
       "      <td>499.539680</td>\n",
       "      <td>3.870671</td>\n",
       "      <td>206855.816909</td>\n",
       "    </tr>\n",
       "    <tr>\n",
       "      <th>std</th>\n",
       "      <td>2.003532</td>\n",
       "      <td>2.135952</td>\n",
       "      <td>12.585558</td>\n",
       "      <td>2181.615252</td>\n",
       "      <td>421.385070</td>\n",
       "      <td>1132.462122</td>\n",
       "      <td>382.329753</td>\n",
       "      <td>1.899822</td>\n",
       "      <td>115395.615874</td>\n",
       "    </tr>\n",
       "    <tr>\n",
       "      <th>min</th>\n",
       "      <td>-124.350000</td>\n",
       "      <td>32.540000</td>\n",
       "      <td>1.000000</td>\n",
       "      <td>2.000000</td>\n",
       "      <td>1.000000</td>\n",
       "      <td>3.000000</td>\n",
       "      <td>1.000000</td>\n",
       "      <td>0.499900</td>\n",
       "      <td>14999.000000</td>\n",
       "    </tr>\n",
       "    <tr>\n",
       "      <th>25%</th>\n",
       "      <td>-121.800000</td>\n",
       "      <td>33.930000</td>\n",
       "      <td>18.000000</td>\n",
       "      <td>1447.750000</td>\n",
       "      <td>296.000000</td>\n",
       "      <td>787.000000</td>\n",
       "      <td>280.000000</td>\n",
       "      <td>2.563400</td>\n",
       "      <td>119600.000000</td>\n",
       "    </tr>\n",
       "    <tr>\n",
       "      <th>50%</th>\n",
       "      <td>-118.490000</td>\n",
       "      <td>34.260000</td>\n",
       "      <td>29.000000</td>\n",
       "      <td>2127.000000</td>\n",
       "      <td>435.000000</td>\n",
       "      <td>1166.000000</td>\n",
       "      <td>409.000000</td>\n",
       "      <td>3.534800</td>\n",
       "      <td>179700.000000</td>\n",
       "    </tr>\n",
       "    <tr>\n",
       "      <th>75%</th>\n",
       "      <td>-118.010000</td>\n",
       "      <td>37.710000</td>\n",
       "      <td>37.000000</td>\n",
       "      <td>3148.000000</td>\n",
       "      <td>647.000000</td>\n",
       "      <td>1725.000000</td>\n",
       "      <td>605.000000</td>\n",
       "      <td>4.743250</td>\n",
       "      <td>264725.000000</td>\n",
       "    </tr>\n",
       "    <tr>\n",
       "      <th>max</th>\n",
       "      <td>-114.310000</td>\n",
       "      <td>41.950000</td>\n",
       "      <td>52.000000</td>\n",
       "      <td>39320.000000</td>\n",
       "      <td>6445.000000</td>\n",
       "      <td>35682.000000</td>\n",
       "      <td>6082.000000</td>\n",
       "      <td>15.000100</td>\n",
       "      <td>500001.000000</td>\n",
       "    </tr>\n",
       "  </tbody>\n",
       "</table>\n",
       "</div>"
      ],
      "text/plain": [
       "          longitude      latitude  housing_median_age   total_rooms  \\\n",
       "count  20640.000000  20640.000000        20640.000000  20640.000000   \n",
       "mean    -119.569704     35.631861           28.639486   2635.763081   \n",
       "std        2.003532      2.135952           12.585558   2181.615252   \n",
       "min     -124.350000     32.540000            1.000000      2.000000   \n",
       "25%     -121.800000     33.930000           18.000000   1447.750000   \n",
       "50%     -118.490000     34.260000           29.000000   2127.000000   \n",
       "75%     -118.010000     37.710000           37.000000   3148.000000   \n",
       "max     -114.310000     41.950000           52.000000  39320.000000   \n",
       "\n",
       "       total_bedrooms    population    households  median_income  \\\n",
       "count    20433.000000  20640.000000  20640.000000   20640.000000   \n",
       "mean       537.870553   1425.476744    499.539680       3.870671   \n",
       "std        421.385070   1132.462122    382.329753       1.899822   \n",
       "min          1.000000      3.000000      1.000000       0.499900   \n",
       "25%        296.000000    787.000000    280.000000       2.563400   \n",
       "50%        435.000000   1166.000000    409.000000       3.534800   \n",
       "75%        647.000000   1725.000000    605.000000       4.743250   \n",
       "max       6445.000000  35682.000000   6082.000000      15.000100   \n",
       "\n",
       "       median_house_value  \n",
       "count        20640.000000  \n",
       "mean        206855.816909  \n",
       "std         115395.615874  \n",
       "min          14999.000000  \n",
       "25%         119600.000000  \n",
       "50%         179700.000000  \n",
       "75%         264725.000000  \n",
       "max         500001.000000  "
      ]
     },
     "execution_count": 4,
     "metadata": {},
     "output_type": "execute_result"
    }
   ],
   "source": [
    "housing.describe()"
   ]
  },
  {
   "cell_type": "code",
   "execution_count": 5,
   "metadata": {
    "colab": {
     "base_uri": "https://localhost:8080/",
     "height": 768
    },
    "id": "XQPVdE_sysfA",
    "outputId": "ddd076bd-f9ef-4415-9d64-f3ca62afe7e8"
   },
   "outputs": [
    {
     "data": {
      "image/png": "[encoded data removed]",
      "text/plain": [
       "<Figure size 1440x1080 with 9 Axes>"
      ]
     },
     "metadata": {
      "needs_background": "light"
     },
     "output_type": "display_data"
    }
   ],
   "source": [
    "housing.hist(bins=50, figsize=(20,15))\n",
    "plt.show()"
   ]
  },
  {
   "cell_type": "code",
   "execution_count": 6,
   "metadata": {
    "colab": {
     "base_uri": "https://localhost:8080/",
     "height": 282
    },
    "id": "agae7K16zZ9I",
    "outputId": "6280f4c4-1f8b-46ad-a6d9-d7c7f0228818"
   },
   "outputs": [
    {
     "data": {
      "text/plain": [
       "<AxesSubplot:>"
      ]
     },
     "execution_count": 6,
     "metadata": {},
     "output_type": "execute_result"
    },
    {
     "data": {
      "image/png": "[encoded data removed]",
      "text/plain": [
       "<Figure size 432x288 with 1 Axes>"
      ]
     },
     "metadata": {
      "needs_background": "light"
     },
     "output_type": "display_data"
    }
   ],
   "source": [
    "housing[\"median_income\"].hist()"
   ]
  },
  {
   "cell_type": "code",
   "execution_count": 7,
   "metadata": {
    "id": "3QFi8ikN1RoA"
   },
   "outputs": [],
   "source": [
    "corr_matrix = housing.corr()"
   ]
  },
  {
   "cell_type": "code",
   "execution_count": 8,
   "metadata": {
    "colab": {
     "base_uri": "https://localhost:8080/",
     "height": 396
    },
    "id": "KkVSEpuo1oRN",
    "outputId": "3950e75b-f131-4f61-c8fa-7d937821971a"
   },
   "outputs": [
    {
     "data": {
      "text/html": [
       "<div>\n",
       "<style scoped>\n",
       "    .dataframe tbody tr th:only-of-type {\n",
       "        vertical-align: middle;\n",
       "    }\n",
       "\n",
       "    .dataframe tbody tr th {\n",
       "        vertical-align: top;\n",
       "    }\n",
       "\n",
       "    .dataframe thead th {\n",
       "        text-align: right;\n",
       "    }\n",
       "</style>\n",
       "<table border=\"1\" class=\"dataframe\">\n",
       "  <thead>\n",
       "    <tr style=\"text-align: right;\">\n",
       "      <th></th>\n",
       "      <th>longitude</th>\n",
       "      <th>latitude</th>\n",
       "      <th>housing_median_age</th>\n",
       "      <th>total_rooms</th>\n",
       "      <th>total_bedrooms</th>\n",
       "      <th>population</th>\n",
       "      <th>households</th>\n",
       "      <th>median_income</th>\n",
       "      <th>median_house_value</th>\n",
       "    </tr>\n",
       "  </thead>\n",
       "  <tbody>\n",
       "    <tr>\n",
       "      <th>longitude</th>\n",
       "      <td>1.000000</td>\n",
       "      <td>-0.924664</td>\n",
       "      <td>-0.108197</td>\n",
       "      <td>0.044568</td>\n",
       "      <td>0.069608</td>\n",
       "      <td>0.099773</td>\n",
       "      <td>0.055310</td>\n",
       "      <td>-0.015176</td>\n",
       "      <td>-0.045967</td>\n",
       "    </tr>\n",
       "    <tr>\n",
       "      <th>latitude</th>\n",
       "      <td>-0.924664</td>\n",
       "      <td>1.000000</td>\n",
       "      <td>0.011173</td>\n",
       "      <td>-0.036100</td>\n",
       "      <td>-0.066983</td>\n",
       "      <td>-0.108785</td>\n",
       "      <td>-0.071035</td>\n",
       "      <td>-0.079809</td>\n",
       "      <td>-0.144160</td>\n",
       "    </tr>\n",
       "    <tr>\n",
       "      <th>housing_median_age</th>\n",
       "      <td>-0.108197</td>\n",
       "      <td>0.011173</td>\n",
       "      <td>1.000000</td>\n",
       "      <td>-0.361262</td>\n",
       "      <td>-0.320451</td>\n",
       "      <td>-0.296244</td>\n",
       "      <td>-0.302916</td>\n",
       "      <td>-0.119034</td>\n",
       "      <td>0.105623</td>\n",
       "    </tr>\n",
       "    <tr>\n",
       "      <th>total_rooms</th>\n",
       "      <td>0.044568</td>\n",
       "      <td>-0.036100</td>\n",
       "      <td>-0.361262</td>\n",
       "      <td>1.000000</td>\n",
       "      <td>0.930380</td>\n",
       "      <td>0.857126</td>\n",
       "      <td>0.918484</td>\n",
       "      <td>0.198050</td>\n",
       "      <td>0.134153</td>\n",
       "    </tr>\n",
       "    <tr>\n",
       "      <th>total_bedrooms</th>\n",
       "      <td>0.069608</td>\n",
       "      <td>-0.066983</td>\n",
       "      <td>-0.320451</td>\n",
       "      <td>0.930380</td>\n",
       "      <td>1.000000</td>\n",
       "      <td>0.877747</td>\n",
       "      <td>0.979728</td>\n",
       "      <td>-0.007723</td>\n",
       "      <td>0.049686</td>\n",
       "    </tr>\n",
       "    <tr>\n",
       "      <th>population</th>\n",
       "      <td>0.099773</td>\n",
       "      <td>-0.108785</td>\n",
       "      <td>-0.296244</td>\n",
       "      <td>0.857126</td>\n",
       "      <td>0.877747</td>\n",
       "      <td>1.000000</td>\n",
       "      <td>0.907222</td>\n",
       "      <td>0.004834</td>\n",
       "      <td>-0.024650</td>\n",
       "    </tr>\n",
       "    <tr>\n",
       "      <th>households</th>\n",
       "      <td>0.055310</td>\n",
       "      <td>-0.071035</td>\n",
       "      <td>-0.302916</td>\n",
       "      <td>0.918484</td>\n",
       "      <td>0.979728</td>\n",
       "      <td>0.907222</td>\n",
       "      <td>1.000000</td>\n",
       "      <td>0.013033</td>\n",
       "      <td>0.065843</td>\n",
       "    </tr>\n",
       "    <tr>\n",
       "      <th>median_income</th>\n",
       "      <td>-0.015176</td>\n",
       "      <td>-0.079809</td>\n",
       "      <td>-0.119034</td>\n",
       "      <td>0.198050</td>\n",
       "      <td>-0.007723</td>\n",
       "      <td>0.004834</td>\n",
       "      <td>0.013033</td>\n",
       "      <td>1.000000</td>\n",
       "      <td>0.688075</td>\n",
       "    </tr>\n",
       "    <tr>\n",
       "      <th>median_house_value</th>\n",
       "      <td>-0.045967</td>\n",
       "      <td>-0.144160</td>\n",
       "      <td>0.105623</td>\n",
       "      <td>0.134153</td>\n",
       "      <td>0.049686</td>\n",
       "      <td>-0.024650</td>\n",
       "      <td>0.065843</td>\n",
       "      <td>0.688075</td>\n",
       "      <td>1.000000</td>\n",
       "    </tr>\n",
       "  </tbody>\n",
       "</table>\n",
       "</div>"
      ],
      "text/plain": [
       "                    longitude  latitude  housing_median_age  total_rooms  \\\n",
       "longitude            1.000000 -0.924664           -0.108197     0.044568   \n",
       "latitude            -0.924664  1.000000            0.011173    -0.036100   \n",
       "housing_median_age  -0.108197  0.011173            1.000000    -0.361262   \n",
       "total_rooms          0.044568 -0.036100           -0.361262     1.000000   \n",
       "total_bedrooms       0.069608 -0.066983           -0.320451     0.930380   \n",
       "population           0.099773 -0.108785           -0.296244     0.857126   \n",
       "households           0.055310 -0.071035           -0.302916     0.918484   \n",
       "median_income       -0.015176 -0.079809           -0.119034     0.198050   \n",
       "median_house_value  -0.045967 -0.144160            0.105623     0.134153   \n",
       "\n",
       "                    total_bedrooms  population  households  median_income  \\\n",
       "longitude                 0.069608    0.099773    0.055310      -0.015176   \n",
       "latitude                 -0.066983   -0.108785   -0.071035      -0.079809   \n",
       "housing_median_age       -0.320451   -0.296244   -0.302916      -0.119034   \n",
       "total_rooms               0.930380    0.857126    0.918484       0.198050   \n",
       "total_bedrooms            1.000000    0.877747    0.979728      -0.007723   \n",
       "population                0.877747    1.000000    0.907222       0.004834   \n",
       "households                0.979728    0.907222    1.000000       0.013033   \n",
       "median_income            -0.007723    0.004834    0.013033       1.000000   \n",
       "median_house_value        0.049686   -0.024650    0.065843       0.688075   \n",
       "\n",
       "                    median_house_value  \n",
       "longitude                    -0.045967  \n",
       "latitude                     -0.144160  \n",
       "housing_median_age            0.105623  \n",
       "total_rooms                   0.134153  \n",
       "total_bedrooms                0.049686  \n",
       "population                   -0.024650  \n",
       "households                    0.065843  \n",
       "median_income                 0.688075  \n",
       "median_house_value            1.000000  "
      ]
     },
     "execution_count": 8,
     "metadata": {},
     "output_type": "execute_result"
    }
   ],
   "source": [
    "corr_matrix"
   ]
  },
  {
   "cell_type": "code",
   "execution_count": 9,
   "metadata": {
    "colab": {
     "base_uri": "https://localhost:8080/",
     "height": 382
    },
    "id": "Ne0m7DuY3pst",
    "outputId": "91849d7c-5765-471f-da90-1bae879f6ad8"
   },
   "outputs": [
    {
     "data": {
      "text/plain": [
       "<AxesSubplot:>"
      ]
     },
     "execution_count": 9,
     "metadata": {},
     "output_type": "execute_result"
    },
    {
     "data": {
      "image/png": "[encoded data removed]",
      "text/plain": [
       "<Figure size 432x288 with 2 Axes>"
      ]
     },
     "metadata": {
      "needs_background": "light"
     },
     "output_type": "display_data"
    }
   ],
   "source": [
    "import seaborn as sns\n",
    "sns.heatmap(corr_matrix)"
   ]
  },
  {
   "cell_type": "markdown",
   "metadata": {
    "id": "Y4m7prFp2Lz_"
   },
   "source": [
    "### Missing value"
   ]
  },
  {
   "cell_type": "code",
   "execution_count": 10,
   "metadata": {
    "colab": {
     "base_uri": "https://localhost:8080/"
    },
    "id": "kz-IltNL5-N2",
    "outputId": "cfe99790-0f9c-4e88-d654-9cb3d1d0544d"
   },
   "outputs": [
    {
     "data": {
      "text/plain": [
       "0        False\n",
       "1        False\n",
       "2        False\n",
       "3        False\n",
       "4        False\n",
       "         ...  \n",
       "20635    False\n",
       "20636    False\n",
       "20637    False\n",
       "20638    False\n",
       "20639    False\n",
       "Name: total_bedrooms, Length: 20640, dtype: bool"
      ]
     },
     "execution_count": 10,
     "metadata": {},
     "output_type": "execute_result"
    }
   ],
   "source": [
    "housing['total_bedrooms'].isna()"
   ]
  },
  {
   "cell_type": "code",
   "execution_count": 11,
   "metadata": {
    "colab": {
     "base_uri": "https://localhost:8080/"
    },
    "id": "vIAUvJT753QI",
    "outputId": "35d50fe2-ecc4-4bc5-d63b-c01c4901a89b"
   },
   "outputs": [
    {
     "data": {
      "text/plain": [
       "207"
      ]
     },
     "execution_count": 11,
     "metadata": {},
     "output_type": "execute_result"
    }
   ],
   "source": [
    "housing['total_bedrooms'].isna().sum()"
   ]
  },
  {
   "cell_type": "code",
   "execution_count": 12,
   "metadata": {
    "id": "uB3jEJP_6B07"
   },
   "outputs": [],
   "source": [
    "median = housing[\"total_bedrooms\"].median()\n",
    "housing[\"total_bedrooms\"].fillna(median, inplace=True)"
   ]
  },
  {
   "cell_type": "code",
   "execution_count": 13,
   "metadata": {
    "colab": {
     "base_uri": "https://localhost:8080/"
    },
    "id": "KROVeKH26LpK",
    "outputId": "91333b7c-dc08-4654-d70c-e422b5555f62"
   },
   "outputs": [
    {
     "data": {
      "text/plain": [
       "0"
      ]
     },
     "execution_count": 13,
     "metadata": {},
     "output_type": "execute_result"
    }
   ],
   "source": [
    "housing['total_bedrooms'].isna().sum()"
   ]
  },
  {
   "cell_type": "code",
   "execution_count": 14,
   "metadata": {
    "id": "1WJa_patVFc6"
   },
   "outputs": [],
   "source": [
    "from sklearn.impute import SimpleImputer\n",
    "imputer = SimpleImputer(strategy=\"median\")\n",
    "housing_num = housing.drop(\"ocean_proximity\", axis=1)\n",
    "\n"
   ]
  },
  {
   "cell_type": "code",
   "execution_count": 15,
   "metadata": {
    "colab": {
     "base_uri": "https://localhost:8080/"
    },
    "id": "KzyEsoPfVZEl",
    "outputId": "810b3676-67db-40ec-f91d-679e7a77c9c6"
   },
   "outputs": [
    {
     "data": {
      "text/plain": [
       "array([[-1.2223e+02,  3.7880e+01,  4.1000e+01, ...,  1.2600e+02,\n",
       "         8.3252e+00,  4.5260e+05],\n",
       "       [-1.2222e+02,  3.7860e+01,  2.1000e+01, ...,  1.1380e+03,\n",
       "         8.3014e+00,  3.5850e+05],\n",
       "       [-1.2224e+02,  3.7850e+01,  5.2000e+01, ...,  1.7700e+02,\n",
       "         7.2574e+00,  3.5210e+05],\n",
       "       ...,\n",
       "       [-1.2122e+02,  3.9430e+01,  1.7000e+01, ...,  4.3300e+02,\n",
       "         1.7000e+00,  9.2300e+04],\n",
       "       [-1.2132e+02,  3.9430e+01,  1.8000e+01, ...,  3.4900e+02,\n",
       "         1.8672e+00,  8.4700e+04],\n",
       "       [-1.2124e+02,  3.9370e+01,  1.6000e+01, ...,  5.3000e+02,\n",
       "         2.3886e+00,  8.9400e+04]])"
      ]
     },
     "execution_count": 15,
     "metadata": {},
     "output_type": "execute_result"
    }
   ],
   "source": [
    "imputer.fit(housing_num)\n",
    "imputer.transform(housing_num)"
   ]
  },
  {
   "cell_type": "code",
   "execution_count": 16,
   "metadata": {
    "colab": {
     "base_uri": "https://localhost:8080/"
    },
    "id": "RZKUdaQPVaHU",
    "outputId": "a3b075c9-f516-4323-d20a-f8b7186cc525"
   },
   "outputs": [
    {
     "data": {
      "text/plain": [
       "longitude             0\n",
       "latitude              0\n",
       "housing_median_age    0\n",
       "total_rooms           0\n",
       "total_bedrooms        0\n",
       "population            0\n",
       "households            0\n",
       "median_income         0\n",
       "median_house_value    0\n",
       "dtype: int64"
      ]
     },
     "execution_count": 16,
     "metadata": {},
     "output_type": "execute_result"
    }
   ],
   "source": [
    "housing_num.isna().sum()"
   ]
  },
  {
   "cell_type": "markdown",
   "metadata": {
    "id": "JAbgrjaASrzR"
   },
   "source": [
    "### Categorical Attributes"
   ]
  },
  {
   "cell_type": "code",
   "execution_count": 17,
   "metadata": {
    "colab": {
     "base_uri": "https://localhost:8080/",
     "height": 424
    },
    "id": "fSEjhdnjEE-P",
    "outputId": "7efbd7f3-457f-42f6-ece8-b158f5d0f2fd"
   },
   "outputs": [
    {
     "data": {
      "text/html": [
       "<div>\n",
       "<style scoped>\n",
       "    .dataframe tbody tr th:only-of-type {\n",
       "        vertical-align: middle;\n",
       "    }\n",
       "\n",
       "    .dataframe tbody tr th {\n",
       "        vertical-align: top;\n",
       "    }\n",
       "\n",
       "    .dataframe thead th {\n",
       "        text-align: right;\n",
       "    }\n",
       "</style>\n",
       "<table border=\"1\" class=\"dataframe\">\n",
       "  <thead>\n",
       "    <tr style=\"text-align: right;\">\n",
       "      <th></th>\n",
       "      <th>ocean_proximity</th>\n",
       "    </tr>\n",
       "  </thead>\n",
       "  <tbody>\n",
       "    <tr>\n",
       "      <th>0</th>\n",
       "      <td>NEAR BAY</td>\n",
       "    </tr>\n",
       "    <tr>\n",
       "      <th>1</th>\n",
       "      <td>NEAR BAY</td>\n",
       "    </tr>\n",
       "    <tr>\n",
       "      <th>2</th>\n",
       "      <td>NEAR BAY</td>\n",
       "    </tr>\n",
       "    <tr>\n",
       "      <th>3</th>\n",
       "      <td>NEAR BAY</td>\n",
       "    </tr>\n",
       "    <tr>\n",
       "      <th>4</th>\n",
       "      <td>NEAR BAY</td>\n",
       "    </tr>\n",
       "    <tr>\n",
       "      <th>...</th>\n",
       "      <td>...</td>\n",
       "    </tr>\n",
       "    <tr>\n",
       "      <th>20635</th>\n",
       "      <td>INLAND</td>\n",
       "    </tr>\n",
       "    <tr>\n",
       "      <th>20636</th>\n",
       "      <td>INLAND</td>\n",
       "    </tr>\n",
       "    <tr>\n",
       "      <th>20637</th>\n",
       "      <td>INLAND</td>\n",
       "    </tr>\n",
       "    <tr>\n",
       "      <th>20638</th>\n",
       "      <td>INLAND</td>\n",
       "    </tr>\n",
       "    <tr>\n",
       "      <th>20639</th>\n",
       "      <td>INLAND</td>\n",
       "    </tr>\n",
       "  </tbody>\n",
       "</table>\n",
       "<p>20640 rows × 1 columns</p>\n",
       "</div>"
      ],
      "text/plain": [
       "      ocean_proximity\n",
       "0            NEAR BAY\n",
       "1            NEAR BAY\n",
       "2            NEAR BAY\n",
       "3            NEAR BAY\n",
       "4            NEAR BAY\n",
       "...               ...\n",
       "20635          INLAND\n",
       "20636          INLAND\n",
       "20637          INLAND\n",
       "20638          INLAND\n",
       "20639          INLAND\n",
       "\n",
       "[20640 rows x 1 columns]"
      ]
     },
     "execution_count": 17,
     "metadata": {},
     "output_type": "execute_result"
    }
   ],
   "source": [
    "housing_cat = housing[['ocean_proximity']]\n",
    "housing_cat"
   ]
  },
  {
   "cell_type": "code",
   "execution_count": 18,
   "metadata": {
    "colab": {
     "base_uri": "https://localhost:8080/"
    },
    "id": "SfVHS4hOTG3B",
    "outputId": "b782c314-f3a4-4970-ea44-5187ff23e114"
   },
   "outputs": [
    {
     "data": {
      "text/plain": [
       "array([[3.],\n",
       "       [3.],\n",
       "       [3.],\n",
       "       [3.],\n",
       "       [3.],\n",
       "       [3.],\n",
       "       [3.],\n",
       "       [3.],\n",
       "       [3.],\n",
       "       [3.]])"
      ]
     },
     "execution_count": 18,
     "metadata": {},
     "output_type": "execute_result"
    }
   ],
   "source": [
    "from sklearn.preprocessing import OrdinalEncoder\n",
    "ordinal_encoder = OrdinalEncoder()\n",
    "housing_cat_encoded = ordinal_encoder.fit_transform(housing_cat)\n",
    "housing_cat_encoded[:10]"
   ]
  },
  {
   "cell_type": "code",
   "execution_count": 19,
   "metadata": {
    "colab": {
     "base_uri": "https://localhost:8080/"
    },
    "id": "7zsr4tBnTMuw",
    "outputId": "408394b1-9b65-4008-f552-30f2fd1da306"
   },
   "outputs": [
    {
     "data": {
      "text/plain": [
       "[array(['<1H OCEAN', 'INLAND', 'ISLAND', 'NEAR BAY', 'NEAR OCEAN'],\n",
       "       dtype=object)]"
      ]
     },
     "execution_count": 19,
     "metadata": {},
     "output_type": "execute_result"
    }
   ],
   "source": [
    "ordinal_encoder.categories_"
   ]
  },
  {
   "cell_type": "code",
   "execution_count": 20,
   "metadata": {
    "colab": {
     "base_uri": "https://localhost:8080/"
    },
    "id": "Q_flBN_PTOGn",
    "outputId": "8dd8a56a-be79-4cdc-d226-5e2de0284640"
   },
   "outputs": [
    {
     "data": {
      "text/plain": [
       "<20640x5 sparse matrix of type '<class 'numpy.float64'>'\n",
       "\twith 20640 stored elements in Compressed Sparse Row format>"
      ]
     },
     "execution_count": 20,
     "metadata": {},
     "output_type": "execute_result"
    }
   ],
   "source": [
    "from sklearn.preprocessing import OneHotEncoder\n",
    "cat_encoder = OneHotEncoder()\n",
    "housing_cat_1hot = cat_encoder.fit_transform(housing_cat)\n",
    "housing_cat_1hot\n"
   ]
  },
  {
   "cell_type": "code",
   "execution_count": 21,
   "metadata": {
    "colab": {
     "base_uri": "https://localhost:8080/"
    },
    "id": "q7RFLl_kTUra",
    "outputId": "0ce6dddb-91ec-443e-d3cd-9fbdd27c6d9e"
   },
   "outputs": [
    {
     "data": {
      "text/plain": [
       "array([[0., 0., 0., 1., 0.],\n",
       "       [0., 0., 0., 1., 0.],\n",
       "       [0., 0., 0., 1., 0.],\n",
       "       ...,\n",
       "       [0., 1., 0., 0., 0.],\n",
       "       [0., 1., 0., 0., 0.],\n",
       "       [0., 1., 0., 0., 0.]])"
      ]
     },
     "execution_count": 21,
     "metadata": {},
     "output_type": "execute_result"
    }
   ],
   "source": [
    "housing_cat_1hot.toarray()"
   ]
  },
  {
   "cell_type": "markdown",
   "metadata": {
    "id": "XYmlLHQVFgun"
   },
   "source": [
    "### min-max scaler"
   ]
  },
  {
   "cell_type": "markdown",
   "metadata": {
    "id": "ezRh8N4tFYiP"
   },
   "source": [
    "![스크린샷 2021-01-25 오후 2.47.40.png](data:image/png;base64,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)"
   ]
  },
  {
   "cell_type": "code",
   "execution_count": 22,
   "metadata": {
    "colab": {
     "base_uri": "https://localhost:8080/"
    },
    "id": "v7OHg68CDV1K",
    "outputId": "d1ec8339-dd97-4b3c-936c-8944e355392f"
   },
   "outputs": [
    {
     "data": {
      "text/plain": [
       "array([[0.21115538, 0.5674814 , 0.78431373, ..., 0.02055583, 0.53966842,\n",
       "        0.90226638],\n",
       "       [0.21215139, 0.565356  , 0.39215686, ..., 0.18697583, 0.53802706,\n",
       "        0.70824656],\n",
       "       [0.21015936, 0.5642933 , 1.        , ..., 0.02894261, 0.46602805,\n",
       "        0.69505074],\n",
       "       ...,\n",
       "       [0.31175299, 0.73219979, 0.31372549, ..., 0.07104095, 0.08276438,\n",
       "        0.15938285],\n",
       "       [0.30179283, 0.73219979, 0.33333333, ..., 0.05722743, 0.09429525,\n",
       "        0.14371281],\n",
       "       [0.30976096, 0.72582359, 0.29411765, ..., 0.08699227, 0.13025338,\n",
       "        0.15340349]])"
      ]
     },
     "execution_count": 22,
     "metadata": {},
     "output_type": "execute_result"
    }
   ],
   "source": [
    "from sklearn.preprocessing import MinMaxScaler\n",
    "\n",
    "data = housing[housing.columns[0:-1]]\n",
    "\n",
    "# 0과 1사이로 분포를 transform\n",
    "scaler = MinMaxScaler()\n",
    "scaler.fit(data)\n",
    "scaler.transform(data)"
   ]
  },
  {
   "cell_type": "markdown",
   "metadata": {
    "id": "vK0AStRVFkD3"
   },
   "source": [
    "### StandardScaler"
   ]
  },
  {
   "cell_type": "markdown",
   "metadata": {
    "id": "689DjEaEF2iS"
   },
   "source": [
    "![스크린샷 2021-01-25 오후 2.49.47.png](data:image/png;base64,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)"
   ]
  },
  {
   "cell_type": "code",
   "execution_count": 23,
   "metadata": {
    "colab": {
     "base_uri": "https://localhost:8080/"
    },
    "id": "ahIwYvRDEZd3",
    "outputId": "50753b6c-325d-4e3d-ad62-bb66bd55a919"
   },
   "outputs": [
    {
     "data": {
      "text/plain": [
       "array([[-1.32783522,  1.05254828,  0.98214266, ..., -0.97703285,\n",
       "         2.34476576,  2.12963148],\n",
       "       [-1.32284391,  1.04318455, -0.60701891, ...,  1.66996103,\n",
       "         2.33223796,  1.31415614],\n",
       "       [-1.33282653,  1.03850269,  1.85618152, ..., -0.84363692,\n",
       "         1.7826994 ,  1.25869341],\n",
       "       ...,\n",
       "       [-0.8237132 ,  1.77823747, -0.92485123, ..., -0.17404163,\n",
       "        -1.14259331, -0.99274649],\n",
       "       [-0.87362627,  1.77823747, -0.84539315, ..., -0.39375258,\n",
       "        -1.05458292, -1.05860847],\n",
       "       [-0.83369581,  1.75014627, -1.00430931, ...,  0.07967221,\n",
       "        -0.78012947, -1.01787803]])"
      ]
     },
     "execution_count": 23,
     "metadata": {},
     "output_type": "execute_result"
    }
   ],
   "source": [
    "# 표준정규분포로 transform\n",
    "from sklearn.preprocessing import StandardScaler\n",
    "\n",
    "scaler = StandardScaler()\n",
    "scaler.fit(data)\n",
    "scaler.transform(data)\n"
   ]
  },
  {
   "cell_type": "markdown",
   "metadata": {
    "id": "SLidbfEyXEJl"
   },
   "source": [
    "### Pipeline : 앞서 여러 단계에 걸친 전처리 한꺼번에"
   ]
  },
  {
   "cell_type": "code",
   "execution_count": 24,
   "metadata": {
    "id": "0m74Pyv7ULlJ"
   },
   "outputs": [],
   "source": [
    "from sklearn.impute import SimpleImputer \n",
    "from sklearn.pipeline import Pipeline\n",
    "num_pipeline = Pipeline([\n",
    "            ('imputer', SimpleImputer(strategy=\"median\")),\n",
    "            ('std_scaler', StandardScaler()),\n",
    "        ])\n",
    "\n",
    "housing_num_tr = num_pipeline.fit_transform(housing_num)\n"
   ]
  },
  {
   "cell_type": "markdown",
   "metadata": {
    "id": "fnBvSZWCW19B"
   },
   "source": [
    "### ColumnTransformer : column 별로 다른 처리 가능"
   ]
  },
  {
   "cell_type": "code",
   "execution_count": 25,
   "metadata": {
    "id": "bE2xf_wnWXZu"
   },
   "outputs": [],
   "source": [
    "from sklearn.compose import ColumnTransformer\n",
    "\n",
    "num_attribs = list(housing_num)\n",
    "cat_attribs = [\"ocean_proximity\"]\n",
    "\n",
    "full_pipeline = ColumnTransformer([\n",
    "             (\"num\", num_pipeline, num_attribs),\n",
    "             (\"cat\", OneHotEncoder(), cat_attribs),\n",
    "         ])\n",
    "\n",
    "housing_prepared = full_pipeline.fit_transform(housing)"
   ]
  },
  {
   "cell_type": "markdown",
   "metadata": {
    "id": "kbbfwkflGd5B"
   },
   "source": [
    "### 훈련 세트에서 훈련하고 평가하기"
   ]
  },
  {
   "cell_type": "code",
   "execution_count": 26,
   "metadata": {
    "id": "63T8J3SSFs5g"
   },
   "outputs": [],
   "source": [
    "data = scaler.transform(data)"
   ]
  },
  {
   "cell_type": "code",
   "execution_count": 27,
   "metadata": {
    "id": "kW3FjBISGifF"
   },
   "outputs": [],
   "source": [
    "from sklearn.model_selection import train_test_split\n",
    "train_set, test_set = train_test_split(data, test_size=0.2, random_state=42)"
   ]
  },
  {
   "cell_type": "code",
   "execution_count": 28,
   "metadata": {
    "id": "k3w1oDYdGk8p"
   },
   "outputs": [],
   "source": [
    "X_train, y_train = train_set[:,0:-1], train_set[:,-1]\n",
    "X_test, y_test = test_set[:,0:-1], test_set[:,-1]"
   ]
  },
  {
   "cell_type": "code",
   "execution_count": 29,
   "metadata": {
    "colab": {
     "base_uri": "https://localhost:8080/"
    },
    "id": "JC4Z9KX6Fw73",
    "outputId": "efcc5337-b02c-46fc-8076-80c700f0bc78"
   },
   "outputs": [
    {
     "data": {
      "text/plain": [
       "DecisionTreeRegressor()"
      ]
     },
     "execution_count": 29,
     "metadata": {},
     "output_type": "execute_result"
    }
   ],
   "source": [
    "from sklearn.tree import DecisionTreeRegressor\n",
    "\n",
    "tree_reg = DecisionTreeRegressor()\n",
    "tree_reg.fit(X_train, y_train)"
   ]
  },
  {
   "cell_type": "markdown",
   "metadata": {
    "id": "c4aVpa-bJI9t"
   },
   "source": [
    "![스크린샷 2021-01-25 오후 3.04.01.png](data:image/png;base64,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)"
   ]
  },
  {
   "cell_type": "code",
   "execution_count": 30,
   "metadata": {
    "colab": {
     "base_uri": "https://localhost:8080/"
    },
    "id": "Dhd2AGm3G6Ar",
    "outputId": "bdc9791a-3c38-4206-8e6b-9c311b7c41d7"
   },
   "outputs": [
    {
     "data": {
      "text/plain": [
       "0.5983867346082913"
      ]
     },
     "execution_count": 30,
     "metadata": {},
     "output_type": "execute_result"
    }
   ],
   "source": [
    "from sklearn.metrics import mean_squared_error\n",
    "\n",
    "y_pred = tree_reg.predict(X_test)\n",
    "y_true = y_test\n",
    "rmse = np.sqrt(mean_squared_error(y_pred, y_true))\n",
    "rmse"
   ]
  },
  {
   "cell_type": "markdown",
   "metadata": {
    "id": "feSkOaOkHnKE"
   },
   "source": [
    "## K-Fold Cross-Validation"
   ]
  },
  {
   "cell_type": "code",
   "execution_count": 31,
   "metadata": {
    "colab": {
     "base_uri": "https://localhost:8080/"
    },
    "id": "yNPQODtIHPtk",
    "outputId": "3d14657f-86ce-4d7b-d02d-1e45f7592d79"
   },
   "outputs": [
    {
     "data": {
      "text/plain": [
       "array([-0.37220858, -0.38700458, -0.3740449 , -0.34309709, -0.37545608,\n",
       "       -0.34206361, -0.33371908, -0.40336803, -0.35465916, -0.38288781])"
      ]
     },
     "execution_count": 31,
     "metadata": {},
     "output_type": "execute_result"
    }
   ],
   "source": [
    "from sklearn.model_selection import cross_val_score\n",
    "\n",
    "scores = cross_val_score(tree_reg, X_train, y_train, scoring=\"neg_mean_squared_error\", cv=10)\n",
    "scores"
   ]
  },
  {
   "cell_type": "code",
   "execution_count": 32,
   "metadata": {
    "colab": {
     "base_uri": "https://localhost:8080/"
    },
    "id": "U0W2niJGIsiL",
    "outputId": "d05c4c81-4052-4fd7-cd67-5e7e44dcf811"
   },
   "outputs": [
    {
     "data": {
      "text/plain": [
       "array([0.61008899, 0.62209692, 0.6115921 , 0.5857449 , 0.61274471,\n",
       "       0.58486204, 0.57768424, 0.63511261, 0.59553267, 0.61877929])"
      ]
     },
     "execution_count": 32,
     "metadata": {},
     "output_type": "execute_result"
    }
   ],
   "source": [
    "rmse_scores = np.sqrt(-scores)\n",
    "rmse_scores"
   ]
  },
  {
   "cell_type": "code",
   "execution_count": 33,
   "metadata": {
    "colab": {
     "base_uri": "https://localhost:8080/"
    },
    "id": "bbcLW1-8IGHm",
    "outputId": "de996d91-984d-4c93-c272-8f5928ce4ecc"
   },
   "outputs": [
    {
     "name": "stdout",
     "output_type": "stream",
     "text": [
      "평균: 0.6054238481519132\n",
      "표준편차: 0.01768772930995654\n"
     ]
    }
   ],
   "source": [
    "print(\"평균:\", rmse_scores.mean())\n",
    "print(\"표준편차:\", rmse_scores.std())"
   ]
  },
  {
   "cell_type": "markdown",
   "metadata": {
    "id": "kBHy1zunJo7L"
   },
   "source": [
    "## 하이퍼 파라미터 튜닝"
   ]
  },
  {
   "cell_type": "code",
   "execution_count": 34,
   "metadata": {
    "id": "4_6HzPLRIQhN"
   },
   "outputs": [],
   "source": [
    "from sklearn.model_selection import GridSearchCV\n",
    "\n",
    "param_grid = [\n",
    "    # 하이퍼파라미터 12(=3×4)개의 조합\n",
    "    # n_estimators는 생성할 트리 개수\n",
    "    {'max_depth': [10, 100, 1000], 'max_features': [2, 4, 6, 8]},\n",
    "  ]\n",
    "\n",
    "grid_search = GridSearchCV(tree_reg, param_grid, cv=5, return_train_score=True)"
   ]
  },
  {
   "cell_type": "code",
   "execution_count": 35,
   "metadata": {
    "colab": {
     "base_uri": "https://localhost:8080/"
    },
    "id": "t5Ejvj6QMK0w",
    "outputId": "faf121c7-1971-4aa9-9b68-c5d20338c879"
   },
   "outputs": [
    {
     "data": {
      "text/plain": [
       "GridSearchCV(cv=5, estimator=DecisionTreeRegressor(),\n",
       "             param_grid=[{'max_depth': [10, 100, 1000],\n",
       "                          'max_features': [2, 4, 6, 8]}],\n",
       "             return_train_score=True)"
      ]
     },
     "execution_count": 35,
     "metadata": {},
     "output_type": "execute_result"
    }
   ],
   "source": [
    "grid_search.fit(X_train, y_train)"
   ]
  },
  {
   "cell_type": "code",
   "execution_count": 36,
   "metadata": {
    "colab": {
     "base_uri": "https://localhost:8080/"
    },
    "id": "dIZLofrZJzB6",
    "outputId": "893158c4-b7d2-48e8-d3d7-79bd7228dc8a"
   },
   "outputs": [
    {
     "data": {
      "text/plain": [
       "{'max_depth': 10, 'max_features': 8}"
      ]
     },
     "execution_count": 36,
     "metadata": {},
     "output_type": "execute_result"
    }
   ],
   "source": [
    "grid_search.best_params_"
   ]
  },
  {
   "cell_type": "code",
   "execution_count": 37,
   "metadata": {
    "id": "k-VYE0a5SLJz"
   },
   "outputs": [],
   "source": [
    "cvres = grid_search.cv_results_"
   ]
  },
  {
   "cell_type": "code",
   "execution_count": 38,
   "metadata": {
    "colab": {
     "base_uri": "https://localhost:8080/"
    },
    "id": "6-kpwC7kSMJb",
    "outputId": "66bcd92a-e475-4034-de77-d76a2be03e18"
   },
   "outputs": [
    {
     "name": "stdout",
     "output_type": "stream",
     "text": [
      "0.558769222195469 {'max_depth': 10, 'max_features': 2}\n",
      "0.6544455133638059 {'max_depth': 10, 'max_features': 4}\n",
      "0.6870380560088517 {'max_depth': 10, 'max_features': 6}\n",
      "0.6886920293657812 {'max_depth': 10, 'max_features': 8}\n",
      "0.5232175403760617 {'max_depth': 100, 'max_features': 2}\n",
      "0.6107211071413617 {'max_depth': 100, 'max_features': 4}\n",
      "0.6126612572777407 {'max_depth': 100, 'max_features': 6}\n",
      "0.6243168766297762 {'max_depth': 100, 'max_features': 8}\n",
      "0.5013745834384981 {'max_depth': 1000, 'max_features': 2}\n",
      "0.6105560224537943 {'max_depth': 1000, 'max_features': 4}\n",
      "0.6262723075117226 {'max_depth': 1000, 'max_features': 6}\n",
      "0.6200642178531629 {'max_depth': 1000, 'max_features': 8}\n"
     ]
    }
   ],
   "source": [
    "for mean_score, params in zip(cvres[\"mean_test_score\"], cvres[\"params\"]):\n",
    "    print(mean_score, params)\n",
    "  # print(np.sqrt(-mean_score), params)"
   ]
  },
  {
   "cell_type": "markdown",
   "metadata": {
    "id": "1bB6wAZJNze6"
   },
   "source": [
    "# Excercises (Ch2)"
   ]
  },
  {
   "cell_type": "markdown",
   "metadata": {},
   "source": [
    "## 1.\n",
    "\n",
    "서포트 벡터 머신 회귀(sklearn.svm.SVR)를 kernel=“linear”(하이퍼파라미터 C를 바꿔가며)나 kernel=“rbf”(하이퍼파라미터 C와 gamma를 바꿔가며) 등의 다양한 하이퍼파라미터 설정으로 시도해보세요. 지금은 이 하이퍼파라미터가 무엇을 의미하는지 너무 신경 쓰지 마세요. 최상의 SVR 모델은 무엇인가요?"
   ]
  },
  {
   "cell_type": "code",
   "execution_count": null,
   "metadata": {},
   "outputs": [],
   "source": []
  },
  {
   "cell_type": "code",
   "execution_count": null,
   "metadata": {},
   "outputs": [],
   "source": []
  },
  {
   "cell_type": "markdown",
   "metadata": {},
   "source": [
    "## 2.\n",
    "질문: GridSearchCV를 RandomizedSearchCV로 바꿔보세요."
   ]
  },
  {
   "cell_type": "code",
   "execution_count": null,
   "metadata": {},
   "outputs": [],
   "source": []
  },
  {
   "cell_type": "code",
   "execution_count": null,
   "metadata": {},
   "outputs": [],
   "source": []
  },
  {
   "cell_type": "markdown",
   "metadata": {},
   "source": [
    "## 3.\n",
    "\n",
    "질문: 가장 중요한 특성을 선택하는 변환기를 준비 파이프라인에 추가해보세요."
   ]
  },
  {
   "cell_type": "code",
   "execution_count": null,
   "metadata": {},
   "outputs": [],
   "source": []
  },
  {
   "cell_type": "code",
   "execution_count": null,
   "metadata": {},
   "outputs": [],
   "source": []
  },
  {
   "cell_type": "markdown",
   "metadata": {},
   "source": [
    "## 4.\n",
    "질문: 전체 데이터 준비 과정과 최종 예측을 하나의 파이프라인으로 만들어보세요."
   ]
  },
  {
   "cell_type": "code",
   "execution_count": null,
   "metadata": {},
   "outputs": [],
   "source": []
  },
  {
   "cell_type": "code",
   "execution_count": null,
   "metadata": {},
   "outputs": [],
   "source": []
  },
  {
   "cell_type": "markdown",
   "metadata": {},
   "source": [
    "## 5.\n",
    "질문: GridSearchCV를 사용해 준비 단계의 옵션을 자동으로 탐색해보세요."
   ]
  },
  {
   "cell_type": "code",
   "execution_count": null,
   "metadata": {},
   "outputs": [],
   "source": []
  },
  {
   "cell_type": "code",
   "execution_count": null,
   "metadata": {},
   "outputs": [],
   "source": []
  }
 ],
 "metadata": {
  "colab": {
   "collapsed_sections": [],
   "name": "Untitled2.ipynb의 사본의 사본",
   "provenance": []
  },
  "kernelspec": {
   "display_name": "Python 3.8.12 64-bit ('dav_project': conda)",
   "language": "python",
   "name": "python3812jvsc74a57bd07029938cb11513d21987fd9184742cc2be5b1990fa49c11a889ba7d558370c1a"
  },
  "language_info": {
   "codemirror_mode": {
    "name": "ipython",
    "version": 3
   },
   "file_extension": ".py",
   "mimetype": "text/x-python",
   "name": "python",
   "nbconvert_exporter": "python",
   "pygments_lexer": "ipython3",
   "version": "3.8.12"
  }
 },
 "nbformat": 4,
 "nbformat_minor": 1
}
