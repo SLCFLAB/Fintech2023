{
  "nbformat": 4,
  "nbformat_minor": 0,
  "metadata": {
    "colab": {
      "provenance": []
    },
    "kernelspec": {
      "name": "python3",
      "display_name": "Python 3"
    },
    "language_info": {
      "name": "python"
    },
    "accelerator": "GPU",
    "gpuClass": "standard"
  },
  "cells": [
    {
      "cell_type": "markdown",
      "source": [
        "PyTorch basics & Autograd"
      ],
      "metadata": {
        "id": "5vz9DB2EOiHI"
      }
    },
    {
      "cell_type": "markdown",
      "metadata": {
        "id": "kq-ydtt3J2O8"
      },
      "source": [
        "\n",
        "\n",
        "## CPU, GPU"
      ]
    },
    {
      "cell_type": "code",
      "source": [
        "# Get OS info\n",
        "!cat /etc/issue.net"
      ],
      "metadata": {
        "colab": {
          "base_uri": "https://localhost:8080/"
        },
        "id": "ptnwiKs2IR7j",
        "outputId": "894abd3d-2ac3-479d-c421-a0692903ee13"
      },
      "execution_count": 6,
      "outputs": [
        {
          "output_type": "stream",
          "name": "stdout",
          "text": [
            "Ubuntu 20.04.5 LTS\n"
          ]
        }
      ]
    },
    {
      "cell_type": "code",
      "source": [
        "# Get CPU info\n",
        "!cat /proc/cpuinfo | grep 'processor\\|model name\\|cpu cores'\n",
        "# Get memory info\n",
        "!free -h\n",
        "# Get disk info\n",
        "!df -h"
      ],
      "metadata": {
        "colab": {
          "base_uri": "https://localhost:8080/"
        },
        "id": "SQUwJkhlISDK",
        "outputId": "3b7be302-962c-473c-ef6d-f4bebe407f32"
      },
      "execution_count": 7,
      "outputs": [
        {
          "output_type": "stream",
          "name": "stdout",
          "text": [
            "processor\t: 0\n",
            "model name\t: Intel(R) Xeon(R) CPU @ 2.20GHz\n",
            "cpu cores\t: 1\n",
            "processor\t: 1\n",
            "model name\t: Intel(R) Xeon(R) CPU @ 2.20GHz\n",
            "cpu cores\t: 1\n",
            "              total        used        free      shared  buff/cache   available\n",
            "Mem:           12Gi       871Mi       8.2Gi       1.0Mi       3.6Gi        11Gi\n",
            "Swap:            0B          0B          0B\n",
            "Filesystem      Size  Used Avail Use% Mounted on\n",
            "overlay          79G   26G   53G  33% /\n",
            "tmpfs            64M     0   64M   0% /dev\n",
            "shm             5.7G     0  5.7G   0% /dev/shm\n",
            "/dev/root       2.0G  1.1G  841M  58% /usr/sbin/docker-init\n",
            "tmpfs           6.4G   36K  6.4G   1% /var/colab\n",
            "/dev/sda1        78G   46G   33G  59% /opt/bin/.nvidia\n",
            "tmpfs           6.4G     0  6.4G   0% /proc/acpi\n",
            "tmpfs           6.4G     0  6.4G   0% /proc/scsi\n",
            "tmpfs           6.4G     0  6.4G   0% /sys/firmware\n"
          ]
        }
      ]
    },
    {
      "cell_type": "code",
      "source": [
        "# Get GPU info\n",
        "!nvidia-smi"
      ],
      "metadata": {
        "colab": {
          "base_uri": "https://localhost:8080/"
        },
        "id": "4d0S2KF2BPFB",
        "outputId": "5f40c9ba-57c7-4586-a1cd-ddd6dd4b7093"
      },
      "execution_count": 5,
      "outputs": [
        {
          "output_type": "stream",
          "name": "stdout",
          "text": [
            "Wed Mar 15 06:47:55 2023       \n",
            "+-----------------------------------------------------------------------------+\n",
            "| NVIDIA-SMI 525.85.12    Driver Version: 525.85.12    CUDA Version: 12.0     |\n",
            "|-------------------------------+----------------------+----------------------+\n",
            "| GPU  Name        Persistence-M| Bus-Id        Disp.A | Volatile Uncorr. ECC |\n",
            "| Fan  Temp  Perf  Pwr:Usage/Cap|         Memory-Usage | GPU-Util  Compute M. |\n",
            "|                               |                      |               MIG M. |\n",
            "|===============================+======================+======================|\n",
            "|   0  Tesla T4            Off  | 00000000:00:04.0 Off |                    0 |\n",
            "| N/A   45C    P0    27W /  70W |      0MiB / 15360MiB |      0%      Default |\n",
            "|                               |                      |                  N/A |\n",
            "+-------------------------------+----------------------+----------------------+\n",
            "                                                                               \n",
            "+-----------------------------------------------------------------------------+\n",
            "| Processes:                                                                  |\n",
            "|  GPU   GI   CI        PID   Type   Process name                  GPU Memory |\n",
            "|        ID   ID                                                   Usage      |\n",
            "|=============================================================================|\n",
            "|  No running processes found                                                 |\n",
            "+-----------------------------------------------------------------------------+\n"
          ]
        }
      ]
    },
    {
      "cell_type": "code",
      "execution_count": 1,
      "metadata": {
        "id": "glkIQ-iYAwUo"
      },
      "outputs": [],
      "source": [
        "import torch"
      ]
    },
    {
      "cell_type": "code",
      "source": [
        "torch.__version__"
      ],
      "metadata": {
        "colab": {
          "base_uri": "https://localhost:8080/",
          "height": 36
        },
        "id": "pdmQ3HluA3TA",
        "outputId": "7fa93c5e-edcd-45b7-95f6-b74ea13e339a"
      },
      "execution_count": 2,
      "outputs": [
        {
          "output_type": "execute_result",
          "data": {
            "text/plain": [
              "'1.13.1+cu116'"
            ],
            "application/vnd.google.colaboratory.intrinsic+json": {
              "type": "string"
            }
          },
          "metadata": {},
          "execution_count": 2
        }
      ]
    },
    {
      "cell_type": "code",
      "source": [
        "!pip show torch"
      ],
      "metadata": {
        "colab": {
          "base_uri": "https://localhost:8080/"
        },
        "id": "ySQbwRZCIvJx",
        "outputId": "25e784ec-7d80-431c-a60e-ef7693b66d26"
      },
      "execution_count": 8,
      "outputs": [
        {
          "output_type": "stream",
          "name": "stdout",
          "text": [
            "Name: torch\n",
            "Version: 1.13.1+cu116\n",
            "Summary: Tensors and Dynamic neural networks in Python with strong GPU acceleration\n",
            "Home-page: https://pytorch.org/\n",
            "Author: PyTorch Team\n",
            "Author-email: packages@pytorch.org\n",
            "License: BSD-3\n",
            "Location: /usr/local/lib/python3.9/dist-packages\n",
            "Requires: typing-extensions\n",
            "Required-by: fastai, torchaudio, torchtext, torchvision\n"
          ]
        }
      ]
    },
    {
      "cell_type": "code",
      "source": [
        "x = torch.Tensor(2, 3)\n",
        "print(x)"
      ],
      "metadata": {
        "colab": {
          "base_uri": "https://localhost:8080/"
        },
        "id": "BoxpQJSYBidl",
        "outputId": "e66a9e83-7a18-4e97-c9ab-89d66f5d50b0"
      },
      "execution_count": 9,
      "outputs": [
        {
          "output_type": "stream",
          "name": "stdout",
          "text": [
            "tensor([[2.1715e-18, 6.8001e+22, 3.3828e+21],\n",
            "        [8.4956e+20, 4.4200e-05, 2.7059e+23]])\n"
          ]
        }
      ]
    },
    {
      "cell_type": "code",
      "source": [
        "#Tesnor의 정보 확인\n",
        "print(\"Tensor Type : \", type(x))\n",
        "print(\"Tensor Type : \", x.type())\n",
        "print(\"Tensor Size : \", x.size()) # x.shape"
      ],
      "metadata": {
        "colab": {
          "base_uri": "https://localhost:8080/"
        },
        "id": "wnkx-vM2JAf2",
        "outputId": "2413907f-ed2c-4b73-b0f3-d9ab8ce61f1a"
      },
      "execution_count": 10,
      "outputs": [
        {
          "output_type": "stream",
          "name": "stdout",
          "text": [
            "Tensor Type :  <class 'torch.Tensor'>\n",
            "Tensor Type :  torch.FloatTensor\n",
            "Tensor Size :  torch.Size([2, 3])\n"
          ]
        }
      ]
    },
    {
      "cell_type": "code",
      "source": [
        "x.shape"
      ],
      "metadata": {
        "colab": {
          "base_uri": "https://localhost:8080/"
        },
        "id": "lsFL-YRUJF7c",
        "outputId": "9b29646f-6bd8-424f-b704-67fd6a7dc750"
      },
      "execution_count": 13,
      "outputs": [
        {
          "output_type": "execute_result",
          "data": {
            "text/plain": [
              "torch.Size([2, 3])"
            ]
          },
          "metadata": {},
          "execution_count": 13
        }
      ]
    },
    {
      "cell_type": "markdown",
      "metadata": {
        "id": "c0fLiAjYl4YJ"
      },
      "source": [
        "## 1.1 Tensor Basic"
      ]
    },
    {
      "cell_type": "code",
      "execution_count": 14,
      "metadata": {
        "colab": {
          "base_uri": "https://localhost:8080/"
        },
        "id": "6H-778tOl4YJ",
        "outputId": "b5339919-dcf9-43ce-cf2f-00023d702658"
      },
      "outputs": [
        {
          "output_type": "stream",
          "name": "stdout",
          "text": [
            "tensor([[1.9190e-34, 0.0000e+00, 1.4313e+13],\n",
            "        [1.8461e+25, 0.0000e+00, 0.0000e+00]])\n"
          ]
        }
      ],
      "source": [
        "#Tensor의 기초적 선언\n",
        "#torch.FloatTensor와 같음\n",
        "# x = torch.Tensor(행, 열)\n",
        "x = torch.Tensor(2, 3)\n",
        "print(x)"
      ]
    },
    {
      "cell_type": "code",
      "execution_count": 15,
      "metadata": {
        "colab": {
          "base_uri": "https://localhost:8080/"
        },
        "id": "zj-gU04Dl4YJ",
        "outputId": "680937a9-9af2-42af-dfd9-1c7dca33ee08"
      },
      "outputs": [
        {
          "output_type": "stream",
          "name": "stdout",
          "text": [
            "Tensor Type :  <class 'torch.Tensor'>\n",
            "Tensor Type :  torch.FloatTensor\n",
            "Tensor Size :  torch.Size([2, 3])\n"
          ]
        }
      ],
      "source": [
        "#Tesnor의 정보 확인\n",
        "print(\"Tensor Type : \", type(x))\n",
        "print(\"Tensor Type : \", x.type())\n",
        "print(\"Tensor Size : \", x.size()) # x.shape"
      ]
    },
    {
      "cell_type": "markdown",
      "metadata": {
        "id": "AMDOUMt6l4YJ"
      },
      "source": [
        "## 1.2 Tensor with characteristics"
      ]
    },
    {
      "cell_type": "code",
      "execution_count": 16,
      "metadata": {
        "colab": {
          "base_uri": "https://localhost:8080/"
        },
        "id": "Vg4dpRXml4YK",
        "outputId": "386f4593-bab4-4f42-c1f0-6dc679ee23ab"
      },
      "outputs": [
        {
          "output_type": "stream",
          "name": "stdout",
          "text": [
            "tensor([[0., 0., 0.],\n",
            "        [0., 0., 0.]])\n",
            "Tensor Type :  torch.FloatTensor\n",
            "Tensor Size :  torch.Size([2, 3])\n"
          ]
        }
      ],
      "source": [
        "#0으로 채워진 Tensor 선언\n",
        "x = torch.zeros(2, 3)\n",
        "print(x)\n",
        "print(\"Tensor Type : \", x.type())\n",
        "print(\"Tensor Size : \", x.size())"
      ]
    },
    {
      "cell_type": "code",
      "execution_count": 17,
      "metadata": {
        "colab": {
          "base_uri": "https://localhost:8080/"
        },
        "id": "9emB0vP4l4YK",
        "outputId": "65a88e46-0ce3-4a60-8a58-7617560f0263"
      },
      "outputs": [
        {
          "output_type": "stream",
          "name": "stdout",
          "text": [
            "tensor([[0, 0, 0],\n",
            "        [0, 0, 0]], dtype=torch.int32)\n",
            "Tensor Type :  torch.IntTensor\n",
            "Tensor Size :  torch.Size([2, 3])\n"
          ]
        }
      ],
      "source": [
        "x = torch.zeros(2,3, dtype=torch.int32)\n",
        "print(x)\n",
        "print(\"Tensor Type : \", x.type())\n",
        "print(\"Tensor Size : \", x.size())"
      ]
    },
    {
      "cell_type": "code",
      "execution_count": null,
      "metadata": {
        "colab": {
          "base_uri": "https://localhost:8080/"
        },
        "id": "p7lE7nU_l4YK",
        "outputId": "1bb77489-3489-400c-9eee-d09941c4bd2a"
      },
      "outputs": [
        {
          "output_type": "stream",
          "name": "stdout",
          "text": [
            "tensor([[1., 1., 1.],\n",
            "        [1., 1., 1.]])\n",
            "Tensor Type :  torch.FloatTensor\n",
            "Tensor Size :  torch.Size([2, 3])\n"
          ]
        }
      ],
      "source": [
        "#1로 채워진 Tensor 선언\n",
        "x = torch.ones(2, 3)\n",
        "print(x)\n",
        "print(\"Tensor Type : \", x.type())\n",
        "print(\"Tensor Size : \", x.size())"
      ]
    },
    {
      "cell_type": "code",
      "execution_count": null,
      "metadata": {
        "colab": {
          "base_uri": "https://localhost:8080/"
        },
        "id": "nkBW2qeSl4YK",
        "outputId": "829df7ad-5671-4eda-ba9e-fc4f4be531d7"
      },
      "outputs": [
        {
          "output_type": "stream",
          "name": "stdout",
          "text": [
            "tensor([[0.6250, 0.5824, 0.3714],\n",
            "        [0.5825, 0.2517, 0.3137]])\n",
            "Tensor Type :  torch.FloatTensor\n",
            "Tensor Size :  torch.Size([2, 3])\n"
          ]
        }
      ],
      "source": [
        "#0, 1 사이의 랜덤 숫자로 채워진 Tensor 선언\n",
        "x = torch.rand(2, 3)\n",
        "print(x)\n",
        "print(\"Tensor Type : \", x.type())\n",
        "print(\"Tensor Size : \", x.size())"
      ]
    },
    {
      "cell_type": "code",
      "execution_count": null,
      "metadata": {
        "colab": {
          "base_uri": "https://localhost:8080/"
        },
        "id": "Yw4Q2VqFl4YL",
        "outputId": "f3a35237-92ba-41c1-86df-908f09e98dc6"
      },
      "outputs": [
        {
          "output_type": "stream",
          "name": "stdout",
          "text": [
            "tensor([[ 1.4835,  0.0624, -1.7620],\n",
            "        [-0.5942,  1.3545, -1.7614]])\n",
            "Tensor Type :  torch.FloatTensor\n",
            "Tensor Size :  torch.Size([2, 3])\n"
          ]
        }
      ],
      "source": [
        "#평균이 0이고 분산이 1을 따르는 정규분포에서 추출된 값으로 채워진 Tensor 선언\n",
        "x = torch.randn(2, 3)\n",
        "print(x)\n",
        "print(\"Tensor Type : \", x.type())\n",
        "print(\"Tensor Size : \", x.size())"
      ]
    },
    {
      "cell_type": "code",
      "execution_count": null,
      "metadata": {
        "colab": {
          "base_uri": "https://localhost:8080/"
        },
        "id": "IMqJCPh8l4YL",
        "outputId": "9610441a-7ce9-468a-8086-5609af8810f1"
      },
      "outputs": [
        {
          "output_type": "stream",
          "name": "stdout",
          "text": [
            "tensor([[1., 0., 0.],\n",
            "        [0., 1., 0.]])\n",
            "Tensor Type :  torch.FloatTensor\n",
            "Tensor Size :  torch.Size([2, 3])\n"
          ]
        }
      ],
      "source": [
        "#정방행렬과 같은 Tensor 선언\n",
        "x = torch.eye(2, 3)\n",
        "print(x)\n",
        "print(\"Tensor Type : \", x.type())\n",
        "print(\"Tensor Size : \", x.size())"
      ]
    },
    {
      "cell_type": "code",
      "execution_count": null,
      "metadata": {
        "scrolled": true,
        "colab": {
          "base_uri": "https://localhost:8080/"
        },
        "id": "dg2xR12Zl4YM",
        "outputId": "faae4a8d-b35d-4a33-eb64-330009698d78"
      },
      "outputs": [
        {
          "output_type": "stream",
          "name": "stdout",
          "text": [
            "tensor([0.0000, 0.5000, 1.0000, 1.5000])\n",
            "Tensor Type :  torch.FloatTensor\n",
            "Tensor Size :  torch.Size([4])\n"
          ]
        }
      ],
      "source": [
        "#0부터 2까지 0.5씩 증가하는 Tensor 선언\n",
        "x = torch.arange(0, 2, step=0.5)\n",
        "print(x)\n",
        "print(\"Tensor Type : \", x.type())\n",
        "print(\"Tensor Size : \", x.size())"
      ]
    },
    {
      "cell_type": "code",
      "execution_count": null,
      "metadata": {
        "colab": {
          "base_uri": "https://localhost:8080/"
        },
        "id": "LW5ZufJnl4YN",
        "outputId": "f7e493ac-0e02-4a4f-9607-435fb9c4f04b"
      },
      "outputs": [
        {
          "output_type": "stream",
          "name": "stdout",
          "text": [
            "tensor([[1., 2., 3.],\n",
            "        [1., 2., 3.]])\n",
            "Tensor Type :  torch.FloatTensor\n",
            "Tensor Size :  torch.Size([2, 3])\n"
          ]
        }
      ],
      "source": [
        "#직접 값을 입력하여 선언\n",
        "x = torch.Tensor([[1,2,3],[1,2,3]])\n",
        "print(x)\n",
        "print(\"Tensor Type : \", x.type())\n",
        "print(\"Tensor Size : \", x.size())"
      ]
    },
    {
      "cell_type": "code",
      "execution_count": null,
      "metadata": {
        "colab": {
          "base_uri": "https://localhost:8080/"
        },
        "id": "u8ueXZ0Vl4YN",
        "outputId": "2bd7c51f-f43b-4981-d5b4-01acd9e61342"
      },
      "outputs": [
        {
          "output_type": "stream",
          "name": "stdout",
          "text": [
            "tensor([[4.7131e-16, 3.0740e-41, 3.3631e-44],\n",
            "        [0.0000e+00,        nan, 3.0000e+00]])\n",
            "Tensor Type :  torch.FloatTensor\n",
            "Tensor Size :  torch.Size([2, 3])\n"
          ]
        }
      ],
      "source": [
        "#32-bit floating point\n",
        "x = torch.FloatTensor(2,3)\n",
        "print(x)\n",
        "print(\"Tensor Type : \", x.type())\n",
        "print(\"Tensor Size : \", x.size())"
      ]
    },
    {
      "cell_type": "code",
      "execution_count": null,
      "metadata": {
        "colab": {
          "base_uri": "https://localhost:8080/"
        },
        "id": "BiAynJqOl4YO",
        "outputId": "f4019833-e532-4da7-f016-a244232c94df"
      },
      "outputs": [
        {
          "output_type": "stream",
          "name": "stdout",
          "text": [
            "tensor([[638048512,     21937, 528784896],\n",
            "        [    21937,        24,         0]], dtype=torch.int32)\n",
            "Tensor Type :  torch.IntTensor\n",
            "Tensor Size :  torch.Size([2, 3])\n"
          ]
        }
      ],
      "source": [
        "#32-bit integer (signed)\n",
        "x = torch.IntTensor(2,3)\n",
        "print(x)\n",
        "print(\"Tensor Type : \", x.type())\n",
        "print(\"Tensor Size : \", x.size())"
      ]
    },
    {
      "cell_type": "markdown",
      "metadata": {
        "id": "HHw9FoFml4YO"
      },
      "source": [
        "## 1.3 Tensor and Numpy"
      ]
    },
    {
      "cell_type": "code",
      "execution_count": null,
      "metadata": {
        "id": "iZex7g85l4YO"
      },
      "outputs": [],
      "source": [
        "import numpy as np"
      ]
    },
    {
      "cell_type": "code",
      "execution_count": null,
      "metadata": {
        "colab": {
          "base_uri": "https://localhost:8080/"
        },
        "id": "g2IsSByEl4YO",
        "outputId": "687859ad-d51d-4f81-8102-01faae5b2c3b"
      },
      "outputs": [
        {
          "output_type": "stream",
          "name": "stdout",
          "text": [
            "[[1 2 3]\n",
            " [1 2 3]] <class 'numpy.ndarray'>\n"
          ]
        }
      ],
      "source": [
        "#numpy 형식의 배열\n",
        "x = np.array([[1,2,3],[1,2,3]])\n",
        "print(x, type(x))"
      ]
    },
    {
      "cell_type": "code",
      "execution_count": null,
      "metadata": {
        "colab": {
          "base_uri": "https://localhost:8080/"
        },
        "id": "nno_zU4Kl4YP",
        "outputId": "42a15c0e-dbd8-419f-c875-103def702a25"
      },
      "outputs": [
        {
          "output_type": "stream",
          "name": "stdout",
          "text": [
            "tensor([[1, 2, 3],\n",
            "        [1, 2, 3]])\n",
            "Tensor Type :  torch.LongTensor\n",
            "Tensor Size :  torch.Size([2, 3])\n"
          ]
        }
      ],
      "source": [
        "#numpy를 tensor로 변환\n",
        "x = torch.from_numpy(x) # x = torch.Tensor(x)\n",
        "print(x)\n",
        "print(\"Tensor Type : \", x.type())\n",
        "print(\"Tensor Size : \", x.size())"
      ]
    },
    {
      "cell_type": "code",
      "execution_count": null,
      "metadata": {
        "colab": {
          "base_uri": "https://localhost:8080/"
        },
        "id": "vOV8T21sl4YP",
        "outputId": "0e0fb7fe-70e9-4bf4-850c-db4e7bd35d49"
      },
      "outputs": [
        {
          "output_type": "stream",
          "name": "stdout",
          "text": [
            "[[1 2 3]\n",
            " [1 2 3]] <class 'numpy.ndarray'>\n"
          ]
        }
      ],
      "source": [
        "#tensor를 numpy로 변환\n",
        "x = x.numpy()\n",
        "print(x, type(x))"
      ]
    },
    {
      "cell_type": "markdown",
      "metadata": {
        "id": "4k4sN8gml4YQ"
      },
      "source": [
        "## 1.4 Tensor Slicing"
      ]
    },
    {
      "cell_type": "code",
      "execution_count": null,
      "metadata": {
        "colab": {
          "base_uri": "https://localhost:8080/"
        },
        "id": "FOUrnm28l4YQ",
        "outputId": "4bf3365f-fe25-46e4-93e6-83f0702c793a"
      },
      "outputs": [
        {
          "output_type": "stream",
          "name": "stdout",
          "text": [
            "tensor([[ 1.,  2.,  3.,  4.],\n",
            "        [ 5.,  6.,  7.,  8.],\n",
            "        [ 9., 10., 11., 12.]])\n"
          ]
        }
      ],
      "source": [
        "x = torch.Tensor([[1,2,3,4],[5,6,7,8],[9,10,11,12]])\n",
        "print(x)"
      ]
    },
    {
      "cell_type": "code",
      "execution_count": null,
      "metadata": {
        "colab": {
          "base_uri": "https://localhost:8080/"
        },
        "id": "BplqStdQl4YR",
        "outputId": "96d0b105-7e90-4b3e-b0de-57b94fe30c95"
      },
      "outputs": [
        {
          "output_type": "execute_result",
          "data": {
            "text/plain": [
              "tensor([[ 1.,  2.,  3.,  4.],\n",
              "        [ 5.,  6.,  7.,  8.],\n",
              "        [ 9., 10., 11., 12.]])"
            ]
          },
          "metadata": {},
          "execution_count": 34
        }
      ],
      "source": [
        "#모든 원소 출력\n",
        "x[:, :]"
      ]
    },
    {
      "cell_type": "code",
      "execution_count": null,
      "metadata": {
        "colab": {
          "base_uri": "https://localhost:8080/"
        },
        "id": "Nu355zaHl4YR",
        "outputId": "e8eb1930-f732-487d-a3dd-8d6717d73499"
      },
      "outputs": [
        {
          "output_type": "execute_result",
          "data": {
            "text/plain": [
              "tensor([[ 5.,  6.,  7.,  8.],\n",
              "        [ 9., 10., 11., 12.]])"
            ]
          },
          "metadata": {},
          "execution_count": 35
        }
      ],
      "source": [
        "#2행부터 출력\n",
        "x[1:, :]"
      ]
    },
    {
      "cell_type": "code",
      "execution_count": null,
      "metadata": {
        "scrolled": true,
        "colab": {
          "base_uri": "https://localhost:8080/"
        },
        "id": "OFo8W6dTl4YR",
        "outputId": "961df9f9-5d07-4d3f-bb09-472b25c0ba8c"
      },
      "outputs": [
        {
          "output_type": "execute_result",
          "data": {
            "text/plain": [
              "tensor([[ 2.,  3.,  4.],\n",
              "        [ 6.,  7.,  8.],\n",
              "        [10., 11., 12.]])"
            ]
          },
          "metadata": {},
          "execution_count": 36
        }
      ],
      "source": [
        "#2열부터 출력\n",
        "x[:, 1:]"
      ]
    },
    {
      "cell_type": "code",
      "execution_count": null,
      "metadata": {
        "colab": {
          "base_uri": "https://localhost:8080/"
        },
        "id": "L2u5-oG4l4YS",
        "outputId": "01da7d64-9551-4fd2-9b23-9517d39726f6"
      },
      "outputs": [
        {
          "output_type": "execute_result",
          "data": {
            "text/plain": [
              "tensor([[ 6.,  7.],\n",
              "        [10., 11.]])"
            ]
          },
          "metadata": {},
          "execution_count": 37
        }
      ],
      "source": [
        "#2행, 2열부터 3열까지 출력\n",
        "x[1:, 1:3]"
      ]
    },
    {
      "cell_type": "code",
      "execution_count": null,
      "metadata": {
        "scrolled": true,
        "colab": {
          "base_uri": "https://localhost:8080/"
        },
        "id": "Cq1qU3OUl4YS",
        "outputId": "505d5f8d-7565-4881-b2ea-a955d042239c"
      },
      "outputs": [
        {
          "output_type": "execute_result",
          "data": {
            "text/plain": [
              "tensor([1., 2., 3., 4.])"
            ]
          },
          "metadata": {},
          "execution_count": 38
        }
      ],
      "source": [
        "#1행 출력\n",
        "x[0, :]"
      ]
    },
    {
      "cell_type": "code",
      "execution_count": null,
      "metadata": {
        "colab": {
          "base_uri": "https://localhost:8080/"
        },
        "id": "Db5J-wWzl4YS",
        "outputId": "8a69b704-0f7e-481f-9eb8-9223243e197d"
      },
      "outputs": [
        {
          "output_type": "stream",
          "name": "stdout",
          "text": [
            "(tensor([[1., 2., 3., 4.]]), tensor([[5., 6., 7., 8.]]), tensor([[ 9., 10., 11., 12.]]))\n"
          ]
        }
      ],
      "source": [
        "#x를 1행씩 잘라서 배열로 저장\n",
        "x_rows = torch.split(x, split_size_or_sections=1, dim=0)\n",
        "print(x_rows)"
      ]
    },
    {
      "cell_type": "code",
      "execution_count": null,
      "metadata": {
        "colab": {
          "base_uri": "https://localhost:8080/"
        },
        "id": "hlA7hMR4l4YS",
        "outputId": "ad06be10-47a1-47a4-d493-d862627d357f"
      },
      "outputs": [
        {
          "output_type": "stream",
          "name": "stdout",
          "text": [
            "(tensor([[ 1.,  2.],\n",
            "        [ 5.,  6.],\n",
            "        [ 9., 10.]]), tensor([[ 3.,  4.],\n",
            "        [ 7.,  8.],\n",
            "        [11., 12.]]))\n"
          ]
        }
      ],
      "source": [
        "#x를 2열씩 잘라서 배열로 저장\n",
        "x_cols = torch.split(x, split_size_or_sections=2, dim=1)\n",
        "print(x_cols)"
      ]
    },
    {
      "cell_type": "code",
      "execution_count": null,
      "metadata": {
        "colab": {
          "base_uri": "https://localhost:8080/"
        },
        "id": "LaNGOq-Ll4YT",
        "outputId": "0644c46e-439d-4a21-afaf-ecc25c380221"
      },
      "outputs": [
        {
          "output_type": "execute_result",
          "data": {
            "text/plain": [
              "(tensor([[ 1.,  2.],\n",
              "         [ 5.,  6.],\n",
              "         [ 9., 10.]]), tensor([[ 3.,  4.],\n",
              "         [ 7.,  8.],\n",
              "         [11., 12.]]))"
            ]
          },
          "metadata": {},
          "execution_count": 41
        }
      ],
      "source": [
        "#위와 같은 결과\n",
        "torch.chunk(x, chunks=2, dim=1)"
      ]
    },
    {
      "cell_type": "code",
      "execution_count": null,
      "metadata": {
        "colab": {
          "base_uri": "https://localhost:8080/"
        },
        "id": "I2ScyY7Gl4YT",
        "outputId": "05fc09e2-65b6-4b1b-c5e6-e7bc63b095ea"
      },
      "outputs": [
        {
          "output_type": "execute_result",
          "data": {
            "text/plain": [
              "tensor([ 2.,  5., 10.])"
            ]
          },
          "metadata": {},
          "execution_count": 42
        }
      ],
      "source": [
        "#x_cols의 첫번째 배열 중 특정 부분만 추출하기\n",
        "torch.masked_select(x_cols[0], torch.BoolTensor([[0,1],[1,0],[0,1]]).bool())"
      ]
    },
    {
      "cell_type": "markdown",
      "metadata": {
        "id": "5fvKxT6gl4YT"
      },
      "source": [
        "## 1.5 Tensor Merging"
      ]
    },
    {
      "cell_type": "code",
      "execution_count": null,
      "metadata": {
        "colab": {
          "base_uri": "https://localhost:8080/"
        },
        "id": "Mk9FljMMl4YT",
        "outputId": "b896c381-a529-4f95-b995-bd2272ddc552"
      },
      "outputs": [
        {
          "output_type": "execute_result",
          "data": {
            "text/plain": [
              "tensor([[ 1.,  2.,  3.,  4.],\n",
              "        [ 5.,  6.,  7.,  8.],\n",
              "        [ 9., 10., 11., 12.]])"
            ]
          },
          "metadata": {},
          "execution_count": 43
        }
      ],
      "source": [
        "#x_rows를 행으로 이어 붙이기\n",
        "torch.cat(x_rows, dim=0)"
      ]
    },
    {
      "cell_type": "code",
      "execution_count": null,
      "metadata": {
        "colab": {
          "base_uri": "https://localhost:8080/"
        },
        "id": "RkSmjWJvl4YT",
        "outputId": "6f474d74-f47e-47f4-b158-89c22390336e"
      },
      "outputs": [
        {
          "output_type": "execute_result",
          "data": {
            "text/plain": [
              "tensor([[ 1.,  2.,  3.,  4.,  5.,  6.,  7.,  8.,  9., 10., 11., 12.]])"
            ]
          },
          "metadata": {},
          "execution_count": 44
        }
      ],
      "source": [
        "#x_rows를 열로 이어 붙이기\n",
        "torch.cat(x_rows, dim=1)"
      ]
    },
    {
      "cell_type": "code",
      "execution_count": null,
      "metadata": {
        "colab": {
          "base_uri": "https://localhost:8080/"
        },
        "id": "QUc20E_Fl4YT",
        "outputId": "99845466-85de-4a27-f1c8-7b864c86083e"
      },
      "outputs": [
        {
          "output_type": "stream",
          "name": "stdout",
          "text": [
            "tensor([[[ 1.,  2.],\n",
            "         [ 5.,  6.],\n",
            "         [ 9., 10.]],\n",
            "\n",
            "        [[ 3.,  4.],\n",
            "         [ 7.,  8.],\n",
            "         [11., 12.]]])\n"
          ]
        }
      ],
      "source": [
        "#x_cols를 쌓아올리기\n",
        "x_new = torch.stack(x_cols, dim=0)\n",
        "print(x_new)"
      ]
    },
    {
      "cell_type": "markdown",
      "metadata": {
        "id": "1Td6GTu5l4YU"
      },
      "source": [
        "## 1.6 Tensor Reshaping"
      ]
    },
    {
      "cell_type": "code",
      "execution_count": null,
      "metadata": {
        "scrolled": true,
        "colab": {
          "base_uri": "https://localhost:8080/"
        },
        "id": "tP_VtBg3l4YU",
        "outputId": "a645a0c1-e058-4f93-a4a3-04b10ccff7c1"
      },
      "outputs": [
        {
          "output_type": "stream",
          "name": "stdout",
          "text": [
            "tensor([[ 1.,  2.,  3.,  4.],\n",
            "        [ 5.,  6.,  7.,  8.],\n",
            "        [ 9., 10., 11., 12.]])\n"
          ]
        }
      ],
      "source": [
        "x = torch.Tensor([[1,2,3,4],[5,6,7,8],[9,10,11,12]])\n",
        "print(x)"
      ]
    },
    {
      "cell_type": "code",
      "execution_count": null,
      "metadata": {
        "colab": {
          "base_uri": "https://localhost:8080/"
        },
        "id": "Ii1-ZN3ol4YU",
        "outputId": "6e314132-0fca-45ba-b3b9-fc151bef7461"
      },
      "outputs": [
        {
          "output_type": "execute_result",
          "data": {
            "text/plain": [
              "tensor([[ 1.,  2.,  3.],\n",
              "        [ 4.,  5.,  6.],\n",
              "        [ 7.,  8.,  9.],\n",
              "        [10., 11., 12.]])"
            ]
          },
          "metadata": {},
          "execution_count": 47
        }
      ],
      "source": [
        "#4행 3열로 바꾸기\n",
        "x.view(4, 3)"
      ]
    },
    {
      "cell_type": "code",
      "execution_count": null,
      "metadata": {
        "colab": {
          "base_uri": "https://localhost:8080/"
        },
        "id": "Y8je5SY1l4YU",
        "outputId": "99fa2dc9-f767-42e2-9365-8b1f68ff484d"
      },
      "outputs": [
        {
          "output_type": "execute_result",
          "data": {
            "text/plain": [
              "tensor([[ 1.,  2.],\n",
              "        [ 3.,  4.],\n",
              "        [ 5.,  6.],\n",
              "        [ 7.,  8.],\n",
              "        [ 9., 10.],\n",
              "        [11., 12.]])"
            ]
          },
          "metadata": {},
          "execution_count": 48
        }
      ],
      "source": [
        "#2열로 바꾸기\n",
        "x.view(-1, 2)"
      ]
    },
    {
      "cell_type": "code",
      "execution_count": null,
      "metadata": {
        "colab": {
          "base_uri": "https://localhost:8080/"
        },
        "id": "71E-YypMl4YU",
        "outputId": "579f9894-a52e-4cf7-dbeb-8fecfe058f94"
      },
      "outputs": [
        {
          "output_type": "execute_result",
          "data": {
            "text/plain": [
              "tensor([[[ 1.,  2.,  3.,  4.,  5.,  6.]],\n",
              "\n",
              "        [[ 7.,  8.,  9., 10., 11., 12.]]])"
            ]
          },
          "metadata": {},
          "execution_count": 49
        }
      ],
      "source": [
        "x.view(2, 1, -1)"
      ]
    },
    {
      "cell_type": "code",
      "execution_count": null,
      "metadata": {
        "colab": {
          "base_uri": "https://localhost:8080/"
        },
        "id": "RFkWVSh0l4YV",
        "outputId": "272b1cba-6e71-44b0-e4c4-a4a428b9f78f"
      },
      "outputs": [
        {
          "output_type": "execute_result",
          "data": {
            "text/plain": [
              "tensor([[ 1.,  2.,  3.,  4.,  5.,  6.],\n",
              "        [ 7.,  8.,  9., 10., 11., 12.]])"
            ]
          },
          "metadata": {},
          "execution_count": 50
        }
      ],
      "source": [
        "#차원이 1인 값을 축소\n",
        "x.view(2, 1, -1).squeeze()"
      ]
    },
    {
      "cell_type": "code",
      "execution_count": null,
      "metadata": {
        "colab": {
          "base_uri": "https://localhost:8080/"
        },
        "id": "QvNNcXRjl4YV",
        "outputId": "4f8c3090-753f-4738-a02c-0be1251f0908"
      },
      "outputs": [
        {
          "output_type": "execute_result",
          "data": {
            "text/plain": [
              "tensor([[[ 1.,  2.,  3.,  4.,  5.,  6.]],\n",
              "\n",
              "        [[ 7.,  8.,  9., 10., 11., 12.]]])"
            ]
          },
          "metadata": {},
          "execution_count": 51
        }
      ],
      "source": [
        "#dim=1 자리에 차원을 추가\n",
        "x.view(2, 1, -1).squeeze().unsqueeze(dim=1)"
      ]
    },
    {
      "cell_type": "markdown",
      "metadata": {
        "id": "QZgFMhndl4YV"
      },
      "source": [
        "## 1.7 Tensor Calculation"
      ]
    },
    {
      "cell_type": "code",
      "execution_count": null,
      "metadata": {
        "colab": {
          "base_uri": "https://localhost:8080/"
        },
        "id": "hFDBAMC0l4YV",
        "outputId": "9c10ee00-ff22-4baa-fa62-fea2758f0c08"
      },
      "outputs": [
        {
          "output_type": "stream",
          "name": "stdout",
          "text": [
            "x : tensor([[1., 2., 3.],\n",
            "        [4., 5., 6.]])\n",
            "y : tensor([[1., 1., 1.],\n",
            "        [2., 2., 2.]])\n"
          ]
        }
      ],
      "source": [
        "x = torch.Tensor([[1,2,3],[4,5,6]])\n",
        "y = torch.Tensor([[1,1,1],[2,2,2]])\n",
        "print(\"x :\", x)\n",
        "print(\"y :\", y)"
      ]
    },
    {
      "cell_type": "code",
      "execution_count": null,
      "metadata": {
        "colab": {
          "base_uri": "https://localhost:8080/"
        },
        "id": "tdOPrYHLl4YV",
        "outputId": "38ae1a5f-93dc-4838-8704-ab58de6d3d21"
      },
      "outputs": [
        {
          "output_type": "stream",
          "name": "stdout",
          "text": [
            "z : tensor([[2., 3., 4.],\n",
            "        [6., 7., 8.]])\n",
            "x+y : tensor([[2., 3., 4.],\n",
            "        [6., 7., 8.]])\n"
          ]
        }
      ],
      "source": [
        "# x와 y의 합\n",
        "z = torch.add(x, y)\n",
        "print(\"z :\", z)\n",
        "print(\"x+y :\", x+y)"
      ]
    },
    {
      "cell_type": "code",
      "execution_count": null,
      "metadata": {
        "colab": {
          "base_uri": "https://localhost:8080/"
        },
        "id": "zFGp5coNl4YV",
        "outputId": "b0c6aeb6-99a1-4226-804a-0254f6a7d358"
      },
      "outputs": [
        {
          "output_type": "stream",
          "name": "stdout",
          "text": [
            "tensor([[-1.,  0.,  1.],\n",
            "        [ 2.,  3.,  4.]])\n",
            "tensor([[ 2.,  4.,  6.],\n",
            "        [ 8., 10., 12.]])\n"
          ]
        }
      ],
      "source": [
        "# x의 모든 원소에서 2를 뺌\n",
        "print(x - 2)\n",
        "\n",
        "# x의 모든 원소에 2를 곱함\n",
        "print(2*x)"
      ]
    },
    {
      "cell_type": "code",
      "execution_count": null,
      "metadata": {
        "colab": {
          "base_uri": "https://localhost:8080/"
        },
        "id": "RY8Diuj3l4YW",
        "outputId": "f2bf17f2-2ac8-4857-8d3f-34a8df8ff6d3"
      },
      "outputs": [
        {
          "output_type": "stream",
          "name": "stdout",
          "text": [
            "z : tensor([[ 1.,  2.,  3.],\n",
            "        [ 8., 10., 12.]])\n",
            "x*y : tensor([[ 1.,  2.,  3.],\n",
            "        [ 8., 10., 12.]])\n"
          ]
        }
      ],
      "source": [
        "#x의 원소와 y의 원소를 각각 곱함\n",
        "z = torch.mul(x, y)\n",
        "print(\"z :\", z)\n",
        "print(\"x*y :\", x*y)"
      ]
    },
    {
      "cell_type": "code",
      "execution_count": null,
      "metadata": {
        "colab": {
          "base_uri": "https://localhost:8080/"
        },
        "id": "OpgXL6gbl4YW",
        "outputId": "6e562baa-a992-4cf1-85cf-c6b8dcfc992f"
      },
      "outputs": [
        {
          "output_type": "stream",
          "name": "stdout",
          "text": [
            "z : tensor([[ 1.,  4.,  9.],\n",
            "        [16., 25., 36.]])\n",
            "x**2 : tensor([[ 1.,  4.,  9.],\n",
            "        [16., 25., 36.]])\n"
          ]
        }
      ],
      "source": [
        "#x의 원소를 각각 제곱함\n",
        "z = torch.pow(x, 2)\n",
        "print(\"z :\", z)\n",
        "print(\"x**2 :\", x**2)"
      ]
    },
    {
      "cell_type": "code",
      "execution_count": null,
      "metadata": {
        "colab": {
          "base_uri": "https://localhost:8080/"
        },
        "id": "OhlKTWy1l4YW",
        "outputId": "500bf8c8-0021-4871-e997-c04d284e67af"
      },
      "outputs": [
        {
          "output_type": "stream",
          "name": "stdout",
          "text": [
            "z : tensor([[0.0000, 0.6931, 1.0986],\n",
            "        [1.3863, 1.6094, 1.7918]])\n",
            "x.log() : tensor([[0.0000, 0.6931, 1.0986],\n",
            "        [1.3863, 1.6094, 1.7918]])\n"
          ]
        }
      ],
      "source": [
        "#x의 원소에 log를 씌움\n",
        "z = torch.log(x)\n",
        "print(\"z :\", z)\n",
        "print(\"x.log() :\", x.log())"
      ]
    },
    {
      "cell_type": "code",
      "execution_count": null,
      "metadata": {
        "colab": {
          "base_uri": "https://localhost:8080/"
        },
        "id": "d3g5IQvvl4YW",
        "outputId": "90580433-49ce-4774-c6a4-20178cef54dd"
      },
      "outputs": [
        {
          "output_type": "stream",
          "name": "stdout",
          "text": [
            "z : tensor([[1.0000, 1.4142, 1.7321],\n",
            "        [2.0000, 2.2361, 2.4495]])\n",
            "x.sqrt() : tensor([[1.0000, 1.4142, 1.7321],\n",
            "        [2.0000, 2.2361, 2.4495]])\n"
          ]
        }
      ],
      "source": [
        "#x의 원소에 루트를 씌움\n",
        "z = torch.sqrt(x)\n",
        "print(\"z :\", z)\n",
        "print(\"x.sqrt() :\", x.sqrt())"
      ]
    },
    {
      "cell_type": "code",
      "execution_count": null,
      "metadata": {
        "colab": {
          "base_uri": "https://localhost:8080/"
        },
        "id": "CkT0CElxl4YW",
        "outputId": "ab84387b-8ff5-4114-8875-9fb6d6c9c6bf"
      },
      "outputs": [
        {
          "output_type": "stream",
          "name": "stdout",
          "text": [
            "tensor([[1., 0., 1.],\n",
            "        [0., 1., 0.]])\n"
          ]
        }
      ],
      "source": [
        "#x의 원소에 나머지(mod) 계산\n",
        "z = x % 2\n",
        "print(z)"
      ]
    },
    {
      "cell_type": "code",
      "execution_count": null,
      "metadata": {
        "colab": {
          "base_uri": "https://localhost:8080/"
        },
        "id": "Sjc2RNxwl4YW",
        "outputId": "cbe93e4d-c453-4718-94b0-a9ddc21d492d"
      },
      "outputs": [
        {
          "output_type": "stream",
          "name": "stdout",
          "text": [
            "z : tensor([[1., 2., 3.],\n",
            "        [4., 5., 6.]])\n",
            "x.abs() : tensor([[1., 2., 3.],\n",
            "        [4., 5., 6.]])\n"
          ]
        }
      ],
      "source": [
        "#x에 절댓값\n",
        "z = torch.abs(x)\n",
        "print(\"z :\", z)\n",
        "print(\"x.abs() :\", x.abs())"
      ]
    },
    {
      "cell_type": "markdown",
      "metadata": {
        "id": "ke5yw6oGl4YW"
      },
      "source": [
        "## 1.8 Tensor Casting"
      ]
    },
    {
      "cell_type": "code",
      "execution_count": null,
      "metadata": {
        "colab": {
          "base_uri": "https://localhost:8080/"
        },
        "id": "QyP1rSZ9l4YX",
        "outputId": "7b348d39-f77f-4b47-a172-7dbec50db90d"
      },
      "outputs": [
        {
          "output_type": "stream",
          "name": "stdout",
          "text": [
            "x : tensor([[1., 2., 3.],\n",
            "        [4., 5., 6.]])\n",
            "y : tensor([[1., 1., 1.],\n",
            "        [2., 2., 2.]])\n"
          ]
        }
      ],
      "source": [
        "x = torch.Tensor([[1,2,3],[4,5,6]])\n",
        "y = torch.Tensor([[1,1,1],[2,2,2]])\n",
        "print(\"x :\", x)\n",
        "print(\"y :\", y)"
      ]
    },
    {
      "cell_type": "code",
      "execution_count": null,
      "metadata": {
        "colab": {
          "base_uri": "https://localhost:8080/"
        },
        "id": "7W6jQiZRl4YX",
        "outputId": "e9c12d2b-cf6c-45f8-ad5a-e3341a8af6c6"
      },
      "outputs": [
        {
          "output_type": "execute_result",
          "data": {
            "text/plain": [
              "tensor([[1., 2., 3.],\n",
              "        [4., 5., 6.]], dtype=torch.float64)"
            ]
          },
          "metadata": {},
          "execution_count": 62
        }
      ],
      "source": [
        "x.type(torch.DoubleTensor)"
      ]
    },
    {
      "cell_type": "code",
      "execution_count": null,
      "metadata": {
        "colab": {
          "base_uri": "https://localhost:8080/"
        },
        "id": "M_tf4AwBl4YX",
        "outputId": "0bd0a4c9-8da1-4af0-f3f7-b043ebabe6d2"
      },
      "outputs": [
        {
          "output_type": "execute_result",
          "data": {
            "text/plain": [
              "tensor([[1., 2., 3.],\n",
              "        [4., 5., 6.]], dtype=torch.float64)"
            ]
          },
          "metadata": {},
          "execution_count": 63
        }
      ],
      "source": [
        "x.double()"
      ]
    },
    {
      "cell_type": "code",
      "execution_count": null,
      "metadata": {
        "colab": {
          "base_uri": "https://localhost:8080/"
        },
        "id": "G0R2VULUl4YX",
        "outputId": "f094cceb-a022-4dcb-e324-1e9003bed162"
      },
      "outputs": [
        {
          "output_type": "execute_result",
          "data": {
            "text/plain": [
              "tensor([[1, 2, 3],\n",
              "        [4, 5, 6]], dtype=torch.int32)"
            ]
          },
          "metadata": {},
          "execution_count": 64
        }
      ],
      "source": [
        "x.type(torch.IntTensor)"
      ]
    },
    {
      "cell_type": "code",
      "execution_count": null,
      "metadata": {
        "colab": {
          "base_uri": "https://localhost:8080/"
        },
        "id": "MuEeSFc9l4YX",
        "outputId": "24bb245a-983b-4c4e-cb35-e51e817cfe92"
      },
      "outputs": [
        {
          "output_type": "execute_result",
          "data": {
            "text/plain": [
              "tensor([[1, 2, 3],\n",
              "        [4, 5, 6]], dtype=torch.int32)"
            ]
          },
          "metadata": {},
          "execution_count": 65
        }
      ],
      "source": [
        "x.int()"
      ]
    },
    {
      "cell_type": "markdown",
      "metadata": {
        "id": "CNOZKrYBl4YX"
      },
      "source": [
        "## 1.9 Tensor Statistic"
      ]
    },
    {
      "cell_type": "code",
      "execution_count": null,
      "metadata": {
        "colab": {
          "base_uri": "https://localhost:8080/"
        },
        "id": "Z6z__qEYl4YX",
        "outputId": "6f1a9c99-0fb3-4099-bd36-b9156a0983da"
      },
      "outputs": [
        {
          "output_type": "stream",
          "name": "stdout",
          "text": [
            "tensor([[-1.,  2., -3.],\n",
            "        [ 4., -5.,  6.]])\n"
          ]
        }
      ],
      "source": [
        "x = torch.Tensor([[-1,2,-3],[4,-5,6]])\n",
        "print(x)"
      ]
    },
    {
      "cell_type": "code",
      "execution_count": null,
      "metadata": {
        "colab": {
          "base_uri": "https://localhost:8080/"
        },
        "id": "4oZDLoIkl4YX",
        "outputId": "09e7851f-b28f-4763-ac32-56d4c02157ce"
      },
      "outputs": [
        {
          "output_type": "stream",
          "name": "stdout",
          "text": [
            "x의 합 : tensor(3.)\n",
            "x의 최대값 : tensor(6.)\n",
            "x의 최소값 : tensor(-5.)\n",
            "x의 분산 : tensor(17.9000)\n"
          ]
        }
      ],
      "source": [
        "print(\"x의 합 :\", x.sum())\n",
        "print(\"x의 최대값 :\", x.max())\n",
        "print(\"x의 최소값 :\", x.min())\n",
        "print(\"x의 분산 :\", x.var())"
      ]
    },
    {
      "cell_type": "code",
      "execution_count": null,
      "metadata": {
        "colab": {
          "base_uri": "https://localhost:8080/"
        },
        "id": "CyZhQPAJl4YY",
        "outputId": "74248344-5efd-4ab5-925d-5efba1298048"
      },
      "outputs": [
        {
          "output_type": "execute_result",
          "data": {
            "text/plain": [
              "torch.Size([])"
            ]
          },
          "metadata": {},
          "execution_count": 68
        }
      ],
      "source": [
        "# Scalar Tensor\n",
        "x.sum().size()"
      ]
    },
    {
      "cell_type": "code",
      "execution_count": null,
      "metadata": {
        "colab": {
          "base_uri": "https://localhost:8080/"
        },
        "id": "0eVuPajAl4YY",
        "outputId": "3bc444b1-e19c-403c-96c2-a87cb224eac0"
      },
      "outputs": [
        {
          "output_type": "stream",
          "name": "stdout",
          "text": [
            "x의 합 : 3.0\n",
            "x의 최대값 : 6.0\n",
            "x의 최소값 : -5.0\n",
            "x의 분산 : 17.899999618530273\n"
          ]
        }
      ],
      "source": [
        "# item의 활용\n",
        "print(\"x의 합 :\", x.sum().item())\n",
        "print(\"x의 최대값 :\", x.max().item())\n",
        "print(\"x의 최소값 :\", x.min().item())\n",
        "print(\"x의 분산 :\", x.var().item())"
      ]
    },
    {
      "cell_type": "code",
      "execution_count": null,
      "metadata": {
        "colab": {
          "base_uri": "https://localhost:8080/"
        },
        "id": "Fg_zl01wl4YY",
        "outputId": "df669adf-0d95-4643-c7f0-857b47a81ee7"
      },
      "outputs": [
        {
          "output_type": "execute_result",
          "data": {
            "text/plain": [
              "(tensor([4., 2., 6.]), tensor([1, 0, 1]))"
            ]
          },
          "metadata": {},
          "execution_count": 70
        }
      ],
      "source": [
        "#행(dim=0)을 기준으로 열의 최댓값을 출력\n",
        "value, index = x.max(dim=0)\n",
        "value, index"
      ]
    },
    {
      "cell_type": "code",
      "execution_count": null,
      "metadata": {
        "colab": {
          "base_uri": "https://localhost:8080/"
        },
        "id": "U8Vxifkll4YY",
        "outputId": "a01f4d54-e362-4637-e5a3-a4d976829787"
      },
      "outputs": [
        {
          "output_type": "execute_result",
          "data": {
            "text/plain": [
              "(tensor([2., 6.]), tensor([1, 2]))"
            ]
          },
          "metadata": {},
          "execution_count": 71
        }
      ],
      "source": [
        "#열(dim=1)을 기준으로 행의 최댓값을 출력\n",
        "value, index = x.max(dim=1)\n",
        "value, index\n",
        "\n",
        "# torch.max(x, dim=1)과 같은 결과\n",
        "# 이는 추후에 계속 등장하므로 매우 중요!"
      ]
    },
    {
      "cell_type": "code",
      "execution_count": null,
      "metadata": {
        "colab": {
          "base_uri": "https://localhost:8080/"
        },
        "id": "BiEgh-4Tl4YY",
        "outputId": "30655e74-60a6-4199-b92b-b938207cee9b"
      },
      "outputs": [
        {
          "output_type": "execute_result",
          "data": {
            "text/plain": [
              "tensor([[-3., -1.,  2.],\n",
              "        [-5.,  4.,  6.]])"
            ]
          },
          "metadata": {},
          "execution_count": 72
        }
      ],
      "source": [
        "#열(dim=1)을 기준으로 각 행을 정렬\n",
        "value, index = x.sort(dim=1)\n",
        "value"
      ]
    },
    {
      "cell_type": "markdown",
      "metadata": {
        "id": "AKufRczcl4YZ"
      },
      "source": [
        "## 1.11 Tensor for GPU"
      ]
    },
    {
      "cell_type": "code",
      "execution_count": 18,
      "metadata": {
        "scrolled": true,
        "colab": {
          "base_uri": "https://localhost:8080/"
        },
        "id": "xFf7vog5l4YZ",
        "outputId": "58fd4f26-bf17-4659-f982-fe10dd344cbf"
      },
      "outputs": [
        {
          "output_type": "stream",
          "name": "stdout",
          "text": [
            "tensor([[1., 2., 3.],\n",
            "        [1., 2., 3.]])\n"
          ]
        }
      ],
      "source": [
        "x = torch.Tensor([[1,2,3],[1,2,3]])\n",
        "print(x)"
      ]
    },
    {
      "cell_type": "code",
      "execution_count": 19,
      "metadata": {
        "colab": {
          "base_uri": "https://localhost:8080/"
        },
        "id": "4zK2bqBVl4YZ",
        "outputId": "d48d33bb-d6d0-4d75-d0e2-1cab62aa6668"
      },
      "outputs": [
        {
          "output_type": "stream",
          "name": "stdout",
          "text": [
            "현재 Cuda 사용 가능한 Device 개수 : 1\n",
            "현재 Cuda 사용 가능 여부 : True\n",
            "현재 사용 중인 Cuda Device : 0\n",
            "현재 Cuda Device 이름 : Tesla T4\n",
            "현재 Cuda Device의 사용 가능한 메모리 : 0 bytes\n",
            "현재 Cuda Device의 사용 중인 메모리 : 0 bytes\n"
          ]
        }
      ],
      "source": [
        "# cuda 확인\n",
        "print(\"현재 Cuda 사용 가능한 Device 개수 :\", torch.cuda.device_count())\n",
        "print(\"현재 Cuda 사용 가능 여부 :\", torch.cuda.is_available())\n",
        "print(\"현재 사용 중인 Cuda Device :\", torch.cuda.current_device())\n",
        "print(\"현재 Cuda Device 이름 :\", torch.cuda.get_device_name(0))\n",
        "print(\"현재 Cuda Device의 사용 가능한 메모리 :\", torch.cuda.max_memory_allocated(device=0), \"bytes\")\n",
        "print(\"현재 Cuda Device의 사용 중인 메모리 :\", torch.cuda.memory_allocated(device=0), \"bytes\")"
      ]
    },
    {
      "cell_type": "code",
      "execution_count": 20,
      "metadata": {
        "id": "kFfxPdUAl4YZ"
      },
      "outputs": [],
      "source": [
        "# cuda 세팅\n",
        "torch.cuda.set_device(0)"
      ]
    },
    {
      "cell_type": "code",
      "execution_count": 21,
      "metadata": {
        "colab": {
          "base_uri": "https://localhost:8080/"
        },
        "id": "UD-YO48Vl4YZ",
        "outputId": "3a41758e-855c-43ab-b8c0-6a7cba6c2443"
      },
      "outputs": [
        {
          "output_type": "stream",
          "name": "stdout",
          "text": [
            "tensor([[1., 2., 3.],\n",
            "        [1., 2., 3.]], device='cuda:0')\n",
            "Tensor Type :  torch.cuda.FloatTensor\n",
            "Tensor Size :  torch.Size([2, 3])\n"
          ]
        }
      ],
      "source": [
        "#cpu를 gpu로 전환\n",
        "gpu_x = x.cuda()\n",
        "print(gpu_x)\n",
        "print(\"Tensor Type : \", gpu_x.type())\n",
        "print(\"Tensor Size : \", gpu_x.size())"
      ]
    },
    {
      "cell_type": "code",
      "execution_count": 22,
      "metadata": {
        "colab": {
          "base_uri": "https://localhost:8080/"
        },
        "id": "oIU3MRnhl4Ya",
        "outputId": "eae86e0e-7e7a-4258-d520-b9563dec2895"
      },
      "outputs": [
        {
          "output_type": "stream",
          "name": "stdout",
          "text": [
            "tensor([[1., 2., 3.],\n",
            "        [1., 2., 3.]], device='cuda:0')\n",
            "Tensor Type :  torch.cuda.FloatTensor\n",
            "Tensor Size :  torch.Size([2, 3])\n"
          ]
        }
      ],
      "source": [
        "#cpu를 gpu로 전환 2\n",
        "device = torch.device(\"cuda\")\n",
        "gpu_x = x.to(device)\n",
        "print(gpu_x)\n",
        "print(\"Tensor Type : \", gpu_x.type())\n",
        "print(\"Tensor Size : \", gpu_x.size())"
      ]
    },
    {
      "cell_type": "code",
      "execution_count": null,
      "metadata": {
        "colab": {
          "base_uri": "https://localhost:8080/"
        },
        "id": "g-Hqhp2bl4Ya",
        "outputId": "160eec4a-641e-4bc7-a224-8152f300af01"
      },
      "outputs": [
        {
          "output_type": "stream",
          "name": "stdout",
          "text": [
            "tensor([[1., 2., 3.],\n",
            "        [1., 2., 3.]])\n",
            "Tensor Type :  torch.FloatTensor\n",
            "Tensor Size :  torch.Size([2, 3])\n"
          ]
        }
      ],
      "source": [
        "#gpu를 cpu로 전환\n",
        "x = gpu_x.cpu()\n",
        "print(x)\n",
        "print(\"Tensor Type : \", x.type())\n",
        "print(\"Tensor Size : \", x.size())"
      ]
    },
    {
      "cell_type": "code",
      "execution_count": null,
      "metadata": {
        "colab": {
          "base_uri": "https://localhost:8080/"
        },
        "id": "drykkRPpl4Ya",
        "outputId": "a1bf39b0-2dcd-4573-adfc-c4b575f9cdc0"
      },
      "outputs": [
        {
          "output_type": "stream",
          "name": "stdout",
          "text": [
            "tensor([[1., 2., 3.],\n",
            "        [1., 2., 3.]])\n",
            "Tensor Type :  torch.FloatTensor\n",
            "Tensor Size :  torch.Size([2, 3])\n"
          ]
        }
      ],
      "source": [
        "#gpu를 cpu로 전환 2\n",
        "device = torch.device(\"cpu\")\n",
        "x = gpu_x.to(device)\n",
        "print(x)\n",
        "print(\"Tensor Type : \", x.type())\n",
        "print(\"Tensor Size : \", x.size())"
      ]
    },
    {
      "cell_type": "code",
      "execution_count": null,
      "metadata": {
        "colab": {
          "base_uri": "https://localhost:8080/",
          "height": 199
        },
        "id": "WD4jhvKGl4Ya",
        "outputId": "4fc75c00-8e3e-4396-d89a-400e7268ca4a"
      },
      "outputs": [
        {
          "output_type": "error",
          "ename": "RuntimeError",
          "evalue": "ignored",
          "traceback": [
            "\u001b[0;31m---------------------------------------------------------------------------\u001b[0m",
            "\u001b[0;31mRuntimeError\u001b[0m                              Traceback (most recent call last)",
            "\u001b[0;32m<ipython-input-84-8f59ed9ccba0>\u001b[0m in \u001b[0;36m<module>\u001b[0;34m()\u001b[0m\n\u001b[1;32m      1\u001b[0m \u001b[0;31m# gpu tensor와 cpu tensor의 연산\u001b[0m\u001b[0;34m\u001b[0m\u001b[0;34m\u001b[0m\u001b[0;34m\u001b[0m\u001b[0m\n\u001b[0;32m----> 2\u001b[0;31m \u001b[0mgpu_x\u001b[0m \u001b[0;34m+\u001b[0m \u001b[0mx\u001b[0m\u001b[0;34m\u001b[0m\u001b[0;34m\u001b[0m\u001b[0m\n\u001b[0m",
            "\u001b[0;31mRuntimeError\u001b[0m: Expected all tensors to be on the same device, but found at least two devices, cuda:0 and cpu!"
          ]
        }
      ],
      "source": [
        "# gpu tensor와 cpu tensor의 연산\n",
        "gpu_x + x"
      ]
    },
    {
      "cell_type": "markdown",
      "metadata": {
        "id": "KMrCz4twl4Ya"
      },
      "source": [
        "## 1.12 Tensor Calculation as Matrix (참고)"
      ]
    },
    {
      "cell_type": "code",
      "execution_count": null,
      "metadata": {
        "colab": {
          "base_uri": "https://localhost:8080/"
        },
        "id": "t-ZhJsSll4Ya",
        "outputId": "0ac31f0b-0a32-4f9e-c7c8-a3f532b9d81c"
      },
      "outputs": [
        {
          "output_type": "stream",
          "name": "stdout",
          "text": [
            "x : tensor([[1., 1.],\n",
            "        [2., 2.]])\n",
            "y : tensor([[1., 2.],\n",
            "        [3., 4.]])\n"
          ]
        }
      ],
      "source": [
        "x = torch.Tensor([[1,1],[2,2]])\n",
        "y = torch.Tensor([[1,2],[3,4]])\n",
        "print(\"x :\", x)\n",
        "print(\"y :\", y)"
      ]
    },
    {
      "cell_type": "code",
      "execution_count": null,
      "metadata": {
        "colab": {
          "base_uri": "https://localhost:8080/"
        },
        "id": "V5EI03OKl4Yb",
        "outputId": "a2d1ba04-8cfb-492c-9a52-463078a71b67"
      },
      "outputs": [
        {
          "output_type": "execute_result",
          "data": {
            "text/plain": [
              "tensor([[ 4.,  6.],\n",
              "        [ 8., 12.]])"
            ]
          },
          "metadata": {},
          "execution_count": 86
        }
      ],
      "source": [
        "#x와 y의 행렬곱\n",
        "torch.mm(x, y)"
      ]
    },
    {
      "cell_type": "code",
      "execution_count": null,
      "metadata": {
        "colab": {
          "base_uri": "https://localhost:8080/"
        },
        "id": "RMDNaXGDl4Yb",
        "outputId": "afddcd8c-fb19-4b90-c682-f897433c32f4"
      },
      "outputs": [
        {
          "output_type": "execute_result",
          "data": {
            "text/plain": [
              "tensor([3., 6.])"
            ]
          },
          "metadata": {},
          "execution_count": 87
        }
      ],
      "source": [
        "#x와 z의 행렬벡터곱\n",
        "z = torch.Tensor([1, 2])\n",
        "torch.mv(x, z)"
      ]
    },
    {
      "cell_type": "code",
      "execution_count": null,
      "metadata": {
        "colab": {
          "base_uri": "https://localhost:8080/"
        },
        "id": "bXAs9yYVl4Yb",
        "outputId": "795675e0-4548-452a-cd37-3435d9dc13e5"
      },
      "outputs": [
        {
          "output_type": "execute_result",
          "data": {
            "text/plain": [
              "tensor(5.)"
            ]
          },
          "metadata": {},
          "execution_count": 88
        }
      ],
      "source": [
        "#z와 z의 내적\n",
        "torch.dot(z, z)"
      ]
    },
    {
      "cell_type": "code",
      "execution_count": null,
      "metadata": {
        "colab": {
          "base_uri": "https://localhost:8080/"
        },
        "id": "drExrbl4l4Yb",
        "outputId": "b4e9a0c0-3a40-4af3-92b9-8f82b72991e5"
      },
      "outputs": [
        {
          "output_type": "execute_result",
          "data": {
            "text/plain": [
              "tensor([[1., 2.],\n",
              "        [1., 2.]])"
            ]
          },
          "metadata": {},
          "execution_count": 89
        }
      ],
      "source": [
        "#x의 전치(transpose)\n",
        "x.t()"
      ]
    },
    {
      "cell_type": "code",
      "execution_count": null,
      "metadata": {
        "colab": {
          "base_uri": "https://localhost:8080/"
        },
        "id": "pHH7k1tTl4Yb",
        "outputId": "aceedc17-9703-45ce-eaa2-bcfda459e588"
      },
      "outputs": [
        {
          "output_type": "execute_result",
          "data": {
            "text/plain": [
              "tensor([[-2.0000,  1.0000],\n",
              "        [ 1.5000, -0.5000]])"
            ]
          },
          "metadata": {},
          "execution_count": 90
        }
      ],
      "source": [
        "# y의 역행렬(inverse)\n",
        "y.inverse()"
      ]
    },
    {
      "cell_type": "code",
      "execution_count": null,
      "metadata": {
        "colab": {
          "base_uri": "https://localhost:8080/"
        },
        "id": "zcwMXNsxl4Yb",
        "outputId": "df36828c-f742-41b1-8fec-5fe91267bd81"
      },
      "outputs": [
        {
          "output_type": "execute_result",
          "data": {
            "text/plain": [
              "torch.Size([3, 3, 3])"
            ]
          },
          "metadata": {},
          "execution_count": 91
        }
      ],
      "source": [
        "# 텐서의 배치 행렬곱\n",
        "x1 = torch.FloatTensor(3,3,2)\n",
        "x2 = torch.FloatTensor(3,2,3)\n",
        "\n",
        "torch.bmm(x1,x2).size()"
      ]
    },
    {
      "cell_type": "code",
      "execution_count": null,
      "metadata": {
        "colab": {
          "base_uri": "https://localhost:8080/"
        },
        "id": "VS8NG295l4Yb",
        "outputId": "03032efb-a844-4d18-9df4-465a29c4673d"
      },
      "outputs": [
        {
          "output_type": "execute_result",
          "data": {
            "text/plain": [
              "tensor([[[4.1584e+35, 3.0740e-41],\n",
              "         [7.0065e-44, 7.0065e-44],\n",
              "         [6.3058e-44, 6.7262e-44]],\n",
              "\n",
              "        [[7.2868e-44, 6.3058e-44],\n",
              "         [6.7262e-44, 7.5670e-44],\n",
              "         [1.1771e-43, 6.7262e-44]],\n",
              "\n",
              "        [[7.5670e-44, 8.1275e-44],\n",
              "         [7.1466e-44, 7.9874e-44],\n",
              "         [8.1275e-44, 7.4269e-44]]])"
            ]
          },
          "metadata": {},
          "execution_count": 92
        }
      ],
      "source": [
        "x1"
      ]
    },
    {
      "cell_type": "code",
      "execution_count": null,
      "metadata": {
        "colab": {
          "base_uri": "https://localhost:8080/"
        },
        "id": "ujjGyuMWl4Yb",
        "outputId": "b5318bc9-8778-4950-93ae-20681719caf8"
      },
      "outputs": [
        {
          "output_type": "execute_result",
          "data": {
            "text/plain": [
              "tensor([[[4.1584e+35, 7.2868e-44, 7.5670e-44],\n",
              "         [7.0065e-44, 6.7262e-44, 7.1466e-44],\n",
              "         [6.3058e-44, 1.1771e-43, 8.1275e-44]],\n",
              "\n",
              "        [[3.0740e-41, 6.3058e-44, 8.1275e-44],\n",
              "         [7.0065e-44, 7.5670e-44, 7.9874e-44],\n",
              "         [6.7262e-44, 6.7262e-44, 7.4269e-44]]])"
            ]
          },
          "metadata": {},
          "execution_count": 93
        }
      ],
      "source": [
        "# 텐서의 전치\n",
        "x1.transpose(0,2)"
      ]
    },
    {
      "cell_type": "code",
      "execution_count": null,
      "metadata": {
        "colab": {
          "base_uri": "https://localhost:8080/"
        },
        "id": "u4kg8G4Dl4Yc",
        "outputId": "d61c3ea0-4510-4841-bd02-e6e0f1ce1d77"
      },
      "outputs": [
        {
          "output_type": "stream",
          "name": "stdout",
          "text": [
            "eigenvalue : tensor([[1.1921e-07, 0.0000e+00],\n",
            "        [3.0000e+00, 0.0000e+00]])\n",
            "eigenvector : tensor([[-0.7071, -0.4472],\n",
            "        [ 0.7071, -0.8944]])\n"
          ]
        },
        {
          "output_type": "stream",
          "name": "stderr",
          "text": [
            "/usr/local/lib/python3.7/dist-packages/ipykernel_launcher.py:1: UserWarning: torch.eig is deprecated in favor of torch.linalg.eig and will be removed in a future PyTorch release.\n",
            "torch.linalg.eig returns complex tensors of dtype cfloat or cdouble rather than real tensors mimicking complex tensors.\n",
            "L, _ = torch.eig(A)\n",
            "should be replaced with\n",
            "L_complex = torch.linalg.eigvals(A)\n",
            "and\n",
            "L, V = torch.eig(A, eigenvectors=True)\n",
            "should be replaced with\n",
            "L_complex, V_complex = torch.linalg.eig(A) (Triggered internally at  ../aten/src/ATen/native/BatchLinearAlgebra.cpp:2894.)\n",
            "  \"\"\"Entry point for launching an IPython kernel.\n"
          ]
        }
      ],
      "source": [
        "eigenvalue, eigenvector = torch.eig(x,eigenvectors=True)\n",
        "print(\"eigenvalue :\", eigenvalue)\n",
        "print(\"eigenvector :\", eigenvector)"
      ]
    },
    {
      "cell_type": "code",
      "execution_count": null,
      "metadata": {
        "colab": {
          "base_uri": "https://localhost:8080/"
        },
        "id": "1BRrjyzIl4Yc",
        "outputId": "0f6f8022-4afd-4ecc-a349-3cbf6001a0a0"
      },
      "outputs": [
        {
          "output_type": "stream",
          "name": "stdout",
          "text": [
            "Q : tensor([[-0.4472, -0.8944],\n",
            "        [-0.8944,  0.4472]])\n",
            "R : tensor([[-2.2361e+00, -2.2361e+00],\n",
            "        [ 0.0000e+00,  1.1921e-07]])\n"
          ]
        },
        {
          "output_type": "stream",
          "name": "stderr",
          "text": [
            "/usr/local/lib/python3.7/dist-packages/ipykernel_launcher.py:2: UserWarning: torch.qr is deprecated in favor of torch.linalg.qr and will be removed in a future PyTorch release.\n",
            "The boolean parameter 'some' has been replaced with a string parameter 'mode'.\n",
            "Q, R = torch.qr(A, some)\n",
            "should be replaced with\n",
            "Q, R = torch.linalg.qr(A, 'reduced' if some else 'complete') (Triggered internally at  ../aten/src/ATen/native/BatchLinearAlgebra.cpp:1937.)\n",
            "  \n"
          ]
        }
      ],
      "source": [
        "#행렬의 QR factorization\n",
        "Q,R = torch.qr(x)\n",
        "print(\"Q :\", Q)\n",
        "print(\"R :\", R)"
      ]
    },
    {
      "cell_type": "code",
      "execution_count": null,
      "metadata": {
        "colab": {
          "base_uri": "https://localhost:8080/"
        },
        "id": "WAzT8DSal4Yc",
        "outputId": "12da493b-f61b-4429-fd38-6c029345b800"
      },
      "outputs": [
        {
          "output_type": "stream",
          "name": "stdout",
          "text": [
            "S : tensor([[-0.4472, -0.8944],\n",
            "        [-0.8944,  0.4472]])\n",
            "V : tensor([3.1623e+00, 5.2283e-08])\n",
            "D : tensor([[-0.7071, -0.7071],\n",
            "        [-0.7071,  0.7071]])\n"
          ]
        }
      ],
      "source": [
        "#행렬의 SVD factorization\n",
        "S,V,D = torch.svd(x)\n",
        "print(\"S :\", S)\n",
        "print(\"V :\", V)\n",
        "print(\"D :\", D)"
      ]
    },
    {
      "cell_type": "code",
      "source": [],
      "metadata": {
        "id": "pAT3jnmlK8lH"
      },
      "execution_count": null,
      "outputs": []
    },
    {
      "cell_type": "markdown",
      "metadata": {
        "id": "hMP_5orAmgfe"
      },
      "source": [
        "# 2. Autograd"
      ]
    },
    {
      "cell_type": "code",
      "execution_count": null,
      "metadata": {
        "id": "1q5Y8_1Mmgff"
      },
      "outputs": [],
      "source": [
        "import torch"
      ]
    },
    {
      "cell_type": "markdown",
      "metadata": {
        "id": "4CryPrztmgfg"
      },
      "source": [
        "## 2.1 Autograd "
      ]
    },
    {
      "cell_type": "code",
      "execution_count": null,
      "metadata": {
        "colab": {
          "base_uri": "https://localhost:8080/"
        },
        "id": "IWg4ZIVZmgfg",
        "outputId": "8358c9ef-adf9-49a6-f764-28c868019e5c"
      },
      "outputs": [
        {
          "output_type": "execute_result",
          "data": {
            "text/plain": [
              "False"
            ]
          },
          "metadata": {},
          "execution_count": 11
        }
      ],
      "source": [
        "x = torch.ones(1)\n",
        "x.requires_grad"
      ]
    },
    {
      "cell_type": "code",
      "execution_count": null,
      "metadata": {
        "colab": {
          "base_uri": "https://localhost:8080/"
        },
        "id": "dUOT78Temgfi",
        "outputId": "1bc3d0ee-08eb-4b39-e463-e7f386f6fc79"
      },
      "outputs": [
        {
          "output_type": "execute_result",
          "data": {
            "text/plain": [
              "False"
            ]
          },
          "metadata": {},
          "execution_count": 3
        }
      ],
      "source": [
        "y = torch.ones(1)\n",
        "y.requires_grad"
      ]
    },
    {
      "cell_type": "code",
      "execution_count": null,
      "metadata": {
        "id": "oYjfJTqJmgfi"
      },
      "outputs": [],
      "source": [
        "z = x + y"
      ]
    },
    {
      "cell_type": "code",
      "execution_count": null,
      "metadata": {
        "colab": {
          "base_uri": "https://localhost:8080/"
        },
        "id": "LzvkLXoJmgfj",
        "outputId": "887de17a-4fe4-4aa9-9a7c-7458cf80a4a2"
      },
      "outputs": [
        {
          "output_type": "execute_result",
          "data": {
            "text/plain": [
              "True"
            ]
          },
          "metadata": {},
          "execution_count": 10
        }
      ],
      "source": [
        "z.requires_grad"
      ]
    },
    {
      "cell_type": "code",
      "execution_count": null,
      "metadata": {
        "colab": {
          "base_uri": "https://localhost:8080/"
        },
        "id": "tknvCY6Umgfj",
        "outputId": "7050ee02-e334-42e6-fa53-b0dc4b2cbd89"
      },
      "outputs": [
        {
          "output_type": "execute_result",
          "data": {
            "text/plain": [
              "True"
            ]
          },
          "metadata": {},
          "execution_count": 14
        }
      ],
      "source": [
        "x.requires_grad=True\n",
        "# x.requires_grad_()\n",
        "x.requires_grad"
      ]
    },
    {
      "cell_type": "code",
      "execution_count": null,
      "metadata": {
        "id": "_LuCUpcLmgfj"
      },
      "outputs": [],
      "source": [
        "z = x + y"
      ]
    },
    {
      "cell_type": "code",
      "execution_count": null,
      "metadata": {
        "colab": {
          "base_uri": "https://localhost:8080/"
        },
        "id": "BdkuQDuamgfk",
        "outputId": "094a57fb-ef82-409e-b376-70da4a66dbe0"
      },
      "outputs": [
        {
          "output_type": "execute_result",
          "data": {
            "text/plain": [
              "True"
            ]
          },
          "metadata": {},
          "execution_count": 20
        }
      ],
      "source": [
        "z.requires_grad"
      ]
    },
    {
      "cell_type": "markdown",
      "metadata": {
        "id": "pS5Zbedemgfk"
      },
      "source": [
        "## 2.2 Backward"
      ]
    },
    {
      "cell_type": "code",
      "execution_count": 25,
      "metadata": {
        "colab": {
          "base_uri": "https://localhost:8080/"
        },
        "id": "JSWMVzVtmgfk",
        "outputId": "4b63fa84-b8dd-450f-fb6e-001d7c56210b"
      },
      "outputs": [
        {
          "output_type": "execute_result",
          "data": {
            "text/plain": [
              "tensor([[1., 2.],\n",
              "        [3., 4.]], requires_grad=True)"
            ]
          },
          "metadata": {},
          "execution_count": 25
        }
      ],
      "source": [
        "y = torch.tensor([[1, 2], [3, 4]], dtype=torch.float32, requires_grad=True)\n",
        "y"
      ]
    },
    {
      "cell_type": "code",
      "execution_count": 27,
      "metadata": {
        "colab": {
          "base_uri": "https://localhost:8080/"
        },
        "id": "zMReYokImgfm",
        "outputId": "f58c947d-530d-4642-e8a8-5f97d277a29d"
      },
      "outputs": [
        {
          "output_type": "execute_result",
          "data": {
            "text/plain": [
              "tensor([[3., 5.],\n",
              "        [7., 9.]], grad_fn=<AddBackward0>)"
            ]
          },
          "metadata": {},
          "execution_count": 27
        }
      ],
      "source": [
        "z = 2*y + 1\n",
        "z"
      ]
    },
    {
      "cell_type": "code",
      "execution_count": 28,
      "metadata": {
        "colab": {
          "base_uri": "https://localhost:8080/"
        },
        "id": "j3snCQfEmgfm",
        "outputId": "e6d3ea91-5bc6-46a9-c201-6291df098f7b"
      },
      "outputs": [
        {
          "output_type": "stream",
          "name": "stdout",
          "text": [
            "y.requires_grad : True\n",
            "z.requires_grad : True\n",
            "\n",
            "y.grad : None\n",
            "z.grad : None\n",
            "\n",
            "y.grad_fn : None\n",
            "z.grad_fn : <AddBackward0 object at 0x7f32b8294b50>\n"
          ]
        },
        {
          "output_type": "stream",
          "name": "stderr",
          "text": [
            "<ipython-input-28-e8263d7c80e3>:7: UserWarning: The .grad attribute of a Tensor that is not a leaf Tensor is being accessed. Its .grad attribute won't be populated during autograd.backward(). If you indeed want the .grad field to be populated for a non-leaf Tensor, use .retain_grad() on the non-leaf Tensor. If you access the non-leaf Tensor by mistake, make sure you access the leaf Tensor instead. See github.com/pytorch/pytorch/pull/30531 for more informations. (Triggered internally at aten/src/ATen/core/TensorBody.h:480.)\n",
            "  print(\"z.grad :\", z.grad)\n"
          ]
        }
      ],
      "source": [
        "print(\"y.requires_grad :\", y.requires_grad)\n",
        "print(\"z.requires_grad :\", z.requires_grad)\n",
        "\n",
        "print(\"\")\n",
        "\n",
        "print(\"y.grad :\", y.grad)\n",
        "print(\"z.grad :\", z.grad)\n",
        "\n",
        "print(\"\")\n",
        "\n",
        "print(\"y.grad_fn :\", y.grad_fn)\n",
        "print(\"z.grad_fn :\", z.grad_fn)"
      ]
    },
    {
      "cell_type": "code",
      "execution_count": 29,
      "metadata": {
        "colab": {
          "base_uri": "https://localhost:8080/"
        },
        "id": "38wE-Vh6mgfn",
        "outputId": "c1503a5c-50f0-4851-ff4d-f407f8974a18"
      },
      "outputs": [
        {
          "output_type": "stream",
          "name": "stdout",
          "text": [
            "z.grad_fn : <AddBackward0 object at 0x7f32ddaeb9a0>\n",
            "Where is z.grad_fn? 139856444307872\n",
            "Where is z.grad_fn in hex? 0x7f32ddaeb9a0\n"
          ]
        }
      ],
      "source": [
        "gz = z.grad_fn\n",
        "print(\"z.grad_fn :\", gz)\n",
        "print(\"Where is z.grad_fn?\", id(gz))\n",
        "print(\"Where is z.grad_fn in hex?\", hex(id(gz)))"
      ]
    },
    {
      "cell_type": "code",
      "execution_count": 30,
      "metadata": {
        "colab": {
          "base_uri": "https://localhost:8080/",
          "height": 346
        },
        "id": "dSBPD8JImgfo",
        "outputId": "301b0cd3-3c6a-494a-98c9-9e13d8eb0b76"
      },
      "outputs": [
        {
          "output_type": "error",
          "ename": "RuntimeError",
          "evalue": "ignored",
          "traceback": [
            "\u001b[0;31m---------------------------------------------------------------------------\u001b[0m",
            "\u001b[0;31mRuntimeError\u001b[0m                              Traceback (most recent call last)",
            "\u001b[0;32m<ipython-input-30-d939de53b844>\u001b[0m in \u001b[0;36m<module>\u001b[0;34m\u001b[0m\n\u001b[1;32m      1\u001b[0m \u001b[0;31m# grad can be implicitly created only for scalar outputs\u001b[0m\u001b[0;34m\u001b[0m\u001b[0;34m\u001b[0m\u001b[0m\n\u001b[0;32m----> 2\u001b[0;31m \u001b[0mz\u001b[0m\u001b[0;34m.\u001b[0m\u001b[0mbackward\u001b[0m\u001b[0;34m(\u001b[0m\u001b[0;34m)\u001b[0m\u001b[0;34m\u001b[0m\u001b[0;34m\u001b[0m\u001b[0m\n\u001b[0m",
            "\u001b[0;32m/usr/local/lib/python3.9/dist-packages/torch/_tensor.py\u001b[0m in \u001b[0;36mbackward\u001b[0;34m(self, gradient, retain_graph, create_graph, inputs)\u001b[0m\n\u001b[1;32m    486\u001b[0m                 \u001b[0minputs\u001b[0m\u001b[0;34m=\u001b[0m\u001b[0minputs\u001b[0m\u001b[0;34m,\u001b[0m\u001b[0;34m\u001b[0m\u001b[0;34m\u001b[0m\u001b[0m\n\u001b[1;32m    487\u001b[0m             )\n\u001b[0;32m--> 488\u001b[0;31m         torch.autograd.backward(\n\u001b[0m\u001b[1;32m    489\u001b[0m             \u001b[0mself\u001b[0m\u001b[0;34m,\u001b[0m \u001b[0mgradient\u001b[0m\u001b[0;34m,\u001b[0m \u001b[0mretain_graph\u001b[0m\u001b[0;34m,\u001b[0m \u001b[0mcreate_graph\u001b[0m\u001b[0;34m,\u001b[0m \u001b[0minputs\u001b[0m\u001b[0;34m=\u001b[0m\u001b[0minputs\u001b[0m\u001b[0;34m\u001b[0m\u001b[0;34m\u001b[0m\u001b[0m\n\u001b[1;32m    490\u001b[0m         )\n",
            "\u001b[0;32m/usr/local/lib/python3.9/dist-packages/torch/autograd/__init__.py\u001b[0m in \u001b[0;36mbackward\u001b[0;34m(tensors, grad_tensors, retain_graph, create_graph, grad_variables, inputs)\u001b[0m\n\u001b[1;32m    188\u001b[0m \u001b[0;34m\u001b[0m\u001b[0m\n\u001b[1;32m    189\u001b[0m     \u001b[0mgrad_tensors_\u001b[0m \u001b[0;34m=\u001b[0m \u001b[0m_tensor_or_tensors_to_tuple\u001b[0m\u001b[0;34m(\u001b[0m\u001b[0mgrad_tensors\u001b[0m\u001b[0;34m,\u001b[0m \u001b[0mlen\u001b[0m\u001b[0;34m(\u001b[0m\u001b[0mtensors\u001b[0m\u001b[0;34m)\u001b[0m\u001b[0;34m)\u001b[0m\u001b[0;34m\u001b[0m\u001b[0;34m\u001b[0m\u001b[0m\n\u001b[0;32m--> 190\u001b[0;31m     \u001b[0mgrad_tensors_\u001b[0m \u001b[0;34m=\u001b[0m \u001b[0m_make_grads\u001b[0m\u001b[0;34m(\u001b[0m\u001b[0mtensors\u001b[0m\u001b[0;34m,\u001b[0m \u001b[0mgrad_tensors_\u001b[0m\u001b[0;34m,\u001b[0m \u001b[0mis_grads_batched\u001b[0m\u001b[0;34m=\u001b[0m\u001b[0;32mFalse\u001b[0m\u001b[0;34m)\u001b[0m\u001b[0;34m\u001b[0m\u001b[0;34m\u001b[0m\u001b[0m\n\u001b[0m\u001b[1;32m    191\u001b[0m     \u001b[0;32mif\u001b[0m \u001b[0mretain_graph\u001b[0m \u001b[0;32mis\u001b[0m \u001b[0;32mNone\u001b[0m\u001b[0;34m:\u001b[0m\u001b[0;34m\u001b[0m\u001b[0;34m\u001b[0m\u001b[0m\n\u001b[1;32m    192\u001b[0m         \u001b[0mretain_graph\u001b[0m \u001b[0;34m=\u001b[0m \u001b[0mcreate_graph\u001b[0m\u001b[0;34m\u001b[0m\u001b[0;34m\u001b[0m\u001b[0m\n",
            "\u001b[0;32m/usr/local/lib/python3.9/dist-packages/torch/autograd/__init__.py\u001b[0m in \u001b[0;36m_make_grads\u001b[0;34m(outputs, grads, is_grads_batched)\u001b[0m\n\u001b[1;32m     83\u001b[0m             \u001b[0;32mif\u001b[0m \u001b[0mout\u001b[0m\u001b[0;34m.\u001b[0m\u001b[0mrequires_grad\u001b[0m\u001b[0;34m:\u001b[0m\u001b[0;34m\u001b[0m\u001b[0;34m\u001b[0m\u001b[0m\n\u001b[1;32m     84\u001b[0m                 \u001b[0;32mif\u001b[0m \u001b[0mout\u001b[0m\u001b[0;34m.\u001b[0m\u001b[0mnumel\u001b[0m\u001b[0;34m(\u001b[0m\u001b[0;34m)\u001b[0m \u001b[0;34m!=\u001b[0m \u001b[0;36m1\u001b[0m\u001b[0;34m:\u001b[0m\u001b[0;34m\u001b[0m\u001b[0;34m\u001b[0m\u001b[0m\n\u001b[0;32m---> 85\u001b[0;31m                     \u001b[0;32mraise\u001b[0m \u001b[0mRuntimeError\u001b[0m\u001b[0;34m(\u001b[0m\u001b[0;34m\"grad can be implicitly created only for scalar outputs\"\u001b[0m\u001b[0;34m)\u001b[0m\u001b[0;34m\u001b[0m\u001b[0;34m\u001b[0m\u001b[0m\n\u001b[0m\u001b[1;32m     86\u001b[0m                 \u001b[0mnew_grads\u001b[0m\u001b[0;34m.\u001b[0m\u001b[0mappend\u001b[0m\u001b[0;34m(\u001b[0m\u001b[0mtorch\u001b[0m\u001b[0;34m.\u001b[0m\u001b[0mones_like\u001b[0m\u001b[0;34m(\u001b[0m\u001b[0mout\u001b[0m\u001b[0;34m,\u001b[0m \u001b[0mmemory_format\u001b[0m\u001b[0;34m=\u001b[0m\u001b[0mtorch\u001b[0m\u001b[0;34m.\u001b[0m\u001b[0mpreserve_format\u001b[0m\u001b[0;34m)\u001b[0m\u001b[0;34m)\u001b[0m\u001b[0;34m\u001b[0m\u001b[0;34m\u001b[0m\u001b[0m\n\u001b[1;32m     87\u001b[0m             \u001b[0;32melse\u001b[0m\u001b[0;34m:\u001b[0m\u001b[0;34m\u001b[0m\u001b[0;34m\u001b[0m\u001b[0m\n",
            "\u001b[0;31mRuntimeError\u001b[0m: grad can be implicitly created only for scalar outputs"
          ]
        }
      ],
      "source": [
        "# grad can be implicitly created only for scalar outputs\n",
        "z.backward()"
      ]
    },
    {
      "cell_type": "code",
      "execution_count": 33,
      "metadata": {
        "colab": {
          "base_uri": "https://localhost:8080/"
        },
        "id": "hYtNSqM0mgfo",
        "outputId": "cca1b8bc-5dc3-4148-dfb8-60dbf5e84d16"
      },
      "outputs": [
        {
          "output_type": "stream",
          "name": "stdout",
          "text": [
            "y.requires_grad : True\n",
            "z.requires_grad : True\n",
            "out.requires_grad : True\n",
            "\n",
            "y.grad : None\n",
            "z.grad : None\n",
            "out.grad : None\n",
            "\n",
            "y.grad_fn : None\n",
            "z.grad_fn : <AddBackward0 object at 0x7f32ddaeb9a0>\n",
            "out.grad_fn : <SumBackward0 object at 0x7f32b82944f0>\n"
          ]
        },
        {
          "output_type": "stream",
          "name": "stderr",
          "text": [
            "<ipython-input-33-87717518aad1>:8: UserWarning: The .grad attribute of a Tensor that is not a leaf Tensor is being accessed. Its .grad attribute won't be populated during autograd.backward(). If you indeed want the .grad field to be populated for a non-leaf Tensor, use .retain_grad() on the non-leaf Tensor. If you access the non-leaf Tensor by mistake, make sure you access the leaf Tensor instead. See github.com/pytorch/pytorch/pull/30531 for more informations. (Triggered internally at aten/src/ATen/core/TensorBody.h:480.)\n",
            "  print(\"z.grad :\", z.grad)\n",
            "<ipython-input-33-87717518aad1>:9: UserWarning: The .grad attribute of a Tensor that is not a leaf Tensor is being accessed. Its .grad attribute won't be populated during autograd.backward(). If you indeed want the .grad field to be populated for a non-leaf Tensor, use .retain_grad() on the non-leaf Tensor. If you access the non-leaf Tensor by mistake, make sure you access the leaf Tensor instead. See github.com/pytorch/pytorch/pull/30531 for more informations. (Triggered internally at aten/src/ATen/core/TensorBody.h:480.)\n",
            "  print(\"out.grad :\", out.grad)\n"
          ]
        }
      ],
      "source": [
        "print(\"y.requires_grad :\", y.requires_grad)\n",
        "print(\"z.requires_grad :\", z.requires_grad)\n",
        "print(\"out.requires_grad :\", out.requires_grad)\n",
        "\n",
        "print(\"\")\n",
        "\n",
        "print(\"y.grad :\", y.grad)\n",
        "print(\"z.grad :\", z.grad)\n",
        "print(\"out.grad :\", out.grad)\n",
        "\n",
        "print(\"\")\n",
        "\n",
        "print(\"y.grad_fn :\", y.grad_fn)\n",
        "print(\"z.grad_fn :\", z.grad_fn)\n",
        "print(\"out.grad_fn :\", out.grad_fn)"
      ]
    },
    {
      "cell_type": "code",
      "execution_count": 34,
      "metadata": {
        "id": "Oq0LvWTNmgfp"
      },
      "outputs": [],
      "source": [
        "out.backward()"
      ]
    },
    {
      "cell_type": "code",
      "execution_count": null,
      "metadata": {
        "colab": {
          "base_uri": "https://localhost:8080/"
        },
        "id": "2K5KcoZrmgfp",
        "outputId": "7ff19bd0-082e-4951-b5fa-870a6782879c"
      },
      "outputs": [
        {
          "output_type": "stream",
          "name": "stdout",
          "text": [
            "y.requires_grad : True\n",
            "z.requires_grad : True\n",
            "out.requires_grad : True\n",
            "\n",
            "y.grad : tensor([[2., 2.],\n",
            "        [2., 2.]])\n",
            "z.grad : None\n",
            "out.grad : None\n",
            "\n",
            "y.grad_fn : None\n",
            "z.grad_fn : <AddBackward0 object at 0x7f9420e46d90>\n",
            "out.grad_fn : <SumBackward0 object at 0x7f9420e8fb50>\n"
          ]
        },
        {
          "output_type": "stream",
          "name": "stderr",
          "text": [
            "/usr/local/lib/python3.7/dist-packages/torch/_tensor.py:1013: UserWarning: The .grad attribute of a Tensor that is not a leaf Tensor is being accessed. Its .grad attribute won't be populated during autograd.backward(). If you indeed want the .grad field to be populated for a non-leaf Tensor, use .retain_grad() on the non-leaf Tensor. If you access the non-leaf Tensor by mistake, make sure you access the leaf Tensor instead. See github.com/pytorch/pytorch/pull/30531 for more informations. (Triggered internally at  aten/src/ATen/core/TensorBody.h:417.)\n",
            "  return self._grad\n"
          ]
        }
      ],
      "source": [
        "print(\"y.requires_grad :\", y.requires_grad)\n",
        "print(\"z.requires_grad :\", z.requires_grad)\n",
        "print(\"out.requires_grad :\", out.requires_grad)\n",
        "\n",
        "print(\"\")\n",
        "\n",
        "print(\"y.grad :\", y.grad)\n",
        "print(\"z.grad :\", z.grad)\n",
        "print(\"out.grad :\", out.grad)\n",
        "\n",
        "print(\"\")\n",
        "\n",
        "print(\"y.grad_fn :\", y.grad_fn)\n",
        "print(\"z.grad_fn :\", z.grad_fn)\n",
        "print(\"out.grad_fn :\", out.grad_fn)"
      ]
    },
    {
      "cell_type": "code",
      "execution_count": 35,
      "metadata": {
        "scrolled": true,
        "colab": {
          "base_uri": "https://localhost:8080/"
        },
        "id": "_lQxExv9mgfp",
        "outputId": "3175b1ef-fe55-4953-956e-726762abfd7d"
      },
      "outputs": [
        {
          "output_type": "stream",
          "name": "stdout",
          "text": [
            "y == leaf? :  True\n",
            "z == leaf? :  False\n"
          ]
        }
      ],
      "source": [
        "# By default, gradients are only retained for leaf variables. non-leaf variables\n",
        "# gradients are not retained to be inspected later. This was done by design, to save memory.\n",
        "print(\"y == leaf? : \", y.is_leaf)\n",
        "print(\"z == leaf? : \", z.is_leaf)"
      ]
    },
    {
      "cell_type": "markdown",
      "metadata": {
        "id": "2ukbASiEmgfq"
      },
      "source": [
        "## 2.3 Detach from Autograd & .detach() vs .data"
      ]
    },
    {
      "cell_type": "code",
      "execution_count": 36,
      "metadata": {
        "id": "VPW3175kmgfq",
        "outputId": "7ac97e2b-1213-479b-8264-095d1d67c828",
        "colab": {
          "base_uri": "https://localhost:8080/",
          "height": 183
        }
      },
      "outputs": [
        {
          "output_type": "error",
          "ename": "RuntimeError",
          "evalue": "ignored",
          "traceback": [
            "\u001b[0;31m---------------------------------------------------------------------------\u001b[0m",
            "\u001b[0;31mRuntimeError\u001b[0m                              Traceback (most recent call last)",
            "\u001b[0;32m<ipython-input-36-1a11933b1703>\u001b[0m in \u001b[0;36m<module>\u001b[0;34m\u001b[0m\n\u001b[1;32m      1\u001b[0m \u001b[0;31m# Graph 위에 있는 변수는 바로 numpy로 변환할 수 없음.\u001b[0m\u001b[0;34m\u001b[0m\u001b[0;34m\u001b[0m\u001b[0m\n\u001b[0;32m----> 2\u001b[0;31m \u001b[0mz\u001b[0m\u001b[0;34m.\u001b[0m\u001b[0mnumpy\u001b[0m\u001b[0;34m(\u001b[0m\u001b[0;34m)\u001b[0m\u001b[0;34m\u001b[0m\u001b[0;34m\u001b[0m\u001b[0m\n\u001b[0m",
            "\u001b[0;31mRuntimeError\u001b[0m: Can't call numpy() on Tensor that requires grad. Use tensor.detach().numpy() instead."
          ]
        }
      ],
      "source": [
        "# Graph 위에 있는 변수는 바로 numpy로 변환할 수 없음.\n",
        "z.numpy()"
      ]
    },
    {
      "cell_type": "code",
      "execution_count": 37,
      "metadata": {
        "id": "2t8APrSWmgfq",
        "outputId": "aad68a38-e5f3-48e8-8c8b-320d2c4e6c0e",
        "colab": {
          "base_uri": "https://localhost:8080/"
        }
      },
      "outputs": [
        {
          "output_type": "execute_result",
          "data": {
            "text/plain": [
              "array([[3., 5.],\n",
              "       [7., 9.]], dtype=float32)"
            ]
          },
          "metadata": {},
          "execution_count": 37
        }
      ],
      "source": [
        "# 따라서 .detach와 .data 중 하나를 사용해야함.\n",
        "z.detach().numpy()"
      ]
    },
    {
      "cell_type": "code",
      "execution_count": 38,
      "metadata": {
        "id": "76AXFcNymgfr",
        "outputId": "0965c91c-f898-47d6-8e53-9079430a9b9e",
        "colab": {
          "base_uri": "https://localhost:8080/"
        }
      },
      "outputs": [
        {
          "output_type": "execute_result",
          "data": {
            "text/plain": [
              "array([[3., 5.],\n",
              "       [7., 9.]], dtype=float32)"
            ]
          },
          "metadata": {},
          "execution_count": 38
        }
      ],
      "source": [
        "# 따라서 .detach와 .data 중 하나를 사용해야함.\n",
        "z.data.numpy()"
      ]
    }
  ]
}