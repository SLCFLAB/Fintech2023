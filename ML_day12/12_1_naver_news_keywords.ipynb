{
  "nbformat": 4,
  "nbformat_minor": 0,
  "metadata": {
    "colab": {
      "provenance": [],
      "authorship_tag": "ABX9TyPkzhIgNveAxXcjoi18FZqv",
      "include_colab_link": true
    },
    "kernelspec": {
      "name": "python3",
      "display_name": "Python 3"
    },
    "language_info": {
      "name": "python"
    }
  },
  "cells": [
    {
      "cell_type": "markdown",
      "metadata": {
        "id": "view-in-github",
        "colab_type": "text"
      },
      "source": [
        "<a href=\"https://colab.research.google.com/github/SLCFLAB/Fintech2023/blob/main/ML_day12/12_1_naver_news_keywords.ipynb\" target=\"_parent\"><img src=\"https://colab.research.google.com/assets/colab-badge.svg\" alt=\"Open In Colab\"/></a>"
      ]
    },
    {
      "cell_type": "markdown",
      "source": [
        "# Naver financial news scraping + analyzing\n",
        "\n",
        "In this notebook, you will use bs4 to get news titles from Naver financial news."
      ],
      "metadata": {
        "id": "Zzaou6FuWnCE"
      }
    },
    {
      "cell_type": "markdown",
      "source": [
        "## Install Font\n",
        "Execute the cell below and restart the runtime for colab. (If you are using in your local environment, re-open jupyter notebook."
      ],
      "metadata": {
        "id": "J2TR8swi7WCV"
      }
    },
    {
      "cell_type": "code",
      "source": [
        "!sudo apt-get install -y fonts-nanum\n",
        "!sudo fc-cache -fv\n",
        "!rm ~/.cache/matplotlib -rf"
      ],
      "metadata": {
        "colab": {
          "base_uri": "https://localhost:8080/"
        },
        "id": "otj_NsCv7Mjy",
        "outputId": "7c0a7228-82cb-4bd6-fdb0-c3761a28fb02"
      },
      "execution_count": 1,
      "outputs": [
        {
          "output_type": "stream",
          "name": "stdout",
          "text": [
            "Reading package lists... Done\n",
            "Building dependency tree       \n",
            "Reading state information... Done\n",
            "fonts-nanum is already the newest version (20180306-3).\n",
            "0 upgraded, 0 newly installed, 0 to remove and 30 not upgraded.\n",
            "/usr/share/fonts: caching, new cache contents: 0 fonts, 1 dirs\n",
            "/usr/share/fonts/truetype: caching, new cache contents: 0 fonts, 3 dirs\n",
            "/usr/share/fonts/truetype/humor-sans: caching, new cache contents: 1 fonts, 0 dirs\n",
            "/usr/share/fonts/truetype/liberation: caching, new cache contents: 16 fonts, 0 dirs\n",
            "/usr/share/fonts/truetype/nanum: caching, new cache contents: 31 fonts, 0 dirs\n",
            "/usr/local/share/fonts: caching, new cache contents: 0 fonts, 0 dirs\n",
            "/root/.local/share/fonts: skipping, no such directory\n",
            "/root/.fonts: skipping, no such directory\n",
            "/usr/share/fonts/truetype: skipping, looped directory detected\n",
            "/usr/share/fonts/truetype/humor-sans: skipping, looped directory detected\n",
            "/usr/share/fonts/truetype/liberation: skipping, looped directory detected\n",
            "/usr/share/fonts/truetype/nanum: skipping, looped directory detected\n",
            "/var/cache/fontconfig: cleaning cache directory\n",
            "/root/.cache/fontconfig: not cleaning non-existent cache directory\n",
            "/root/.fontconfig: not cleaning non-existent cache directory\n",
            "fc-cache: succeeded\n"
          ]
        }
      ]
    },
    {
      "cell_type": "markdown",
      "source": [
        "## Scraping + Analyzing"
      ],
      "metadata": {
        "id": "zrJ6rcJo7pCF"
      }
    },
    {
      "cell_type": "code",
      "source": [
        "import pandas as pd\n",
        "from datetime import datetime\n",
        "\n",
        "import requests\n",
        "import urllib\n",
        "from bs4 import BeautifulSoup\n",
        "\n",
        "from tqdm import tqdm"
      ],
      "metadata": {
        "id": "-rsxvd6bMuDF"
      },
      "execution_count": 1,
      "outputs": []
    },
    {
      "cell_type": "code",
      "source": [
        "datelist = pd.date_range(start=\"2022-04-01\", end=\"2022-04-10\").tolist()"
      ],
      "metadata": {
        "id": "Y3Y8wVRnNGyQ"
      },
      "execution_count": 2,
      "outputs": []
    },
    {
      "cell_type": "code",
      "source": [
        "datelist = [int(date.strftime(\"%Y%m%d\")) for date in datelist]"
      ],
      "metadata": {
        "id": "lc7QK35SOLwR"
      },
      "execution_count": 3,
      "outputs": []
    },
    {
      "cell_type": "code",
      "source": [
        "headers = {\n",
        "    'user-agent': # type your own user-agent here\n",
        "}"
      ],
      "metadata": {
        "id": "B7kOXziuOKxI"
      },
      "execution_count": 4,
      "outputs": []
    },
    {
      "cell_type": "code",
      "source": [
        "def get_soup(date, page, headers):\n",
        "  \"\"\"\n",
        "  Input\n",
        "  - date(int): date in integer type\n",
        "  - page(int): number of page\n",
        "  - headers(dict): dictionary of headers for scraping\n",
        "\n",
        "  Output\n",
        "  - soup(bs4.Soup)\n",
        "  \"\"\"\n",
        "  url = f\"https://news.naver.com/main/list.naver?mode=LS2D&sid2=262&sid1=101&mid=shm&date={date}&page={page}\"\n",
        "\n",
        "  response = requests.get(url, headers=headers)\n",
        "\n",
        "  soup = BeautifulSoup(response.text, 'html.parser')\n",
        "\n",
        "  return soup"
      ],
      "metadata": {
        "id": "OP1PTVBAQ-09"
      },
      "execution_count": 5,
      "outputs": []
    },
    {
      "cell_type": "code",
      "source": [
        "def get_titles_list(x):\n",
        "  \n",
        "  \"\"\"\n",
        "  function to get list of news titles in the current url\n",
        "\n",
        "  Input\n",
        "  - x: soup\n",
        "  Output\n",
        "  - titles: list of news titles in current url\n",
        "  \"\"\"\n",
        "  \n",
        "  headline = x.find_all('dl')\n",
        "\n",
        "  titles = []\n",
        "  for item in headline:\n",
        "    try:\n",
        "      title = item.find('dt', {'class' : 'photo'}).find('img')['alt']\n",
        "      titles.append(title)\n",
        "    except:\n",
        "      None\n",
        "  \n",
        "  return titles"
      ],
      "metadata": {
        "id": "3Hw9BP3eP2M5"
      },
      "execution_count": 6,
      "outputs": []
    },
    {
      "cell_type": "code",
      "source": [
        "titles_dict = {}\n",
        "\n",
        "for date in tqdm(datelist, desc=\"Getting requests\"):\n",
        "  \n",
        "  page = 1\n",
        "\n",
        "  soup = get_soup(date, page, headers)\n",
        "\n",
        "  # number of pages for current date\n",
        "  num_iterations = len(soup.find_all('a', {'class': 'nclicks(fls.page)'}))\n",
        "\n",
        "  titles = get_titles_list(soup)\n",
        "\n",
        "  for _ in range(num_iterations):\n",
        "\n",
        "    page += 1\n",
        "    \n",
        "    soup = get_soup(date, page, headers)\n",
        "\n",
        "    cur_titles = get_titles_list(soup)\n",
        "\n",
        "    titles = titles + cur_titles\n",
        "  \n",
        "  titles_dict[date] = titles"
      ],
      "metadata": {
        "colab": {
          "base_uri": "https://localhost:8080/"
        },
        "id": "QxSZ9AmUOcvT",
        "outputId": "dc0962f4-3215-43d4-e54d-8653433829ba"
      },
      "execution_count": 7,
      "outputs": [
        {
          "output_type": "stream",
          "name": "stderr",
          "text": [
            "Getting requests: 100%|██████████| 10/10 [00:34<00:00,  3.40s/it]\n"
          ]
        }
      ]
    },
    {
      "cell_type": "code",
      "source": [
        "titles_dict.keys()"
      ],
      "metadata": {
        "colab": {
          "base_uri": "https://localhost:8080/"
        },
        "id": "upKJMHCSSrVG",
        "outputId": "e0a8ace4-e4c3-49c9-9217-daefebf63903"
      },
      "execution_count": 8,
      "outputs": [
        {
          "output_type": "execute_result",
          "data": {
            "text/plain": [
              "dict_keys([20220401, 20220402, 20220403, 20220404, 20220405, 20220406, 20220407, 20220408, 20220409, 20220410])"
            ]
          },
          "metadata": {},
          "execution_count": 8
        }
      ]
    },
    {
      "cell_type": "code",
      "source": [
        "len(titles_dict.values())"
      ],
      "metadata": {
        "colab": {
          "base_uri": "https://localhost:8080/"
        },
        "id": "NyHFXTEeTJl-",
        "outputId": "c1c6c621-0ac4-4392-b1a4-f4918e396376"
      },
      "execution_count": 9,
      "outputs": [
        {
          "output_type": "execute_result",
          "data": {
            "text/plain": [
              "10"
            ]
          },
          "metadata": {},
          "execution_count": 9
        }
      ]
    },
    {
      "cell_type": "code",
      "source": [
        "import itertools\n",
        "\n",
        "merged_titles = list(itertools.chain.from_iterable([*titles_dict.values()]))"
      ],
      "metadata": {
        "id": "l9SVzd9rUXwu"
      },
      "execution_count": 10,
      "outputs": []
    },
    {
      "cell_type": "code",
      "source": [
        "len(merged_titles)"
      ],
      "metadata": {
        "colab": {
          "base_uri": "https://localhost:8080/"
        },
        "id": "4kUvbLStUvnL",
        "outputId": "ddbc6a25-7fdc-427d-b61d-603a09402a76"
      },
      "execution_count": 11,
      "outputs": [
        {
          "output_type": "execute_result",
          "data": {
            "text/plain": [
              "804"
            ]
          },
          "metadata": {},
          "execution_count": 11
        }
      ]
    },
    {
      "cell_type": "code",
      "source": [
        "merged_titles[0]"
      ],
      "metadata": {
        "colab": {
          "base_uri": "https://localhost:8080/",
          "height": 35
        },
        "id": "Ma5Julh0VJEE",
        "outputId": "09d45a67-a6f8-4c45-9b05-848425c1a187"
      },
      "execution_count": 12,
      "outputs": [
        {
          "output_type": "execute_result",
          "data": {
            "text/plain": [
              "'홍콩 코로나 신규 감염 5823명...총 116만3238명'"
            ],
            "application/vnd.google.colaboratory.intrinsic+json": {
              "type": "string"
            }
          },
          "metadata": {},
          "execution_count": 12
        }
      ]
    },
    {
      "cell_type": "markdown",
      "source": [
        "## Preprocessing"
      ],
      "metadata": {
        "id": "qM6sx-yiWTRa"
      }
    },
    {
      "cell_type": "code",
      "source": [
        "import nltk"
      ],
      "metadata": {
        "id": "JcWy0yFLXBXx"
      },
      "execution_count": 13,
      "outputs": []
    },
    {
      "cell_type": "code",
      "source": [
        "nltk.download('stopwords')\n",
        "nltk.download('wordnet')"
      ],
      "metadata": {
        "colab": {
          "base_uri": "https://localhost:8080/"
        },
        "id": "4p62LZ6aXh_A",
        "outputId": "1bb20c0b-d584-4524-809d-0bb095127094"
      },
      "execution_count": 14,
      "outputs": [
        {
          "output_type": "stream",
          "name": "stderr",
          "text": [
            "[nltk_data] Downloading package stopwords to /root/nltk_data...\n",
            "[nltk_data]   Package stopwords is already up-to-date!\n",
            "[nltk_data] Downloading package wordnet to /root/nltk_data...\n",
            "[nltk_data]   Package wordnet is already up-to-date!\n"
          ]
        },
        {
          "output_type": "execute_result",
          "data": {
            "text/plain": [
              "True"
            ]
          },
          "metadata": {},
          "execution_count": 14
        }
      ]
    },
    {
      "cell_type": "code",
      "source": [
        "from nltk.corpus import stopwords"
      ],
      "metadata": {
        "id": "1kVeLZdDXiXu"
      },
      "execution_count": 15,
      "outputs": []
    },
    {
      "cell_type": "code",
      "source": [
        "!pip install konlpy"
      ],
      "metadata": {
        "colab": {
          "base_uri": "https://localhost:8080/"
        },
        "id": "Bz_l8acZX1Pp",
        "outputId": "c37e328a-fec1-4c61-8cb8-3179ba53533f"
      },
      "execution_count": 16,
      "outputs": [
        {
          "output_type": "stream",
          "name": "stdout",
          "text": [
            "Looking in indexes: https://pypi.org/simple, https://us-python.pkg.dev/colab-wheels/public/simple/\n",
            "Requirement already satisfied: konlpy in /usr/local/lib/python3.9/dist-packages (0.6.0)\n",
            "Requirement already satisfied: lxml>=4.1.0 in /usr/local/lib/python3.9/dist-packages (from konlpy) (4.9.2)\n",
            "Requirement already satisfied: numpy>=1.6 in /usr/local/lib/python3.9/dist-packages (from konlpy) (1.22.4)\n",
            "Requirement already satisfied: JPype1>=0.7.0 in /usr/local/lib/python3.9/dist-packages (from konlpy) (1.4.1)\n",
            "Requirement already satisfied: packaging in /usr/local/lib/python3.9/dist-packages (from JPype1>=0.7.0->konlpy) (23.1)\n"
          ]
        }
      ]
    },
    {
      "cell_type": "code",
      "source": [
        "from konlpy.tag import Okt"
      ],
      "metadata": {
        "id": "BWHZ_kExYgci"
      },
      "execution_count": 17,
      "outputs": []
    },
    {
      "cell_type": "code",
      "source": [
        "okt = Okt()"
      ],
      "metadata": {
        "id": "ul4iNyBTYoAT"
      },
      "execution_count": 18,
      "outputs": []
    },
    {
      "cell_type": "code",
      "source": [
        "okt.morphs(merged_titles[0])"
      ],
      "metadata": {
        "colab": {
          "base_uri": "https://localhost:8080/"
        },
        "id": "qPNOU5wmY3uN",
        "outputId": "2b5d61e7-e3b8-407f-e504-97339874872e"
      },
      "execution_count": 19,
      "outputs": [
        {
          "output_type": "execute_result",
          "data": {
            "text/plain": [
              "['홍콩', '코로나', '신규', '감염', '5823', '명', '...', '총', '116만', '3238', '명']"
            ]
          },
          "metadata": {},
          "execution_count": 19
        }
      ]
    },
    {
      "cell_type": "code",
      "source": [
        "# let's remove numbers and special characters\n",
        "import re\n",
        "\n",
        "ch_removed_titles = [re.sub(r\"[^가-힣ㄱ-ㅎㅏ-ㅣ]\", \" \", title) for title in merged_titles]"
      ],
      "metadata": {
        "id": "m79euxrDaxL5"
      },
      "execution_count": 20,
      "outputs": []
    },
    {
      "cell_type": "code",
      "source": [
        "tokenized_titles = [okt.morphs(title) for title in ch_removed_titles]"
      ],
      "metadata": {
        "id": "VFJwmgngYo8C"
      },
      "execution_count": 21,
      "outputs": []
    },
    {
      "cell_type": "code",
      "source": [
        "tokenized_titles[-1]"
      ],
      "metadata": {
        "colab": {
          "base_uri": "https://localhost:8080/"
        },
        "id": "zVoy0zixZBtW",
        "outputId": "35844290-91ba-4cfc-95a3-3a8bf90b88c6"
      },
      "execution_count": 22,
      "outputs": [
        {
          "output_type": "execute_result",
          "data": {
            "text/plain": [
              "['치솟는', '물가', '아랍', '의', '봄', '재현', '하나']"
            ]
          },
          "metadata": {},
          "execution_count": 22
        }
      ]
    },
    {
      "cell_type": "code",
      "source": [
        "# Source: https://mr-doosun.tistory.com/24\n",
        "stopwords = '아 휴 아이구 아이쿠 아이고 어 나 우리 저희 따라 의해 을 를 에 의 은 가 으로 로 에게 뿐이다 의거하여 근거하여 입각하여 기준으로 예하면 예를 들면 예를 들자면 저 소인 소생 저희 지말고 하지마 하지마라 다른 물론 또한 그리고 비길수 없다 해서는 안된다 뿐만 아니라 만이 아니다 만은 아니다 막론하고 관계없이 그치지 않다 그러나 그런데 하지만 든간에 논하지 않다 따지지 않다 설사 비록 더라도 아니면 만 못하다 하는 편이 낫다 불문하고 향하여 향해서 향하다 쪽으로 틈타 이용하여 타다 오르다 제외하고 이 외에 이 밖에 하여야 비로소 한다면 몰라도 외에도 이곳 여기 부터 기점으로 따라서 할 생각이다 하려고하다 이리하여 그리하여 그렇게 함으로써 하지만 일때 할때 앞에서 중에서 보는데서 으로써 로써 까지 해야한다 일것이다 반드시 할줄알다 할수있다 할수있어 임에 틀림없다 한다면 등 등등 제 겨우 단지 다만 할뿐 딩동 댕그 대해서 대하여 대하면 훨씬 얼마나 얼마만큼 얼마큼 남짓 여 얼마간 약간 다소 좀 조금 다수 몇 얼마 지만 하물며 또한 그러나 그렇지만 하지만 이외에도 대해 말하자면 뿐이다 다음에 반대로 반대로 말하자면 이와 반대로 바꾸어서 말하면 바꾸어서 한다면 만약 그렇지않으면 까악 툭 딱 삐걱거리다 보드득 비걱거리다 꽈당 응당 해야한다 에 가서 각 각각 여러분 각종 각자 제각기 하도록하다 와 과 그러므로 그래서 고로 한 까닭에 하기 때문에 거니와 이지만 대하여 관하여 관한 과연 실로 아니나다를가 생각한대로 진짜로 한적이있다 하곤하였다 하 하하 허허 아하 거바 와 오 왜 어째서 무엇때문에 어찌 하겠는가 무슨 어디 어느곳 더군다나 하물며 더욱이는 어느때 언제 야 이봐 어이 여보시오 흐흐 흥 휴 헉헉 헐떡헐떡 영차 여차 어기여차 끙끙 아야 앗 아야 콸콸 졸졸 좍좍 뚝뚝 주룩주룩 솨 우르르 그래도 또 그리고 바꾸어말하면 바꾸어말하자면 혹은 혹시 답다 및 그에 따르는 때가 되어 즉 지든지 설령 가령 하더라도 할지라도 일지라도 지든지 몇 거의 하마터면 인젠 이젠 된바에야 된이상 만큼 어찌됏든 그위에 게다가 점에서 보아 비추어 보아 고려하면 하게될것이다 일것이다 비교적 좀 보다더 비하면 시키다 하게하다 할만하다 의해서 연이서 이어서 잇따라 뒤따라 뒤이어 결국 의지하여 기대여 통하여 자마자 더욱더 불구하고 얼마든지 마음대로 주저하지 않고 곧 즉시 바로 당장 하자마자 밖에 안된다 하면된다 그래 그렇지 요컨대 다시 말하자면 바꿔 말하면 즉 구체적으로 말하자면 시작하여 시초에 이상 허 헉 허걱 바와같이 해도좋다 해도된다 게다가 더구나 하물며 와르르 팍 퍽 펄렁 동안 이래 하고있었다 이었다 에서 로부터 까지 예하면 했어요 해요 함께 같이 더불어 마저 마저도 양자 모두 습니다 가까스로 하려고하다 즈음하여 다른 다른 방면으로 해봐요 습니까 했어요 말할것도 없고 무릎쓰고 개의치않고 하는것만 못하다 하는것이 낫다 매 매번 들 모 어느것 어느 로써 갖고말하자면 어디 어느쪽 어느것 어느해 어느 년도 라 해도 언젠가 어떤것 어느것 저기 저쪽 저것 그때 그럼 그러면 요만한걸 그래 그때 저것만큼 그저 이르기까지 할 줄 안다 할 힘이 있다 너 너희 당신 어찌 설마 차라리 할지언정 할지라도 할망정 할지언정 구토하다 게우다 토하다 메쓰겁다 옆사람 퉤 쳇 의거하여 근거하여 의해 따라 힘입어 그 다음 버금 두번째로 기타 첫번째로 나머지는 그중에서 견지에서 형식으로 쓰여 입장에서 위해서 단지 의해되다 하도록시키다 뿐만아니라 반대로 전후 전자 앞의것 잠시 잠깐 하면서 그렇지만 다음에 그러한즉 그런즉 남들 아무거나 어찌하든지 같다 비슷하다 예컨대 이럴정도로 어떻게 만약 만일 위에서 서술한바와같이 인 듯하다 하지 않는다면 만약에 무엇 무슨 어느 어떤 아래윗 조차 한데 그럼에도 불구하고 여전히 심지어 까지도 조차도 하지 않도록 않기 위하여 때 시각 무렵 시간 동안 어때 어떠한 하여금 네 예 우선 누구 누가 알겠는가 아무도 줄은모른다 줄은 몰랏다 하는 김에 겸사겸사 하는바 그런 까닭에 한 이유는 그러니 그러니까 때문에 그 너희 그들 너희들 타인 것 것들 너 위하여 공동으로 동시에 하기 위하여 어찌하여 무엇때문에 붕붕 윙윙 나 우리 엉엉 휘익 윙윙 오호 아하 어쨋든 만 못하다 하기보다는 차라리 하는 편이 낫다 흐흐 놀라다 상대적으로 말하자면 마치 아니라면 쉿 그렇지 않으면 그렇지 않다면 안 그러면 아니었다면 하든지 아니면 이라면 좋아 알았어 하는것도 그만이다 어쩔수 없다 하나 일 일반적으로 일단 한켠으로는 오자마자 이렇게되면 이와같다면 전부 한마디 한항목 근거로 하기에 아울러 하지 않도록 않기 위해서 이르기까지 이 되다 로 인하여 까닭으로 이유만으로 이로 인하여 그래서 이 때문에 그러므로 그런 까닭에 알 수 있다 결론을 낼 수 있다 으로 인하여 있다 어떤것 관계가 있다 관련이 있다 연관되다 어떤것들 에 대해 이리하여 그리하여 여부 하기보다는 하느니 하면 할수록 운운 이러이러하다 하구나 하도다 다시말하면 다음으로 에 있다 에 달려 있다 우리 우리들 오히려 하기는한데 어떻게 어떻해 어찌됏어 어때 어째서 본대로 자 이 이쪽 여기 이것 이번 이렇게말하자면 이런 이러한 이와 같은 요만큼 요만한 것 얼마 안 되는 것 이만큼 이 정도의 이렇게 많은 것 이와 같다 이때 이렇구나 것과 같이 끼익 삐걱 따위 와 같은 사람들 부류의 사람들 왜냐하면 중의하나 오직 오로지 에 한하다 하기만 하면 도착하다 까지 미치다 도달하다 정도에 이르다 할 지경이다 결과에 이르다 관해서는 여러분 하고 있다 한 후 혼자 자기 자기집 자신 우에 종합한것과같이 총적으로 보면 총적으로 말하면 총적으로 대로 하다 으로서 참 그만이다 할 따름이다 쿵 탕탕 쾅쾅 둥둥 봐 봐라 아이야 아니 와아 응 아이 참나 년 월 일 령 영 일 이 삼 사 오 육 륙 칠 팔 구 이천육 이천칠 이천팔 이천구 하나 둘 셋 넷 다섯 여섯 일곱 여덟 아홉 령 영 이 있 하 것 들 그 되 수 이 보 않 없 나 사람 주 아니 등 같 우리 때 년 가 한 지 대하 오 말 일 그렇 위하 때문 그것 두 말하 알 그러나 받 못하 일 그런 또 문제 더 사회 많 그리고 좋 크 따르 중 나오 가지 씨 시키 만들 지금 생각하 그러 속 하나 집 살 모르 적 월 데 자신 안 어떤 내 내 경우 명 생각 시간 그녀 다시 이런 앞 보이 번 나 다른 어떻 여자 개 전 들 사실 이렇 점 싶 말 정도 좀 원 잘 통하 놓'.split(' ')"
      ],
      "metadata": {
        "id": "qhmsKSGoZaSz"
      },
      "execution_count": 23,
      "outputs": []
    },
    {
      "cell_type": "code",
      "source": [
        "titles_final = [[word for word in title if word not in stopwords] for title in tokenized_titles]"
      ],
      "metadata": {
        "id": "waiiPLKpZ2qP"
      },
      "execution_count": 24,
      "outputs": []
    },
    {
      "cell_type": "code",
      "source": [
        "titles_final[0]"
      ],
      "metadata": {
        "colab": {
          "base_uri": "https://localhost:8080/"
        },
        "id": "fvXzPHrvdE5P",
        "outputId": "918e7634-fb2f-4b66-aa38-d22d2d454c49"
      },
      "execution_count": 25,
      "outputs": [
        {
          "output_type": "execute_result",
          "data": {
            "text/plain": [
              "['홍콩', '코로나', '신규', '감염', '총']"
            ]
          },
          "metadata": {},
          "execution_count": 25
        }
      ]
    },
    {
      "cell_type": "markdown",
      "source": [
        "## Keyword Analysis\n",
        "\n",
        "There are a lot of ways that you can extract keywords from a document. For those of you who are interested in this topic, I highly recommend you to google **PageRank** and **TextRank** algorithm. Similar concept such as **Collaborative Filtering** is used in recommender system. "
      ],
      "metadata": {
        "id": "rRLf9a43dF2y"
      }
    },
    {
      "cell_type": "markdown",
      "source": [
        "Instead of using fancy algorithms, in this notebook, we will use näive Counter model. Idea is pretty simple. If two words A and B co-occur a lot, it's more likely to say that they are highly correlated and B is a related keyword for A."
      ],
      "metadata": {
        "id": "4lRGOSdfftn8"
      }
    },
    {
      "cell_type": "code",
      "source": [
        "titles_final[:10]"
      ],
      "metadata": {
        "colab": {
          "base_uri": "https://localhost:8080/"
        },
        "id": "u2FpvuryieUS",
        "outputId": "0ba671ef-d600-424f-b76b-4f85505f6f63"
      },
      "execution_count": 26,
      "outputs": [
        {
          "output_type": "execute_result",
          "data": {
            "text/plain": [
              "[['홍콩', '코로나', '신규', '감염', '총'],\n",
              " ['미', '실업률', '역대', '최저', '근접', '연', '준', '빅스', '텝', '밟을듯'],\n",
              " ['미국', '공급', '확대', '혜주', '크레디트', '스위스', '꼽', '종목', '뉴욕', '오프닝'],\n",
              " ['신규', '일자리', '코로나', '타격', '일자리', '회복'],\n",
              " ['뉴욕', '개장', '실업률', '만에', '최저', '치', '상승', '출발'],\n",
              " ['러', '외무', '장관', '평화', '협상', '진전', '우', '크라', '제안', '회신', '준비'],\n",
              " ['비', '농업', '부문', '일자리', '증가', '실업률'],\n",
              " ['골드만삭스', '델', '투자', '의견', '중립', '하향', '수요', '줄어'],\n",
              " ['유로존', '물가상승률', '사상', '최고', '치', '경신'],\n",
              " ['유로존', '인플레', '미국', '추격']]"
            ]
          },
          "metadata": {},
          "execution_count": 26
        }
      ]
    },
    {
      "cell_type": "code",
      "source": [
        "us = [title for title in titles_final if '미국' in title]"
      ],
      "metadata": {
        "id": "2ET-cS3bihC_"
      },
      "execution_count": 27,
      "outputs": []
    },
    {
      "cell_type": "code",
      "source": [
        "us"
      ],
      "metadata": {
        "colab": {
          "base_uri": "https://localhost:8080/"
        },
        "id": "cZAeg7b6nlrR",
        "outputId": "bed8ee62-734d-4626-dd9a-c728aaad4502"
      },
      "execution_count": 28,
      "outputs": [
        {
          "output_type": "execute_result",
          "data": {
            "text/plain": [
              "[['미국', '공급', '확대', '혜주', '크레디트', '스위스', '꼽', '종목', '뉴욕', '오프닝'],\n",
              " ['유로존', '인플레', '미국', '추격'],\n",
              " ['미국', '부동산', '고', '치솟아', '버블', '징후', '발견', '돼'],\n",
              " ['핌', '코', '아문디', '미국', '침체', '빠질', '가능성', '낮다'],\n",
              " ['대출', '금리', '올라도', '미국', '집값', '과열', '진정', '시키지', '못'],\n",
              " ['미국', '역대', '급', '비축', '유', '방출', '유가', '급락'],\n",
              " ['미국', '전략', '비축', '유', '방출', '결정', '국제', '유가', '급락', '뉴욕증시', '대', '하락'],\n",
              " ['미국', '전략', '비축', '유', '방출', '결정', '국제', '유가', '급락', '상보'],\n",
              " ['속보', '미국', '전략', '비축', '유', '방출', '결정', '유가', '급락'],\n",
              " ['미국', '시카고', '급상승', '회복'],\n",
              " ['미국', '원유', '생산', '량', '일일', '배럴', '전월', '보다', '감소'],\n",
              " ['미국', '월간', '전략', '비축', '유', '하루', '배럴', '추가', '방출'],\n",
              " ['미국', '도', '미친', '집값', '대출', '금리', '오르는데도', '오른다고'],\n",
              " ['미국', '빅스', '텝', '올', '차례', '금리', '인상', '전망', '월부'],\n",
              " ['매물', '미국', '미친', '집값', '악성', '인플레', '미국'],\n",
              " ['중국', '기업', '미국', '증시', '퇴', '출', '막는다', '회계', '감독', '권', '완화'],\n",
              " ['보험', '서비스', '도', '비건', '시대', '미국', '이스라엘', '들여다보니'],\n",
              " ['모간', '경고', '미국', '경제', '전례', '없는', '위험', '뉴욕증시', '나우'],\n",
              " ['연봉', '억', '한국', '계', '조', '셉', '배', '미국', '서', '몸값', '가장', '높은'],\n",
              " ['푸틴', '영웅', '미국', '잘못', '친러', '다큐', '사상', '교육', '나선'],\n",
              " ['래', '최고', '양호', '한편', '미국', '유럽', '사상', '최고'],\n",
              " ['미국', '고', '인플레', '부익부', '빈익빈', '심화', '전망'],\n",
              " ['도이체방크', '내년', '미국', '경기', '침체', '빠질'],\n",
              " ['미국', '당국', '화재', '위험', '엔솔', '전기차', '배터리', '조사'],\n",
              " ['미국', '실업', '수당', '만에', '최저', '만건', '신청'],\n",
              " ['유럽', '증시', '미국', '금융긴축', '러시아', '제재', '하락', '마감', '런던'],\n",
              " ['올', '댓', '차이나', '홍콩', '증시', '미국', '장기', '금리', '상승', '속락', '개장']]"
            ]
          },
          "metadata": {},
          "execution_count": 28
        }
      ]
    },
    {
      "cell_type": "code",
      "source": [
        "us_excluded = [word for word in list(itertools.chain.from_iterable([*us])) if word != '미국']"
      ],
      "metadata": {
        "id": "NTFoUcncnma0"
      },
      "execution_count": 29,
      "outputs": []
    },
    {
      "cell_type": "code",
      "source": [
        "len(us_excluded)"
      ],
      "metadata": {
        "colab": {
          "base_uri": "https://localhost:8080/"
        },
        "id": "tR8RFuHOoGVe",
        "outputId": "3f414c8e-8efa-4eb0-efad-543f5590be7e"
      },
      "execution_count": 30,
      "outputs": [
        {
          "output_type": "execute_result",
          "data": {
            "text/plain": [
              "201"
            ]
          },
          "metadata": {},
          "execution_count": 30
        }
      ]
    },
    {
      "cell_type": "code",
      "source": [
        "us_excluded[:5]"
      ],
      "metadata": {
        "colab": {
          "base_uri": "https://localhost:8080/"
        },
        "id": "hOi53CL7oG-R",
        "outputId": "c4738162-8c0b-4b01-db2c-3cb0f4c70540"
      },
      "execution_count": 31,
      "outputs": [
        {
          "output_type": "execute_result",
          "data": {
            "text/plain": [
              "['공급', '확대', '혜주', '크레디트', '스위스']"
            ]
          },
          "metadata": {},
          "execution_count": 31
        }
      ]
    },
    {
      "cell_type": "code",
      "source": [
        "# let's count\n",
        "import collections\n",
        "\n",
        "num_keyword = 7\n",
        "print(collections.Counter(us_excluded).most_common(num_keyword))"
      ],
      "metadata": {
        "colab": {
          "base_uri": "https://localhost:8080/"
        },
        "id": "iVFXJl_Uoeol",
        "outputId": "bd410c77-ae3d-4e64-eaed-3f1afa048165"
      },
      "execution_count": 32,
      "outputs": [
        {
          "output_type": "stream",
          "name": "stdout",
          "text": [
            "[('비축', 5), ('유', 5), ('방출', 5), ('금리', 4), ('유가', 4), ('급락', 4), ('전략', 4)]\n"
          ]
        }
      ]
    },
    {
      "cell_type": "markdown",
      "source": [
        "### Visualize"
      ],
      "metadata": {
        "id": "SvC7ayWqpBTH"
      }
    },
    {
      "cell_type": "code",
      "source": [
        "!pip install wordcloud"
      ],
      "metadata": {
        "colab": {
          "base_uri": "https://localhost:8080/"
        },
        "id": "OynO9n0hpLA-",
        "outputId": "79ec3f15-4387-4847-beb7-8fcbcb486cd1"
      },
      "execution_count": 33,
      "outputs": [
        {
          "output_type": "stream",
          "name": "stdout",
          "text": [
            "Looking in indexes: https://pypi.org/simple, https://us-python.pkg.dev/colab-wheels/public/simple/\n",
            "Requirement already satisfied: wordcloud in /usr/local/lib/python3.9/dist-packages (1.8.2.2)\n",
            "Requirement already satisfied: matplotlib in /usr/local/lib/python3.9/dist-packages (from wordcloud) (3.7.1)\n",
            "Requirement already satisfied: numpy>=1.6.1 in /usr/local/lib/python3.9/dist-packages (from wordcloud) (1.22.4)\n",
            "Requirement already satisfied: pillow in /usr/local/lib/python3.9/dist-packages (from wordcloud) (8.4.0)\n",
            "Requirement already satisfied: contourpy>=1.0.1 in /usr/local/lib/python3.9/dist-packages (from matplotlib->wordcloud) (1.0.7)\n",
            "Requirement already satisfied: kiwisolver>=1.0.1 in /usr/local/lib/python3.9/dist-packages (from matplotlib->wordcloud) (1.4.4)\n",
            "Requirement already satisfied: fonttools>=4.22.0 in /usr/local/lib/python3.9/dist-packages (from matplotlib->wordcloud) (4.39.3)\n",
            "Requirement already satisfied: packaging>=20.0 in /usr/local/lib/python3.9/dist-packages (from matplotlib->wordcloud) (23.1)\n",
            "Requirement already satisfied: importlib-resources>=3.2.0 in /usr/local/lib/python3.9/dist-packages (from matplotlib->wordcloud) (5.12.0)\n",
            "Requirement already satisfied: cycler>=0.10 in /usr/local/lib/python3.9/dist-packages (from matplotlib->wordcloud) (0.11.0)\n",
            "Requirement already satisfied: python-dateutil>=2.7 in /usr/local/lib/python3.9/dist-packages (from matplotlib->wordcloud) (2.8.2)\n",
            "Requirement already satisfied: pyparsing>=2.3.1 in /usr/local/lib/python3.9/dist-packages (from matplotlib->wordcloud) (3.0.9)\n",
            "Requirement already satisfied: zipp>=3.1.0 in /usr/local/lib/python3.9/dist-packages (from importlib-resources>=3.2.0->matplotlib->wordcloud) (3.15.0)\n",
            "Requirement already satisfied: six>=1.5 in /usr/local/lib/python3.9/dist-packages (from python-dateutil>=2.7->matplotlib->wordcloud) (1.16.0)\n"
          ]
        }
      ]
    },
    {
      "cell_type": "code",
      "source": [
        "from wordcloud import WordCloud\n",
        "import matplotlib.pyplot as plt\n",
        "%matplotlib inline\n",
        "import matplotlib.font_manager as fm"
      ],
      "metadata": {
        "id": "-ala7UufpI1y"
      },
      "execution_count": 34,
      "outputs": []
    },
    {
      "cell_type": "code",
      "source": [
        "path = '/usr/share/fonts/truetype/nanum/NanumGothic.ttf'  # install font\n",
        "font_name = fm.FontProperties(fname = path, size=10).get_name()\n",
        "print(font_name)\n",
        "plt.rc('font',family = font_name)\n",
        "print(plt.rcParams['font.family'])"
      ],
      "metadata": {
        "colab": {
          "base_uri": "https://localhost:8080/"
        },
        "id": "rXfR6aGspWKp",
        "outputId": "a43956e7-f465-41f2-92c1-dc7c0d33d8a1"
      },
      "execution_count": 35,
      "outputs": [
        {
          "output_type": "stream",
          "name": "stdout",
          "text": [
            "NanumGothic\n",
            "['NanumGothic']\n"
          ]
        }
      ]
    },
    {
      "cell_type": "code",
      "source": [
        "fm.findfont(font_name, rebuild_if_missing=True)"
      ],
      "metadata": {
        "colab": {
          "base_uri": "https://localhost:8080/",
          "height": 35
        },
        "id": "Es5vcnLo5n1S",
        "outputId": "07e12d2f-100d-45d7-ba62-a77bf077c6e7"
      },
      "execution_count": 36,
      "outputs": [
        {
          "output_type": "execute_result",
          "data": {
            "text/plain": [
              "'/usr/share/fonts/truetype/nanum/NanumGothic.ttf'"
            ],
            "application/vnd.google.colaboratory.intrinsic+json": {
              "type": "string"
            }
          },
          "metadata": {},
          "execution_count": 36
        }
      ]
    },
    {
      "cell_type": "code",
      "source": [
        "# generate wordcloud\n",
        "# wc_title = WordCloud(font_path=font_path,width=5000, height=5000, scale=6.0, max_font_size=2500)\n",
        "wc_title = WordCloud(font_path=path)\n",
        "gen_title = wc_title.generate_from_frequencies(collections.Counter(us_excluded))\n",
        "plt.figure()\n",
        "plt.imshow(gen_title)"
      ],
      "metadata": {
        "colab": {
          "base_uri": "https://localhost:8080/",
          "height": 329
        },
        "id": "cZcghswIoqlH",
        "outputId": "b1809767-beb0-486e-83d2-82b9e93341f0"
      },
      "execution_count": 37,
      "outputs": [
        {
          "output_type": "execute_result",
          "data": {
            "text/plain": [
              "<matplotlib.image.AxesImage at 0x7fcff1ff1eb0>"
            ]
          },
          "metadata": {},
          "execution_count": 37
        },
        {
          "output_type": "display_data",
          "data": {
            "text/plain": [
              "<Figure size 640x480 with 1 Axes>"
            ],
            "image/png": "[encoded data removed]"
          },
          "metadata": {}
        }
      ]
    }
  ]
}