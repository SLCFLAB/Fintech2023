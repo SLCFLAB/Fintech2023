{
  "cells": [
    {
      "cell_type": "markdown",
      "source": [
        "# Word Embedding"
      ],
      "metadata": {
        "id": "Z7FBcTcPLOfq"
      }
    },
    {
      "cell_type": "markdown",
      "source": [
        "자연어차리는 언어데이터를 기반으로 정보를 추출하고 분석, 활용하는 기술\n",
        "- 분석 단위 설정: 토큰화(Tokenize)\n",
        "- 불필요한 단어 제거: 스토핑(Stopping)\n",
        "> a, the, 은, 는, 이, 가\n",
        "- 단어의 형태 고려: 스테밍(Stemming)\n",
        "> ed, ing, 하다, 했다, 할 것이다\n"
      ],
      "metadata": {
        "id": "hvdQPk7tRKgI"
      }
    },
    {
      "cell_type": "markdown",
      "source": [
        "이렇게 전처리 한 후 어떻게 해야할까?\n",
        "> Word Embedding(단어를 벡터화 하는 것)\n",
        "- Bag of Words\n",
        "- Word2Vec"
      ],
      "metadata": {
        "id": "_tSWrBXfSIWg"
      }
    },
    {
      "cell_type": "markdown",
      "source": [
        "## Word2Vec"
      ],
      "metadata": {
        "id": "omU5n4ixUJMZ"
      }
    },
    {
      "cell_type": "markdown",
      "source": [
        "http://w.elnn.kr/search/ 단어간의 유사도 측정"
      ],
      "metadata": {
        "id": "9Pbl9km_Y4kw"
      }
    },
    {
      "cell_type": "markdown",
      "source": [
        "단어를 벡터로 바꿔서 단어간의 연산이 가능하도록 만들었다: 비슷한 위치의 단어는 비슷한 의미를 가진다"
      ],
      "metadata": {
        "id": "C_v0oMUEaTmm"
      }
    },
    {
      "cell_type": "code",
      "execution_count": null,
      "metadata": {
        "id": "34392ba0"
      },
      "outputs": [],
      "source": [
        "from gensim.models import Word2Vec"
      ]
    },
    {
      "cell_type": "code",
      "execution_count": null,
      "metadata": {
        "colab": {
          "base_uri": "https://localhost:8080/"
        },
        "id": "61abb9a8",
        "outputId": "74528218-a240-4edb-c725-d124fe49bfc8"
      },
      "outputs": [
        {
          "output_type": "stream",
          "name": "stdout",
          "text": [
            "Word2Vec(vocab=14, size=100, alpha=0.025)\n"
          ]
        }
      ],
      "source": [
        "# define training data\n",
        "sentences = [['this', 'is', 'the', 'first', 'sentence', 'for', 'word2vec'],\n",
        "             ['this', 'is', 'the', 'second', 'sentence'],\n",
        "             ['yet', 'another', 'sentence'],\n",
        "             ['one', 'more', 'sentence'],\n",
        "             ['and', 'the', 'final', 'sentence']]\n",
        "# train model\n",
        "# 문장을 이용하여 단어와 벡터를 생성한다.\n",
        "model = Word2Vec(sentences, min_count=1) #min count: 빈도 작은 것은 학습하지 않기 위해서\n",
        "# summarize the loaded model\n",
        "print(model)"
      ]
    },
    {
      "cell_type": "code",
      "source": [
        "# 단어벡터를 구하고, 단어간 유사도를 확인하다\n",
        "model_result = model.wv.most_similar(\"this\")\n",
        "print(model_result)"
      ],
      "metadata": {
        "colab": {
          "base_uri": "https://localhost:8080/"
        },
        "id": "M_H92ioNkuMC",
        "outputId": "6464fe0b-b59d-4a65-b17f-e8b12bb40e50"
      },
      "execution_count": null,
      "outputs": [
        {
          "output_type": "stream",
          "name": "stdout",
          "text": [
            "[('is', 0.2356736660003662), ('yet', 0.16455909609794617), ('final', 0.16245020925998688), ('more', 0.09147600829601288), ('and', 0.08108092099428177), ('sentence', 0.06762610375881195), ('first', 0.016863994300365448), ('for', 0.012674249708652496), ('the', -0.03223539516329765), ('second', -0.08764021098613739)]\n"
          ]
        }
      ]
    },
    {
      "cell_type": "code",
      "source": [
        "model.wv.most_similar(\"this\")"
      ],
      "metadata": {
        "colab": {
          "base_uri": "https://localhost:8080/"
        },
        "id": "cHavfJkXk6dI",
        "outputId": "2d9bbc99-c97f-4ffc-a20e-fb5e1d853287"
      },
      "execution_count": null,
      "outputs": [
        {
          "output_type": "execute_result",
          "data": {
            "text/plain": [
              "[('is', 0.2356736660003662),\n",
              " ('yet', 0.16455909609794617),\n",
              " ('final', 0.16245020925998688),\n",
              " ('more', 0.09147600829601288),\n",
              " ('and', 0.08108092099428177),\n",
              " ('sentence', 0.06762610375881195),\n",
              " ('first', 0.016863994300365448),\n",
              " ('for', 0.012674249708652496),\n",
              " ('the', -0.03223539516329765),\n",
              " ('second', -0.08764021098613739)]"
            ]
          },
          "metadata": {},
          "execution_count": 38
        }
      ]
    },
    {
      "cell_type": "code",
      "source": [
        "model.wv.similarity(w1='first', w2='second')"
      ],
      "metadata": {
        "id": "6ehLr_QKVT-o",
        "outputId": "0b591bf9-6f65-46b0-b1f8-a6dd5217acd1",
        "colab": {
          "base_uri": "https://localhost:8080/"
        }
      },
      "execution_count": null,
      "outputs": [
        {
          "output_type": "execute_result",
          "data": {
            "text/plain": [
              "0.08261504"
            ]
          },
          "metadata": {},
          "execution_count": 48
        }
      ]
    },
    {
      "cell_type": "code",
      "execution_count": null,
      "metadata": {
        "id": "3e3a528e"
      },
      "outputs": [],
      "source": [
        "import gensim.downloader"
      ]
    },
    {
      "cell_type": "code",
      "execution_count": null,
      "metadata": {
        "colab": {
          "base_uri": "https://localhost:8080/"
        },
        "id": "004bd549",
        "outputId": "430f307a-d775-40e2-ed2a-32f0784794a4"
      },
      "outputs": [
        {
          "output_type": "stream",
          "name": "stdout",
          "text": [
            "['fasttext-wiki-news-subwords-300', 'conceptnet-numberbatch-17-06-300', 'word2vec-ruscorpora-300', 'word2vec-google-news-300', 'glove-wiki-gigaword-50', 'glove-wiki-gigaword-100', 'glove-wiki-gigaword-200', 'glove-wiki-gigaword-300', 'glove-twitter-25', 'glove-twitter-50', 'glove-twitter-100', 'glove-twitter-200', '__testing_word2vec-matrix-synopsis']\n"
          ]
        }
      ],
      "source": [
        "print(list(gensim.downloader.info()['models'].keys()))"
      ]
    },
    {
      "cell_type": "code",
      "source": [
        "from gensim.models import Word2Vec\n",
        "import matplotlib.pyplot as plt\n",
        " \n",
        "# 단어와 2차원 X축의 값, Y축의 값을 입력받아 2차원 그래프를 그린다\n",
        "def plot_2d_graph(vocabs, xs, ys):\n",
        "    plt.figure(figsize=(8 ,6))\n",
        "    plt.scatter(xs, ys, marker = 'o')\n",
        "    for i, v in enumerate(vocabs):\n",
        "        plt.annotate(v, xy=(xs[i], ys[i]))\n",
        " \n",
        " \n",
        "# 단어벡터를 구한다.\n",
        "word_vectors = model.wv\n",
        " \n",
        "vocabs            = word_vectors.vocab.keys()\n",
        "word_vectors_list = [word_vectors[v] for v in vocabs]\n",
        "\n",
        " \n",
        "from sklearn.decomposition import PCA\n",
        "pca = PCA(n_components=2)\n",
        "xys = pca.fit_transform(word_vectors_list)\n",
        "xs = xys[:,0]\n",
        "ys = xys[:,1]\n",
        " \n",
        "plot_2d_graph(vocabs, xs, ys)"
      ],
      "metadata": {
        "id": "RzfCNVuMUZwG",
        "outputId": "2030850d-a9f7-4621-81fe-6e70295bb858",
        "colab": {
          "base_uri": "https://localhost:8080/",
          "height": 374
        }
      },
      "execution_count": null,
      "outputs": [
        {
          "output_type": "display_data",
          "data": {
            "text/plain": [
              "<Figure size 576x432 with 1 Axes>"
            ],
            "image/png": "[encoded data removed]"
          },
          "metadata": {
            "needs_background": "light"
          }
        }
      ]
    },
    {
      "cell_type": "code",
      "source": [],
      "metadata": {
        "id": "qSOWc2YzSORx"
      },
      "execution_count": null,
      "outputs": []
    }
  ],
  "metadata": {
    "kernelspec": {
      "display_name": "Python 3",
      "language": "python",
      "name": "python3"
    },
    "language_info": {
      "codemirror_mode": {
        "name": "ipython",
        "version": 3
      },
      "file_extension": ".py",
      "mimetype": "text/x-python",
      "name": "python",
      "nbconvert_exporter": "python",
      "pygments_lexer": "ipython3",
      "version": "3.6.5"
    },
    "varInspector": {
      "cols": {
        "lenName": 16,
        "lenType": 16,
        "lenVar": 40
      },
      "kernels_config": {
        "python": {
          "delete_cmd_postfix": "",
          "delete_cmd_prefix": "del ",
          "library": "var_list.py",
          "varRefreshCmd": "print(var_dic_list())"
        },
        "r": {
          "delete_cmd_postfix": ") ",
          "delete_cmd_prefix": "rm(",
          "library": "var_list.r",
          "varRefreshCmd": "cat(var_dic_list()) "
        }
      },
      "types_to_exclude": [
        "module",
        "function",
        "builtin_function_or_method",
        "instance",
        "_Feature"
      ],
      "window_display": false
    },
    "colab": {
      "name": "ML_day13_2",
      "provenance": []
    },
    "accelerator": "GPU"
  },
  "nbformat": 4,
  "nbformat_minor": 0
}